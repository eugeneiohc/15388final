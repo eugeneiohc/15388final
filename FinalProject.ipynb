{
 "cells": [
  {
   "cell_type": "markdown",
   "metadata": {},
   "source": [
    "# Introduction\n",
    "What's the last school shooting you remember? If you're on top of your news, then you'll know it was the Pleasantville, New Jersey shooting, a little over a week ago (from the time this was written). \n",
    "Do you remember the details, though?\n",
    "Probably not.\n",
    "\n",
    "What about the shooting the day right before Pleasantville? Or the two in October?\n",
    "The problem is clear: school shootings are a regular occurrence and it's hard to keep track of them all, let alone the details of each one.\n",
    "In fact, according to Wikipedia, there were 64 US school shootings from 2000-2009, 87 from 2010-2014, and 113 from 2015-November 2019. \n",
    "If these numbers seem lower than you expected, remember that these are ONLY school shootings, not mass shootings. The numbers there are staggering: 2,138 since 2013, roughly one a day. The number changes a bit depending on how you define a mass shooting, but either way the point remains: the number of shootings that occur in the U.S. is unacceptably high.\n",
    "\n",
    "For this project we want to focus on school shootings, as the definition of school shooting is much more clearly defined and can be analyzed easier with a smaller timeframe. Our goal is to find causes of the spike in shootings, especially in the past decade.\n",
    "It's important to note that none of us want to push any sort of policy or idea or agenda here: we want to stay as neutral as possible.\n",
    "\n",
    "        \n",
    "# Installation\n",
    "\n",
    "\n",
    "# References\n",
    "https://en.wikipedia.org/wiki/List_of_school_shootings_in_the_United_States\n",
    "https://en.wikipedia.org/wiki/Mass_shootings_in_the_United_States\n",
    "https://en.wikipedia.org/wiki/List_of_school_shootings_in_the_United_States_(before_2000)#20th_century\n",
    "https://en.wikipedia.org/wiki/List_of_unsuccessful_attacks_related_to_schools\n"
   ]
  }
 ],
 "metadata": {
  "kernelspec": {
   "display_name": "Python 3",
   "language": "python",
   "name": "python3"
  },
  "language_info": {
   "codemirror_mode": {
    "name": "ipython",
    "version": 3
   },
   "file_extension": ".py",
   "mimetype": "text/x-python",
   "name": "python",
   "nbconvert_exporter": "python",
   "pygments_lexer": "ipython3",
   "version": "3.7.3"
  }
 },
 "nbformat": 4,
 "nbformat_minor": 2
}
