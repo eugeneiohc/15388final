{
 "cells": [
  {
   "cell_type": "markdown",
   "metadata": {},
   "source": [
    "# Introduction\n",
    "What's the last school shooting you remember? If you're on top of your news, then you'll know it was the Oshkosh, Washington shooting, about a week ago (from the time this was written). \n",
    "Do you remember the details, though?\n",
    "Probably not.\n",
    "\n",
    "What about the shooting the day right before Oshkosh? Or the four in November?\n",
    "The problem is clear: school shootings are a regular occurrence and it's hard to keep track of them all, let alone the details of each one.\n",
    "In fact, according to Wikipedia, there were 64 US school shootings from 2000-2009, 87 from 2010-2014, and 113 from 2015-November 2019. \n",
    "If these numbers seem lower than you expected, remember that these are ONLY school shootings, not mass shootings. The numbers there are staggering: 2,138 since 2013, roughly one a day. The number changes a bit depending on how you define a mass shooting, but either way the point remains: the number of shootings that occur in the U.S. is unacceptably high.\n",
    "\n",
    "## Why are we doing analysis on this topic?\n",
    "Our group recognizes that school shootings are an extremely sensitive topic, and we don't want anyone or any of their friends to ever go through an event like this. We want to research this topic and first find out if any specific shootings are getting more coverage than others because they should all have the same amount coverage from an ethical standpoint. \n",
    "\n",
    "For this project we want to focus on school shootings, as the definition of school shooting is much more clearly defined and can be analyzed easier with a smaller timeframe. Our goal is to find causes of the spike in shootings, especially in the past decade. From this coverage, we also want to determine if there are factors of the shooting that increased the chance of the shooting to occur. This does not mean that we are simply writing off other mass shootings that do not occur in schools, but we are trying to cover a topic that is still relevant to all of our lives.\n",
    "\n",
    "It's important to note that none of us want to push any sort of policy or idea or agenda here: we want to stay as neutral as possible. The dataset that we are working with is relatively small so we will be careful in making certain assumptions.\n",
    "\n",
    "\n",
    "# References\n",
    "https://en.wikipedia.org/wiki/List_of_school_shootings_in_the_United_States\n",
    "https://en.wikipedia.org/wiki/Mass_shootings_in_the_United_States\n",
    "https://en.wikipedia.org/wiki/List_of_school_shootings_in_the_United_States_(before_2000)#20th_century\n",
    "https://en.wikipedia.org/wiki/List_of_unsuccessful_attacks_related_to_schools\n",
    "\n"
   ]
  },
  {
   "cell_type": "markdown",
   "metadata": {},
   "source": [
    "## Beginning our Analysis\n",
    "Our goal is to figure out significant school shootings by getting compiled data from Wikipedia and recording certain characteristics about that specific event. With those characteristics, we want to scrape various data sources, such as Fox News, CNN, etc, and see if characteristics of the shooting affect the amount that it is reported among various source.\n",
    "We recognize that because we have a very small dataset that we may not be able to come up with any significant conclusions, but we believe that it is a start to making steps towards doing so in identifying these reporting patterns."
   ]
  },
  {
   "cell_type": "code",
   "execution_count": 56,
   "metadata": {},
   "outputs": [],
   "source": [
    "import pandas as pd\n",
    "import requests as rq\n",
    "import numpy as np\n",
    "import re\n",
    "from datetime import datetime, timedelta\n",
    "from bs4 import BeautifulSoup\n",
    "import plotly as py\n",
    "import plotly.express as px\n",
    "import time"
   ]
  },
  {
   "cell_type": "markdown",
   "metadata": {},
   "source": [
    "### Determining how to begin parsing data\n",
    "We want to figure out a way to identify the shootings and store those attributes of the shooting, such as city information, in order for us to use later. We could use some kind of database, but a pandas dataframe will suffice.\n",
    "\n",
    "We first manually put in the wikipedia link that has all of the successful shootings from 2000 and on. We can discover the tables in the wikipedia article that lists all of the shootings and iterate through the columns and rows to add them to our dataframe. There was also a bit of data cleaning within the tables and the content, which we were able to clean up using text manipulation, such as regex."
   ]
  },
  {
   "cell_type": "code",
   "execution_count": 57,
   "metadata": {},
   "outputs": [],
   "source": [
    "def makeDF(header, body):\n",
    "    sol = pd.DataFrame.from_records(body)\n",
    "    sol.columns = header\n",
    "    return sol.dropna()\n",
    "\n",
    "def parseWiki(url):\n",
    "    school_shooting_url = rq.get(url).text\n",
    "    soup = BeautifulSoup(school_shooting_url)\n",
    "    soup.prettify()\n",
    "    # sortable wikitable is what wikipedia has their tables called\n",
    "    tables = soup.find_all(\"table\",{\"class\":\"sortable wikitable\"})\n",
    "    header = []\n",
    "    body = []\n",
    "    # wikipedia separates by year chunks so we iterate through\n",
    "    for table in tables:\n",
    "        for row in table.find_all(\"tr\"):\n",
    "            temp = []\n",
    "            if not header:\n",
    "                for h in row.find_all(\"th\"):\n",
    "                    header.append(h.get_text().rstrip())\n",
    "            for col in row.find_all(\"td\"):\n",
    "                cur = col.get_text()\n",
    "                # want to get rid of wiki references\n",
    "                cur = re.sub(r'\\[.*\\]', '', cur)\n",
    "                cur = cur.replace(\"\\n\", \" \")\n",
    "                noline = cur.rstrip()\n",
    "                temp.append(noline)\n",
    "            body.append(temp)\n",
    "    # the first is the header, so we take it out\n",
    "    return header, body[1:]\n",
    "\n",
    "header, body = parseWiki(\"https://en.wikipedia.org/wiki/List_of_school_shootings_in_the_United_States\")\n",
    "school_shootings = makeDF(header, body)"
   ]
  },
  {
   "cell_type": "markdown",
   "metadata": {},
   "source": [
    "Waukesha and Oshkosh are very recent shootings: they occurred in the past week or so. Because of this, Wikipedia hasn't updated their city details and we are choosing to remove them from this analysis, as they are missing vital info. \n",
    "Bailey, Colorado and Great Mills, Maryland are very small communities, lacking Population statistics. Thus, we are also choosing to remove them from the dataset."
   ]
  },
  {
   "cell_type": "code",
   "execution_count": 68,
   "metadata": {},
   "outputs": [],
   "source": [
    "data = school_shootings.set_index(\"Location\")\n",
    "data = data.drop(\"Waukesha, Washington\", axis=0)\n",
    "data = data.drop(\"Oshkosh, Washington\", axis=0)\n",
    "data = data.drop(\"Bailey, Colorado\", axis=0)\n",
    "data = data.drop(\"Great Mills, Maryland\", axis=0)\n",
    "df = data.reset_index()"
   ]
  },
  {
   "cell_type": "markdown",
   "metadata": {},
   "source": [
    "Here we have the earliest school shootings of our dataset, which date to earliest 2000."
   ]
  },
  {
   "cell_type": "code",
   "execution_count": 58,
   "metadata": {},
   "outputs": [
    {
     "data": {
      "text/html": [
       "<div>\n",
       "<style scoped>\n",
       "    .dataframe tbody tr th:only-of-type {\n",
       "        vertical-align: middle;\n",
       "    }\n",
       "\n",
       "    .dataframe tbody tr th {\n",
       "        vertical-align: top;\n",
       "    }\n",
       "\n",
       "    .dataframe thead th {\n",
       "        text-align: right;\n",
       "    }\n",
       "</style>\n",
       "<table border=\"1\" class=\"dataframe\">\n",
       "  <thead>\n",
       "    <tr style=\"text-align: right;\">\n",
       "      <th></th>\n",
       "      <th>Location</th>\n",
       "      <th>Date</th>\n",
       "      <th>Deaths</th>\n",
       "      <th>Injuries</th>\n",
       "      <th>Description</th>\n",
       "    </tr>\n",
       "  </thead>\n",
       "  <tbody>\n",
       "    <tr>\n",
       "      <th>0</th>\n",
       "      <td>Flint, Michigan</td>\n",
       "      <td>February 29, 2000</td>\n",
       "      <td>1</td>\n",
       "      <td>0</td>\n",
       "      <td>Shooting of Kayla Rolland: At Buell Elementary...</td>\n",
       "    </tr>\n",
       "    <tr>\n",
       "      <th>1</th>\n",
       "      <td>Lake Worth, Florida</td>\n",
       "      <td>May 26, 2000</td>\n",
       "      <td>1</td>\n",
       "      <td>0</td>\n",
       "      <td>13-year-old honor student, Nathaniel Brazill, ...</td>\n",
       "    </tr>\n",
       "    <tr>\n",
       "      <th>2</th>\n",
       "      <td>Seattle, Washington</td>\n",
       "      <td>June 28, 2000</td>\n",
       "      <td>2</td>\n",
       "      <td>0</td>\n",
       "      <td>58-year-old Director of the Division of Pathol...</td>\n",
       "    </tr>\n",
       "    <tr>\n",
       "      <th>3</th>\n",
       "      <td>Fayetteville, Arkansas</td>\n",
       "      <td>August 28, 2000</td>\n",
       "      <td>2</td>\n",
       "      <td>0</td>\n",
       "      <td>36-year-old James Easton Kelly, a PhD candidat...</td>\n",
       "    </tr>\n",
       "    <tr>\n",
       "      <th>4</th>\n",
       "      <td>New Orleans, Louisiana</td>\n",
       "      <td>September 26, 2000</td>\n",
       "      <td>0</td>\n",
       "      <td>2</td>\n",
       "      <td>13 year-olds Darrel Johnson, and Alfred Anders...</td>\n",
       "    </tr>\n",
       "  </tbody>\n",
       "</table>\n",
       "</div>"
      ],
      "text/plain": [
       "                 Location                Date Deaths Injuries  \\\n",
       "0         Flint, Michigan   February 29, 2000      1        0   \n",
       "1     Lake Worth, Florida        May 26, 2000      1        0   \n",
       "2     Seattle, Washington       June 28, 2000      2        0   \n",
       "3  Fayetteville, Arkansas     August 28, 2000      2        0   \n",
       "4  New Orleans, Louisiana  September 26, 2000      0        2   \n",
       "\n",
       "                                         Description  \n",
       "0  Shooting of Kayla Rolland: At Buell Elementary...  \n",
       "1  13-year-old honor student, Nathaniel Brazill, ...  \n",
       "2  58-year-old Director of the Division of Pathol...  \n",
       "3  36-year-old James Easton Kelly, a PhD candidat...  \n",
       "4  13 year-olds Darrel Johnson, and Alfred Anders...  "
      ]
     },
     "execution_count": 58,
     "metadata": {},
     "output_type": "execute_result"
    }
   ],
   "source": [
    "df.head()"
   ]
  },
  {
   "cell_type": "markdown",
   "metadata": {},
   "source": [
    "And here we have the latest school shootings in our dataset, the latest being Vancouver (at the time of writing)."
   ]
  },
  {
   "cell_type": "code",
   "execution_count": 59,
   "metadata": {},
   "outputs": [
    {
     "data": {
      "text/html": [
       "<div>\n",
       "<style scoped>\n",
       "    .dataframe tbody tr th:only-of-type {\n",
       "        vertical-align: middle;\n",
       "    }\n",
       "\n",
       "    .dataframe tbody tr th {\n",
       "        vertical-align: top;\n",
       "    }\n",
       "\n",
       "    .dataframe thead th {\n",
       "        text-align: right;\n",
       "    }\n",
       "</style>\n",
       "<table border=\"1\" class=\"dataframe\">\n",
       "  <thead>\n",
       "    <tr style=\"text-align: right;\">\n",
       "      <th></th>\n",
       "      <th>Location</th>\n",
       "      <th>Date</th>\n",
       "      <th>Deaths</th>\n",
       "      <th>Injuries</th>\n",
       "      <th>Description</th>\n",
       "    </tr>\n",
       "  </thead>\n",
       "  <tbody>\n",
       "    <tr>\n",
       "      <th>266</th>\n",
       "      <td>Santa Rosa, California</td>\n",
       "      <td>October 22, 2019</td>\n",
       "      <td>0</td>\n",
       "      <td>1</td>\n",
       "      <td>A 16-year-old student was shot twice, at least...</td>\n",
       "    </tr>\n",
       "    <tr>\n",
       "      <th>267</th>\n",
       "      <td>Santa Clarita, California</td>\n",
       "      <td>November 14, 2019</td>\n",
       "      <td>3</td>\n",
       "      <td>3</td>\n",
       "      <td>Saugus High School shooting: Five people were ...</td>\n",
       "    </tr>\n",
       "    <tr>\n",
       "      <th>268</th>\n",
       "      <td>Pleasantville, New Jersey</td>\n",
       "      <td>November 15, 2019</td>\n",
       "      <td>1</td>\n",
       "      <td>2</td>\n",
       "      <td>Five men opened fire during a playoff game bet...</td>\n",
       "    </tr>\n",
       "    <tr>\n",
       "      <th>269</th>\n",
       "      <td>Union City, California</td>\n",
       "      <td>November 23, 2019</td>\n",
       "      <td>2</td>\n",
       "      <td>0</td>\n",
       "      <td>Two boys, aged 11 and 14-years-old were shot i...</td>\n",
       "    </tr>\n",
       "    <tr>\n",
       "      <th>270</th>\n",
       "      <td>Vancouver, Washington</td>\n",
       "      <td>November 27, 2019</td>\n",
       "      <td>2</td>\n",
       "      <td>1</td>\n",
       "      <td>Tiffany Hill who was fatally shot by her estra...</td>\n",
       "    </tr>\n",
       "  </tbody>\n",
       "</table>\n",
       "</div>"
      ],
      "text/plain": [
       "                      Location               Date Deaths Injuries  \\\n",
       "266     Santa Rosa, California   October 22, 2019      0        1   \n",
       "267  Santa Clarita, California  November 14, 2019      3        3   \n",
       "268  Pleasantville, New Jersey  November 15, 2019      1        2   \n",
       "269     Union City, California  November 23, 2019      2        0   \n",
       "270      Vancouver, Washington  November 27, 2019      2        1   \n",
       "\n",
       "                                           Description  \n",
       "266  A 16-year-old student was shot twice, at least...  \n",
       "267  Saugus High School shooting: Five people were ...  \n",
       "268  Five men opened fire during a playoff game bet...  \n",
       "269  Two boys, aged 11 and 14-years-old were shot i...  \n",
       "270  Tiffany Hill who was fatally shot by her estra...  "
      ]
     },
     "execution_count": 59,
     "metadata": {},
     "output_type": "execute_result"
    }
   ],
   "source": [
    "df.tail()"
   ]
  },
  {
   "cell_type": "markdown",
   "metadata": {},
   "source": [
    "### Parsing unsuccessful school shootings\n",
    "We may get relevant information from unsuccessful school shootings as well. Though we don't expect there to be much news coverage regarding unsuccessful shootings, we can still get more data about factors relating to the event since they would still be relevant in determining potential causes in the shootings. "
   ]
  },
  {
   "cell_type": "code",
   "execution_count": 60,
   "metadata": {},
   "outputs": [],
   "source": [
    "def parseWiki(url):\n",
    "    school_shooting_url = rq.get(url).text\n",
    "    soup = BeautifulSoup(school_shooting_url)\n",
    "    soup.prettify()\n",
    "    \n",
    "    # It's called a wikitable sortable here, for whatever reason.\n",
    "    tables = soup.find_all(\"table\",{\"class\":\"wikitable sortable\"})\n",
    "    header = []\n",
    "    body = []\n",
    "    # wikipedia separates by year chunks so we iterate through\n",
    "    for table in tables:\n",
    "        \n",
    "        for row in table.find_all(\"tr\"):\n",
    "            temp = []\n",
    "            if not header:\n",
    "                for h in row.find_all(\"th\"):\n",
    "                    header.append(h.get_text().rstrip())\n",
    "            for col in row.find_all(\"td\"):\n",
    "                cur = col.get_text()\n",
    "                # want to get rid of wiki references\n",
    "                cur = re.sub(r'\\[.*\\]', '', cur)\n",
    "                cur = cur.replace(\"\\n\", \" \")\n",
    "                noline = cur.rstrip()\n",
    "                temp.append(noline)\n",
    "            body.append(temp)\n",
    "        \n",
    "    # the first is the header, so we take it out\n",
    "    return header, body[1:]\n",
    "\n",
    "\n",
    "header2, body2 = parseWiki(\"https://en.wikipedia.org/wiki/List_of_unsuccessful_attacks_related_to_schools\")\n",
    "unsuccessful_shootings = makeDF(header2, body2)"
   ]
  },
  {
   "cell_type": "markdown",
   "metadata": {},
   "source": [
    "These are some of the earliest unsuccessful attacks but date to before our 2000 for the successful ones."
   ]
  },
  {
   "cell_type": "code",
   "execution_count": 61,
   "metadata": {},
   "outputs": [
    {
     "data": {
      "text/html": [
       "<div>\n",
       "<style scoped>\n",
       "    .dataframe tbody tr th:only-of-type {\n",
       "        vertical-align: middle;\n",
       "    }\n",
       "\n",
       "    .dataframe tbody tr th {\n",
       "        vertical-align: top;\n",
       "    }\n",
       "\n",
       "    .dataframe thead th {\n",
       "        text-align: right;\n",
       "    }\n",
       "</style>\n",
       "<table border=\"1\" class=\"dataframe\">\n",
       "  <thead>\n",
       "    <tr style=\"text-align: right;\">\n",
       "      <th></th>\n",
       "      <th>Date</th>\n",
       "      <th>Location</th>\n",
       "      <th>Description</th>\n",
       "    </tr>\n",
       "  </thead>\n",
       "  <tbody>\n",
       "    <tr>\n",
       "      <th>0</th>\n",
       "      <td>October 12, 1992</td>\n",
       "      <td>Lincoln, Nebraska, United States</td>\n",
       "      <td>A 43-year-old graduate student, Arthur McElroy...</td>\n",
       "    </tr>\n",
       "    <tr>\n",
       "      <th>1</th>\n",
       "      <td>November 16, 1998</td>\n",
       "      <td>Burlington, Wisconsin, United States</td>\n",
       "      <td>Five students were arrested the morning they w...</td>\n",
       "    </tr>\n",
       "    <tr>\n",
       "      <th>2</th>\n",
       "      <td>May 1999</td>\n",
       "      <td>Port Huron, Michigan, United States</td>\n",
       "      <td>A 12-year-old, 13-year-old and two 14-year-old...</td>\n",
       "    </tr>\n",
       "    <tr>\n",
       "      <th>3</th>\n",
       "      <td>January 30, 2001</td>\n",
       "      <td>Cupertino, California, United States</td>\n",
       "      <td>De Anza College student Al DeGuzman planned a ...</td>\n",
       "    </tr>\n",
       "    <tr>\n",
       "      <th>4</th>\n",
       "      <td>February 14, 2001</td>\n",
       "      <td>Elmira, New York, United States</td>\n",
       "      <td>Jeremy Getman, 18, planned a school attack at ...</td>\n",
       "    </tr>\n",
       "  </tbody>\n",
       "</table>\n",
       "</div>"
      ],
      "text/plain": [
       "                Date                              Location  \\\n",
       "0   October 12, 1992      Lincoln, Nebraska, United States   \n",
       "1  November 16, 1998  Burlington, Wisconsin, United States   \n",
       "2           May 1999   Port Huron, Michigan, United States   \n",
       "3   January 30, 2001  Cupertino, California, United States   \n",
       "4  February 14, 2001       Elmira, New York, United States   \n",
       "\n",
       "                                         Description  \n",
       "0  A 43-year-old graduate student, Arthur McElroy...  \n",
       "1  Five students were arrested the morning they w...  \n",
       "2  A 12-year-old, 13-year-old and two 14-year-old...  \n",
       "3  De Anza College student Al DeGuzman planned a ...  \n",
       "4  Jeremy Getman, 18, planned a school attack at ...  "
      ]
     },
     "execution_count": 61,
     "metadata": {},
     "output_type": "execute_result"
    }
   ],
   "source": [
    "unsuccessful_shootings.head()"
   ]
  },
  {
   "cell_type": "markdown",
   "metadata": {},
   "source": [
    "These are the most recent unsuccessful attacks."
   ]
  },
  {
   "cell_type": "code",
   "execution_count": 62,
   "metadata": {},
   "outputs": [
    {
     "data": {
      "text/html": [
       "<div>\n",
       "<style scoped>\n",
       "    .dataframe tbody tr th:only-of-type {\n",
       "        vertical-align: middle;\n",
       "    }\n",
       "\n",
       "    .dataframe tbody tr th {\n",
       "        vertical-align: top;\n",
       "    }\n",
       "\n",
       "    .dataframe thead th {\n",
       "        text-align: right;\n",
       "    }\n",
       "</style>\n",
       "<table border=\"1\" class=\"dataframe\">\n",
       "  <thead>\n",
       "    <tr style=\"text-align: right;\">\n",
       "      <th></th>\n",
       "      <th>Date</th>\n",
       "      <th>Location</th>\n",
       "      <th>Description</th>\n",
       "    </tr>\n",
       "  </thead>\n",
       "  <tbody>\n",
       "    <tr>\n",
       "      <th>24</th>\n",
       "      <td>May 1, 2014</td>\n",
       "      <td>Waseca, Minnesota, United States</td>\n",
       "      <td>17-year-old John David LaDue</td>\n",
       "    </tr>\n",
       "    <tr>\n",
       "      <th>25</th>\n",
       "      <td>November 3, 2014</td>\n",
       "      <td>Newcastle upon Tyne, United Kingdom</td>\n",
       "      <td>18-year-old Liam Lyburd was arrested at his ho...</td>\n",
       "    </tr>\n",
       "    <tr>\n",
       "      <th>26</th>\n",
       "      <td>December 1, 2014</td>\n",
       "      <td>Plain City, Utah, United States</td>\n",
       "      <td>A 16-year-old at Fremont High School was arres...</td>\n",
       "    </tr>\n",
       "    <tr>\n",
       "      <th>27</th>\n",
       "      <td>February 14, 2018</td>\n",
       "      <td>Everett, Washington, United States</td>\n",
       "      <td>An 18-year-old, Joshua O'Connor, was arrested ...</td>\n",
       "    </tr>\n",
       "    <tr>\n",
       "      <th>28</th>\n",
       "      <td>April 17, 2019</td>\n",
       "      <td>Jefferson County, Colorado, United States</td>\n",
       "      <td>An 18-year-old, Sol Pais, flew to Colorado fro...</td>\n",
       "    </tr>\n",
       "  </tbody>\n",
       "</table>\n",
       "</div>"
      ],
      "text/plain": [
       "                 Date                                   Location  \\\n",
       "24        May 1, 2014           Waseca, Minnesota, United States   \n",
       "25   November 3, 2014        Newcastle upon Tyne, United Kingdom   \n",
       "26   December 1, 2014            Plain City, Utah, United States   \n",
       "27  February 14, 2018         Everett, Washington, United States   \n",
       "28     April 17, 2019  Jefferson County, Colorado, United States   \n",
       "\n",
       "                                          Description  \n",
       "24                       17-year-old John David LaDue  \n",
       "25  18-year-old Liam Lyburd was arrested at his ho...  \n",
       "26  A 16-year-old at Fremont High School was arres...  \n",
       "27  An 18-year-old, Joshua O'Connor, was arrested ...  \n",
       "28  An 18-year-old, Sol Pais, flew to Colorado fro...  "
      ]
     },
     "execution_count": 62,
     "metadata": {},
     "output_type": "execute_result"
    }
   ],
   "source": [
    "unsuccessful_shootings.tail()"
   ]
  },
  {
   "cell_type": "markdown",
   "metadata": {},
   "source": [
    "Now for convenience, we want to convert all the dates in the tables we have to a datetime index. We also have to correct typos Wikipedia has made... because Wikipedia doesn't know how to spell 'February'."
   ]
  },
  {
   "cell_type": "code",
   "execution_count": 63,
   "metadata": {},
   "outputs": [],
   "source": [
    "def convert_to_datetime(df):\n",
    "    for i, row in df.iterrows():\n",
    "        # Sometimes Wikipedia spells February wrong\n",
    "        if 'Febuary' in row['Date']:\n",
    "            row['Date'] = 'February '+\" \".join(row['Date'].split()[1:])\n",
    "        try:\n",
    "            row['Date'] = datetime.strptime(row['Date'], '%B %d, %Y')\n",
    "        except:\n",
    "            row['Date'] = datetime.strptime(row['Date'], '%B %Y')"
   ]
  },
  {
   "cell_type": "code",
   "execution_count": 64,
   "metadata": {},
   "outputs": [
    {
     "name": "stdout",
     "output_type": "stream",
     "text": [
      "                       Location                Date Deaths Injuries  \\\n",
      "0               Flint, Michigan   February 29, 2000      1        0   \n",
      "1           Lake Worth, Florida        May 26, 2000      1        0   \n",
      "2           Seattle, Washington       June 28, 2000      2        0   \n",
      "3        Fayetteville, Arkansas     August 28, 2000      2        0   \n",
      "4        New Orleans, Louisiana  September 26, 2000      0        2   \n",
      "5         San Diego, California    December 1, 2000      0        1   \n",
      "6            Santee, California       March 5, 2001      2       13   \n",
      "7    Williamsport, Pennsylvania       March 7, 2001      0        1   \n",
      "8          Parkland, Washington        May 16, 2001      2        0   \n",
      "9          El Cajon, California      March 22, 2001      0        5   \n",
      "10                Gary, Indiana      March 30, 2001      1        0   \n",
      "11      New York City, New York    January 15, 2002      0        2   \n",
      "12             Grundy, Virginia    January 16, 2002      3        3   \n",
      "13         Milwaukee, Wisconsin   February 20, 2002      1        0   \n",
      "14              Bowie, Maryland     October 7, 2002      0        1   \n",
      "15              Tucson, Arizona    October 28, 2002      4        0   \n",
      "16      Jersey City, New Jersey    October 29, 2002      0        1   \n",
      "17       New Orleans, Louisiana      April 14, 2003      1        3   \n",
      "18       Red Lion, Pennsylvania      April 24, 2003      2        0   \n",
      "19              Cleveland, Ohio         May 9, 2003      1        2   \n",
      "20       Cold Spring, Minnesota  September 24, 2003      2        0   \n",
      "21             Washington, D.C.    February 2, 2004      1        0   \n",
      "22     East Greenbush, New York    February 9, 2004      0        1   \n",
      "23       Randallstown, Maryland         May 7, 2004      0        4   \n",
      "24            Chicago, Illinois    February 8, 2005      0        1   \n",
      "25             Dover, Tennessee       March 2, 2005      1        0   \n",
      "26          Red Lake, Minnesota      March 21, 2005     10        7   \n",
      "27            Chicago, Illinois  September 13, 2005      0        1   \n",
      "28         Jacksboro, Tennessee    November 8, 2005      1        2   \n",
      "29             Roseburg, Oregon   February 23, 2006      0        1   \n",
      "..                          ...                 ...    ...      ...   \n",
      "241             Mobile, Alabama    January 25, 2019      0        2   \n",
      "242           Lithonia, Georgia    January 30, 2019      0        1   \n",
      "243         Prairie View, Texas    January 30, 2019      0        0   \n",
      "244          Memphis, Tennessee    January 31, 2019      0        1   \n",
      "245               Humble, Texas    January 31, 2019      0        1   \n",
      "246         Baltimore, Maryland    February 8, 2019      0        1   \n",
      "247       Kansas City, Missouri   February 12, 2019      1        0   \n",
      "248      Rio Rancho, New Mexico   February 14, 2019      0        0   \n",
      "249   Arapahoe County, Colorado   February 17, 2019      1        0   \n",
      "250         Montgomery, Alabama   February 26, 2019      0        1   \n",
      "251           Cheyenne, Wyoming   February 28, 2019      0        0   \n",
      "252        Grambling, Louisiana       March 7, 2019      0        1   \n",
      "253       Blounstville, Alabama      March 22, 2019      0        1   \n",
      "254  Holmes County, Mississippi      March 27, 2019      0        1   \n",
      "255          Prescott, Arkansas       April 1, 2019      0        1   \n",
      "256           Texas City, Texas      April 25, 2019      0        3   \n",
      "257     Stone Mountain, Georgia      April 25, 2019      0       10   \n",
      "258   Charlotte, North Carolina      April 30, 2019      2        4   \n",
      "259              Eugene, Oregon         May 4, 2019      1        0   \n",
      "260          Riverview, Florida         May 6, 2019      0        0   \n",
      "261   Highlands Ranch, Colorado         May 7, 2019      1        8   \n",
      "262           Savannah, Georgia         May 7, 2019      0        1   \n",
      "263         Montgomery, Alabama      August 8, 2019      0        0   \n",
      "264             Mobile, Alabama     August 30, 2019      0       10   \n",
      "265        Nashville, Tennessee    October 13, 2019      1        0   \n",
      "266      Santa Rosa, California    October 22, 2019      0        1   \n",
      "267   Santa Clarita, California   November 14, 2019      3        3   \n",
      "268   Pleasantville, New Jersey   November 15, 2019      1        2   \n",
      "269      Union City, California   November 23, 2019      2        0   \n",
      "270       Vancouver, Washington   November 27, 2019      2        1   \n",
      "\n",
      "                                           Description  \n",
      "0    Shooting of Kayla Rolland: At Buell Elementary...  \n",
      "1    13-year-old honor student, Nathaniel Brazill, ...  \n",
      "2    58-year-old Director of the Division of Pathol...  \n",
      "3    36-year-old James Easton Kelly, a PhD candidat...  \n",
      "4    13 year-olds Darrel Johnson, and Alfred Anders...  \n",
      "5    A 15-year-old Junipero Serra High School stude...  \n",
      "6    Santana High School shooting: 15-year-old stud...  \n",
      "7    14-year-old student, Elizabeth Catherine Bush,...  \n",
      "8    40-year-old music instructor and organist Jame...  \n",
      "9    18-year-old former student, Jason Hoffman, ope...  \n",
      "10   17-year-old Donald Ray Burt Jr., fatally shot ...  \n",
      "11   17-year-old Vincent Rodriguez, wounded two stu...  \n",
      "12   Appalachian School of Law shooting: Recently d...  \n",
      "13   16-year-old Washington High School student, Jo...  \n",
      "14   In the Beltway sniper attacks, one victim of s...  \n",
      "15   Failing nursing college student and Gulf War v...  \n",
      "16   A 15-year-old student was shot in the abdomen ...  \n",
      "17   John McDonogh High School shooting. 18-year-ol...  \n",
      "18   14-year-old student James Sheets, entered Red ...  \n",
      "19   On May 9, 2003, Biswanath Halder, a 62-year-ol...  \n",
      "20   Rocori High School shooting: 15-year-old John ...  \n",
      "21   Thomas J. Boykin was acquitted of the murder o...  \n",
      "22   Jon W. Romano in East Greenbush, New York fire...  \n",
      "23   Two students were charged with a school shooti...  \n",
      "24   An 18-year-old student at Bowen High School wa...  \n",
      "25   14-year-old Jason Clinard, killed his bus driv...  \n",
      "26   Red Lake shootings: 16-year-old student Jeffre...  \n",
      "27   At Harlan Community Academy High School, a fig...  \n",
      "28   Campbell County High School shooting: Inside t...  \n",
      "29   14-year-old freshman Vincent Wayne Leodoro, sh...  \n",
      "..                                                 ...  \n",
      "241  Two males were wounded after basketball game a...  \n",
      "242  A man running on the Miller Grove High School ...  \n",
      "243  Shots were fired at Prairie View A&M Universit...  \n",
      "244  At Manassas High School, a 14-year-old student...  \n",
      "245  Seventeen-year-old Mikael Neciosup, a student ...  \n",
      "246  A 25-year-old was confronted by an adult staff...  \n",
      "247  During a basketball game at the Central Academ...  \n",
      "248  Sixteen-year-old student Joshua Owen discharge...  \n",
      "249  Two adult men in an ongoing dispute about a pa...  \n",
      "250  At Robert E. Lee High School, a 17-year-old st...  \n",
      "251  A 17-year-old student at Cheyenne South High S...  \n",
      "252  A Grambling State University student was injur...  \n",
      "253  A substitute teacher at Blountsville Elementar...  \n",
      "254  A 10-year-old student was struck in the hand b...  \n",
      "255  A 14-year-old male student with a concealed we...  \n",
      "256  At College of the Mainland, a police cadet stu...  \n",
      "257  At a teen armed with a pellet gun fired at Wyn...  \n",
      "258  2019 UNCC shooting: A shooter on the Universit...  \n",
      "259  A 21-year-old Lane Community College student w...  \n",
      "260  A person shot through a window of an elementar...  \n",
      "261  STEM School Highlands Ranch shooting: Two shoo...  \n",
      "262  A man who was not a student at Savannah State ...  \n",
      "263  38-year old Isaiah Johnson, dropped his son of...  \n",
      "264  Deangelo Dejuan Parnell shot 9 people during a...  \n",
      "265  A 19-year-old student was found unconscious wi...  \n",
      "266  A 16-year-old student was shot twice, at least...  \n",
      "267  Saugus High School shooting: Five people were ...  \n",
      "268  Five men opened fire during a playoff game bet...  \n",
      "269  Two boys, aged 11 and 14-years-old were shot i...  \n",
      "270  Tiffany Hill who was fatally shot by her estra...  \n",
      "\n",
      "[271 rows x 5 columns]\n",
      "February 29, 2000\n",
      "May 26, 2000\n",
      "June 28, 2000\n",
      "August 28, 2000\n",
      "September 26, 2000\n",
      "December 1, 2000\n",
      "March 5, 2001\n",
      "March 7, 2001\n",
      "May 16, 2001\n",
      "March 22, 2001\n",
      "March 30, 2001\n",
      "January 15, 2002\n",
      "January 16, 2002\n",
      "February 20, 2002\n",
      "October 7, 2002\n",
      "October 28, 2002\n",
      "October 29, 2002\n",
      "April 14, 2003\n",
      "April 24, 2003\n",
      "May 9, 2003\n",
      "September 24, 2003\n",
      "February 2, 2004\n",
      "February 9, 2004\n",
      "May 7, 2004\n",
      "February 8, 2005\n",
      "March 2, 2005\n",
      "March 21, 2005\n",
      "September 13, 2005\n",
      "November 8, 2005\n",
      "February 23, 2006\n",
      "March 14, 2006\n",
      "August 24, 2006\n",
      "August 30, 2006\n",
      "September 2, 2006\n",
      "September 17, 2006\n",
      "September 27, 2006\n",
      "September 29, 2006\n",
      "October 2, 2006\n",
      "October 9, 2006\n",
      "January 3, 2007\n",
      "March 7, 2007\n",
      "April 16, 2007\n",
      "September 21, 2007\n",
      "October 10, 2007\n",
      "January 23, 2008\n",
      "February 4, 2008\n",
      "February 8, 2008\n",
      "February 11, 2008\n",
      "February 11, 2008\n",
      "February 12, 2008\n",
      "February 14, 2008\n",
      "February 27, 2008\n",
      "August 14, 2008\n",
      "August 21, 2008\n",
      "September 2, 2008\n",
      "October 16, 2008\n",
      "October 26, 2008\n",
      "November 12, 2008\n",
      "January 9, 2009\n",
      "April 26, 2009\n",
      "May 18, 2009\n",
      "May 18, 2009\n",
      "June 16, 2009\n",
      "September 3, 2009\n",
      "February 5, 2010\n",
      "February 12, 2010\n",
      "February 19, 2010\n",
      "February 23, 2010\n",
      "March 9, 2010\n",
      "May 11, 2010\n",
      "September 8, 2010\n",
      "September 28, 2010\n",
      "October 1, 2010\n",
      "October 8, 2010\n",
      "November 29, 2010\n",
      "December 6, 2010\n",
      "January 5, 2011\n",
      "March 25, 2011\n",
      "March 31, 2011\n",
      "April 19, 2011\n",
      "May 23, 2011\n",
      "August 19, 2011\n",
      "October 24, 2011\n",
      "December 8, 2011\n",
      "December 9, 2011\n",
      "January 10, 2012\n",
      "Febuary 23, 2012\n",
      "February 27, 2012\n",
      "March 6, 2012\n",
      "April 2, 2012\n",
      "August 16, 2012\n",
      "August 27, 2012\n",
      "September 7, 2012\n",
      "October 19, 2012\n",
      "October 31, 2012\n",
      "December 14, 2012\n",
      "January 10, 2013\n",
      "January 12, 2013\n",
      "January 15, 2013\n",
      "January 15, 2013\n",
      "January 16, 2013\n",
      "January 22, 2013\n",
      "January 31, 2013\n",
      "March 18, 2013\n",
      "April 12, 2013\n",
      "April 16, 2013\n",
      "April 18, 2013\n",
      "May 14, 2013\n",
      "June 7, 2013\n",
      "August 23, 2013\n",
      "August 30, 2013\n",
      "October 4, 2013\n",
      "October 21, 2013\n",
      "November 2, 2013\n",
      "November 3, 2013\n",
      "November 13, 2013\n",
      "December 4, 2013\n",
      "December 13, 2013\n",
      "December 19, 2013\n",
      "January 9, 2014\n",
      "January 13, 2014\n",
      "January 14, 2014\n",
      "January 17, 2014\n",
      "January 20, 2014\n",
      "January 21, 2014\n",
      "January 24, 2014\n",
      "January 25, 2014\n",
      "January 27, 2014\n",
      "January 28, 2014\n",
      "January 30, 2014\n",
      "January 31, 2014\n",
      "February 10, 2014\n",
      "February 10, 2014\n",
      "February 12, 2014\n",
      "February 22, 2014\n",
      "March 25, 2014\n",
      "April 11, 2014\n",
      "May 4, 2014\n",
      "May 5, 2014\n",
      "May 8, 2014\n",
      "May 14, 2014\n",
      "June 5, 2014\n",
      "June 10, 2014\n",
      "September 9, 2014\n",
      "September 11, 2014\n",
      "September 27, 2014\n",
      "September 30, 2014\n",
      "September 30, 2014\n",
      "October 3, 2014\n",
      "October 24, 2014\n",
      "November 20, 2014\n",
      "November 20, 2014\n",
      "December 12, 2014\n",
      "January 15, 2015\n",
      "January 16, 2015\n",
      "February 4, 2015\n",
      "February 14, 2015\n",
      "February 23, 2015\n",
      "March 30, 2015\n",
      "April 13, 2015\n",
      "April 16, 2015\n",
      "May 12, 2015\n",
      "May 24, 2015\n",
      "August 27, 2015\n",
      "September 3, 2015\n",
      "September 14, 2015\n",
      "September 30, 2015\n",
      "October 1, 2015\n",
      "October 9, 2015\n",
      "October 9, 2015\n",
      "October 22, 2015\n",
      "November 1, 2015\n",
      "November 20, 2015\n",
      "January 22, 2016\n",
      "January 29, 2016\n",
      "February 9, 2016\n",
      "February 12, 2016\n",
      "February 29, 2016\n",
      "April 23, 2016\n",
      "June 1, 2016\n",
      "June 8, 2016\n",
      "September 9, 2016\n",
      "September 28, 2016\n",
      "October 11, 2016\n",
      "October 13, 2016\n",
      "October 18, 2016\n",
      "October 25, 2016\n",
      "December 1, 2016\n",
      "January 20, 2017\n",
      "January 20, 2017\n",
      "March 21, 2017\n",
      "April 10, 2017\n",
      "May 4, 2017\n",
      "September 13, 2017\n",
      "September 20, 2017\n",
      "November 13, 2017\n",
      "November 14, 2017\n",
      "December 7, 2017\n",
      "January 10, 2018\n",
      "January 20, 2018\n",
      "January 22, 2018\n",
      "January 22, 2018\n",
      "January 23, 2018\n",
      "January 31, 2018\n",
      "February 1, 2018\n",
      "February 5, 2018\n",
      "February 9, 2018\n",
      "February 14, 2018\n",
      "February 24, 2018\n",
      "February 27, 2018\n",
      "February 27, 2018\n",
      "March 2, 2018\n",
      "March 7, 2018\n",
      "March 7, 2018\n",
      "March 8, 2018\n",
      "March 9, 2018\n",
      "March 13, 2018\n",
      "March 14, 2018\n",
      "March 20, 2018\n",
      "April 12, 2018\n",
      "April 20, 2018\n",
      "May 11, 2018\n",
      "May 16, 2018\n",
      "May 18, 2018\n",
      "May 18, 2018\n",
      "May 25, 2018\n",
      "August 4, 2018\n",
      "August 17, 2018\n",
      "August 20, 2018\n",
      "August 30, 2018\n",
      "September 5, 2018\n",
      "September 10, 2018\n",
      "September 11, 2018\n",
      "October 29, 2018\n",
      "December 13, 2018\n",
      "January 2, 2019\n",
      "January 3, 2019\n",
      "January 4, 2019\n",
      "January 7, 2019\n",
      "January 11, 2019\n",
      "January 19, 2019\n",
      "January 25, 2019\n",
      "January 30, 2019\n",
      "January 30, 2019\n",
      "January 31, 2019\n",
      "January 31, 2019\n",
      "February 8, 2019\n",
      "February 12, 2019\n",
      "February 14, 2019\n",
      "February 17, 2019\n",
      "February 26, 2019\n",
      "February 28, 2019\n",
      "March 7, 2019\n",
      "March 22, 2019\n",
      "March 27, 2019\n",
      "April 1, 2019\n",
      "April 25, 2019\n",
      "April 25, 2019\n",
      "April 30, 2019\n",
      "May 4, 2019\n",
      "May 6, 2019\n",
      "May 7, 2019\n",
      "May 7, 2019\n",
      "August 8, 2019\n",
      "August 30, 2019\n",
      "October 13, 2019\n",
      "October 22, 2019\n",
      "November 14, 2019\n",
      "November 15, 2019\n",
      "November 23, 2019\n",
      "November 27, 2019\n"
     ]
    },
    {
     "data": {
      "text/html": [
       "<div>\n",
       "<style scoped>\n",
       "    .dataframe tbody tr th:only-of-type {\n",
       "        vertical-align: middle;\n",
       "    }\n",
       "\n",
       "    .dataframe tbody tr th {\n",
       "        vertical-align: top;\n",
       "    }\n",
       "\n",
       "    .dataframe thead th {\n",
       "        text-align: right;\n",
       "    }\n",
       "</style>\n",
       "<table border=\"1\" class=\"dataframe\">\n",
       "  <thead>\n",
       "    <tr style=\"text-align: right;\">\n",
       "      <th></th>\n",
       "      <th>Location</th>\n",
       "      <th>Date</th>\n",
       "      <th>Deaths</th>\n",
       "      <th>Injuries</th>\n",
       "      <th>Description</th>\n",
       "    </tr>\n",
       "  </thead>\n",
       "  <tbody>\n",
       "    <tr>\n",
       "      <th>0</th>\n",
       "      <td>Flint, Michigan</td>\n",
       "      <td>2000-02-29 00:00:00</td>\n",
       "      <td>1</td>\n",
       "      <td>0</td>\n",
       "      <td>Shooting of Kayla Rolland: At Buell Elementary...</td>\n",
       "    </tr>\n",
       "    <tr>\n",
       "      <th>1</th>\n",
       "      <td>Lake Worth, Florida</td>\n",
       "      <td>2000-05-26 00:00:00</td>\n",
       "      <td>1</td>\n",
       "      <td>0</td>\n",
       "      <td>13-year-old honor student, Nathaniel Brazill, ...</td>\n",
       "    </tr>\n",
       "    <tr>\n",
       "      <th>2</th>\n",
       "      <td>Seattle, Washington</td>\n",
       "      <td>2000-06-28 00:00:00</td>\n",
       "      <td>2</td>\n",
       "      <td>0</td>\n",
       "      <td>58-year-old Director of the Division of Pathol...</td>\n",
       "    </tr>\n",
       "    <tr>\n",
       "      <th>3</th>\n",
       "      <td>Fayetteville, Arkansas</td>\n",
       "      <td>2000-08-28 00:00:00</td>\n",
       "      <td>2</td>\n",
       "      <td>0</td>\n",
       "      <td>36-year-old James Easton Kelly, a PhD candidat...</td>\n",
       "    </tr>\n",
       "    <tr>\n",
       "      <th>4</th>\n",
       "      <td>New Orleans, Louisiana</td>\n",
       "      <td>2000-09-26 00:00:00</td>\n",
       "      <td>0</td>\n",
       "      <td>2</td>\n",
       "      <td>13 year-olds Darrel Johnson, and Alfred Anders...</td>\n",
       "    </tr>\n",
       "  </tbody>\n",
       "</table>\n",
       "</div>"
      ],
      "text/plain": [
       "                 Location                 Date Deaths Injuries  \\\n",
       "0         Flint, Michigan  2000-02-29 00:00:00      1        0   \n",
       "1     Lake Worth, Florida  2000-05-26 00:00:00      1        0   \n",
       "2     Seattle, Washington  2000-06-28 00:00:00      2        0   \n",
       "3  Fayetteville, Arkansas  2000-08-28 00:00:00      2        0   \n",
       "4  New Orleans, Louisiana  2000-09-26 00:00:00      0        2   \n",
       "\n",
       "                                         Description  \n",
       "0  Shooting of Kayla Rolland: At Buell Elementary...  \n",
       "1  13-year-old honor student, Nathaniel Brazill, ...  \n",
       "2  58-year-old Director of the Division of Pathol...  \n",
       "3  36-year-old James Easton Kelly, a PhD candidat...  \n",
       "4  13 year-olds Darrel Johnson, and Alfred Anders...  "
      ]
     },
     "execution_count": 64,
     "metadata": {},
     "output_type": "execute_result"
    }
   ],
   "source": [
    "convert_to_datetime(df)\n",
    "df.head()"
   ]
  },
  {
   "cell_type": "code",
   "execution_count": 65,
   "metadata": {},
   "outputs": [
    {
     "name": "stdout",
     "output_type": "stream",
     "text": [
      "                  Date                                        Location  \\\n",
      "0     October 12, 1992                Lincoln, Nebraska, United States   \n",
      "1    November 16, 1998            Burlington, Wisconsin, United States   \n",
      "2             May 1999             Port Huron, Michigan, United States   \n",
      "3     January 30, 2001            Cupertino, California, United States   \n",
      "4    February 14, 2001                 Elmira, New York, United States   \n",
      "5       March 16, 2004                Malcolm, Nebraska, United States   \n",
      "6     January 25, 2005          Grand Marais, Minnesota, United States   \n",
      "7   September 14, 2006             Green Bay, Wisconsin, United States   \n",
      "8     October 11, 2007   Plymouth Meeting, Pennsylvania, United States   \n",
      "9         June 4, 2008               Mishawaka, Indiana, United States   \n",
      "10    December 4, 2008          Pottstown, Pennsylvania, United States   \n",
      "11      March 11, 2009        Drexel Hill, Pennsylvania, United States   \n",
      "12      March 17, 2009  Attleborough, Norfolk, England, United Kingdom   \n",
      "13    October 21, 2009                 Monroe, New York, United States   \n",
      "14   November 17, 2009                                Beauvais, France   \n",
      "15   February 23, 2010                                   Littleton, CO   \n",
      "16     October 8, 2010                                    Carlsbad, CA   \n",
      "17     August 17, 2011               Tampa Bay, Florida, United States   \n",
      "18      March 30, 2012                                Orivesi, Finland   \n",
      "19        May 27, 2013                   Albany, Oregon, United States   \n",
      "20        July 3, 2013              Seattle, Washington, United States   \n",
      "21   December 20, 2013               Trinidad, Colorado, United States   \n",
      "22          March 2014                         Leicestershire, England   \n",
      "23       March 4, 2014             Danbury, Connecticut, United States   \n",
      "24         May 1, 2014                Waseca, Minnesota, United States   \n",
      "25    November 3, 2014             Newcastle upon Tyne, United Kingdom   \n",
      "26    December 1, 2014                 Plain City, Utah, United States   \n",
      "27   February 14, 2018              Everett, Washington, United States   \n",
      "28      April 17, 2019       Jefferson County, Colorado, United States   \n",
      "\n",
      "                                          Description  \n",
      "0   A 43-year-old graduate student, Arthur McElroy...  \n",
      "1   Five students were arrested the morning they w...  \n",
      "2   A 12-year-old, 13-year-old and two 14-year-old...  \n",
      "3   De Anza College student Al DeGuzman planned a ...  \n",
      "4   Jeremy Getman, 18, planned a school attack at ...  \n",
      "5   17-year-old Joshua Magee was arrested in the p...  \n",
      "6   17-year-old David Riehm was arrested at his ho...  \n",
      "7   Two 17-year-old boys were arrested the morning...  \n",
      "8   14-year-old Dillon Cossey was arrested at his ...  \n",
      "9   16-year-old Russell Frantom was arrested after...  \n",
      "10  15-year-old Richard Yanis was arrested for plo...  \n",
      "11  An eighth-grade student who attended St. Andre...  \n",
      "12  A 16-year-old student posted a threat on the w...  \n",
      "13  A 15-year-old boy from Monroe was already on j...  \n",
      "14  A 13-year-old boy, who was said to have had di...  \n",
      "15  Bruco Eastwood entered Deer Creek Middle Schoo...  \n",
      "16  Brendan O' Rourke wandered onto Kelly Elementa...  \n",
      "17  17-year-old former student of Freedom High Sch...  \n",
      "18  A 23-year-old man fired two shots with a flare...  \n",
      "19  Grant Acord, a 17-year-old junior who was atte...  \n",
      "20  Justin M. Jasper was arrested by University of...  \n",
      "21  Two boys, 15 and 16, were arrested for plannin...  \n",
      "22  17-year-old Michael Piggin was arrested after ...  \n",
      "23  18-year-old Natalie Carpenter and 19-year-old ...  \n",
      "24                       17-year-old John David LaDue  \n",
      "25  18-year-old Liam Lyburd was arrested at his ho...  \n",
      "26  A 16-year-old at Fremont High School was arres...  \n",
      "27  An 18-year-old, Joshua O'Connor, was arrested ...  \n",
      "28  An 18-year-old, Sol Pais, flew to Colorado fro...  \n",
      "October 12, 1992\n",
      "November 16, 1998\n",
      "May 1999\n",
      "January 30, 2001\n",
      "February 14, 2001\n",
      "March 16, 2004\n",
      "January 25, 2005\n",
      "September 14, 2006\n",
      "October 11, 2007\n",
      "June 4, 2008\n",
      "December 4, 2008\n",
      "March 11, 2009\n",
      "March 17, 2009\n",
      "October 21, 2009\n",
      "November 17, 2009\n",
      "February 23, 2010\n",
      "October 8, 2010\n",
      "August 17, 2011\n",
      "March 30, 2012\n",
      "May 27, 2013\n",
      "July 3, 2013\n",
      "December 20, 2013\n",
      "March 2014\n",
      "March 4, 2014\n",
      "May 1, 2014\n",
      "November 3, 2014\n",
      "December 1, 2014\n",
      "February 14, 2018\n",
      "April 17, 2019\n"
     ]
    },
    {
     "data": {
      "text/html": [
       "<div>\n",
       "<style scoped>\n",
       "    .dataframe tbody tr th:only-of-type {\n",
       "        vertical-align: middle;\n",
       "    }\n",
       "\n",
       "    .dataframe tbody tr th {\n",
       "        vertical-align: top;\n",
       "    }\n",
       "\n",
       "    .dataframe thead th {\n",
       "        text-align: right;\n",
       "    }\n",
       "</style>\n",
       "<table border=\"1\" class=\"dataframe\">\n",
       "  <thead>\n",
       "    <tr style=\"text-align: right;\">\n",
       "      <th></th>\n",
       "      <th>Date</th>\n",
       "      <th>Location</th>\n",
       "      <th>Description</th>\n",
       "    </tr>\n",
       "  </thead>\n",
       "  <tbody>\n",
       "    <tr>\n",
       "      <th>0</th>\n",
       "      <td>1992-10-12 00:00:00</td>\n",
       "      <td>Lincoln, Nebraska, United States</td>\n",
       "      <td>A 43-year-old graduate student, Arthur McElroy...</td>\n",
       "    </tr>\n",
       "    <tr>\n",
       "      <th>1</th>\n",
       "      <td>1998-11-16 00:00:00</td>\n",
       "      <td>Burlington, Wisconsin, United States</td>\n",
       "      <td>Five students were arrested the morning they w...</td>\n",
       "    </tr>\n",
       "    <tr>\n",
       "      <th>2</th>\n",
       "      <td>1999-05-01 00:00:00</td>\n",
       "      <td>Port Huron, Michigan, United States</td>\n",
       "      <td>A 12-year-old, 13-year-old and two 14-year-old...</td>\n",
       "    </tr>\n",
       "    <tr>\n",
       "      <th>3</th>\n",
       "      <td>2001-01-30 00:00:00</td>\n",
       "      <td>Cupertino, California, United States</td>\n",
       "      <td>De Anza College student Al DeGuzman planned a ...</td>\n",
       "    </tr>\n",
       "    <tr>\n",
       "      <th>4</th>\n",
       "      <td>2001-02-14 00:00:00</td>\n",
       "      <td>Elmira, New York, United States</td>\n",
       "      <td>Jeremy Getman, 18, planned a school attack at ...</td>\n",
       "    </tr>\n",
       "  </tbody>\n",
       "</table>\n",
       "</div>"
      ],
      "text/plain": [
       "                  Date                              Location  \\\n",
       "0  1992-10-12 00:00:00      Lincoln, Nebraska, United States   \n",
       "1  1998-11-16 00:00:00  Burlington, Wisconsin, United States   \n",
       "2  1999-05-01 00:00:00   Port Huron, Michigan, United States   \n",
       "3  2001-01-30 00:00:00  Cupertino, California, United States   \n",
       "4  2001-02-14 00:00:00       Elmira, New York, United States   \n",
       "\n",
       "                                         Description  \n",
       "0  A 43-year-old graduate student, Arthur McElroy...  \n",
       "1  Five students were arrested the morning they w...  \n",
       "2  A 12-year-old, 13-year-old and two 14-year-old...  \n",
       "3  De Anza College student Al DeGuzman planned a ...  \n",
       "4  Jeremy Getman, 18, planned a school attack at ...  "
      ]
     },
     "execution_count": 65,
     "metadata": {},
     "output_type": "execute_result"
    }
   ],
   "source": [
    "convert_to_datetime(unsuccessful_shootings)\n",
    "unsuccessful_shootings.head()"
   ]
  },
  {
   "cell_type": "markdown",
   "metadata": {},
   "source": [
    "### Using APIs to get news sources and attempt to parse data\n",
    "Now that we have the wikipedia data parsed, we want to set up the data scraping from various sources. We have to determine certain attributes of the city that we want to consider when trying to figure out what factors cause the city to have a higher likelyhood of having a school shooting. \n",
    "\n",
    "Because it would be extremely hard to query a search on a shooting, we will first take the cities that the school shootings were located in and find the associated wikipedia article. This indicator will be whether that city mentions the shootings as a relevant factor when identifying the city.\n",
    "\n",
    "We will first look at wikipedia and see if the city that is associated with the shooting ever mentions it. Using the keywords \"shooting\" and \"shooter\", we will search through the html of the article. Using \"shooting\" could also end up catching a movie shooting too, but for the few notable cities that we checked, there weren't any particular references to a movie shooting and only for a school shooting."
   ]
  },
  {
   "cell_type": "code",
   "execution_count": 67,
   "metadata": {},
   "outputs": [],
   "source": [
    "# df: the dataframe that has date, location, injuries, deaths, description of shooting\n",
    "def trace(df):\n",
    "    #convert_to_datetime(df)\n",
    "    city_mentions = []\n",
    "    total = 0\n",
    "    ignored = False\n",
    "    for i, row in df.iterrows():\n",
    "        '''try:\n",
    "            date = datetime.strptime(row['Date'], '%B %d, %Y')\n",
    "        except:\n",
    "            ignored = True'''\n",
    "        date = row['Date']\n",
    "        loc = (row[\"Location\"]).rstrip().replace(\" \", \"_\")\n",
    "        url = \"https://en.wikipedia.org/wiki/\" + loc\n",
    "        city_url = rq.get(url).text\n",
    "        soup = BeautifulSoup(city_url)\n",
    "        soup.prettify()\n",
    "        # seeing if shooting is mentioned\n",
    "        shooting_results = soup.body.find(string = re.compile(\".*shooting.*\"))\n",
    "        # seeing if shooter is mentioned\n",
    "        shooter_results = soup.body.find(string = re.compile(\".*shooter.*\"))\n",
    "        if shooting_results or shooter_results:\n",
    "            city_mentions.append(True)\n",
    "        elif ignored:\n",
    "            city_mentions.append(\"N/A\")\n",
    "            ignored = False\n",
    "        else:\n",
    "            city_mentions.append(False)\n",
    "    df[\"City Mentioned\"] = city_mentions\n",
    "    return df\n",
    "df3 = trace(df)"
   ]
  },
  {
   "cell_type": "code",
   "execution_count": 69,
   "metadata": {},
   "outputs": [
    {
     "data": {
      "text/html": [
       "<div>\n",
       "<style scoped>\n",
       "    .dataframe tbody tr th:only-of-type {\n",
       "        vertical-align: middle;\n",
       "    }\n",
       "\n",
       "    .dataframe tbody tr th {\n",
       "        vertical-align: top;\n",
       "    }\n",
       "\n",
       "    .dataframe thead th {\n",
       "        text-align: right;\n",
       "    }\n",
       "</style>\n",
       "<table border=\"1\" class=\"dataframe\">\n",
       "  <thead>\n",
       "    <tr style=\"text-align: right;\">\n",
       "      <th></th>\n",
       "      <th>Location</th>\n",
       "      <th>Date</th>\n",
       "      <th>Deaths</th>\n",
       "      <th>Injuries</th>\n",
       "      <th>Description</th>\n",
       "      <th>City Mentioned</th>\n",
       "    </tr>\n",
       "  </thead>\n",
       "  <tbody>\n",
       "    <tr>\n",
       "      <th>0</th>\n",
       "      <td>Flint, Michigan</td>\n",
       "      <td>2000-02-29 00:00:00</td>\n",
       "      <td>1</td>\n",
       "      <td>0</td>\n",
       "      <td>Shooting of Kayla Rolland: At Buell Elementary...</td>\n",
       "      <td>True</td>\n",
       "    </tr>\n",
       "    <tr>\n",
       "      <th>1</th>\n",
       "      <td>Lake Worth, Florida</td>\n",
       "      <td>2000-05-26 00:00:00</td>\n",
       "      <td>1</td>\n",
       "      <td>0</td>\n",
       "      <td>13-year-old honor student, Nathaniel Brazill, ...</td>\n",
       "      <td>False</td>\n",
       "    </tr>\n",
       "    <tr>\n",
       "      <th>2</th>\n",
       "      <td>Seattle, Washington</td>\n",
       "      <td>2000-06-28 00:00:00</td>\n",
       "      <td>2</td>\n",
       "      <td>0</td>\n",
       "      <td>58-year-old Director of the Division of Pathol...</td>\n",
       "      <td>False</td>\n",
       "    </tr>\n",
       "    <tr>\n",
       "      <th>3</th>\n",
       "      <td>Fayetteville, Arkansas</td>\n",
       "      <td>2000-08-28 00:00:00</td>\n",
       "      <td>2</td>\n",
       "      <td>0</td>\n",
       "      <td>36-year-old James Easton Kelly, a PhD candidat...</td>\n",
       "      <td>False</td>\n",
       "    </tr>\n",
       "    <tr>\n",
       "      <th>4</th>\n",
       "      <td>New Orleans, Louisiana</td>\n",
       "      <td>2000-09-26 00:00:00</td>\n",
       "      <td>0</td>\n",
       "      <td>2</td>\n",
       "      <td>13 year-olds Darrel Johnson, and Alfred Anders...</td>\n",
       "      <td>True</td>\n",
       "    </tr>\n",
       "  </tbody>\n",
       "</table>\n",
       "</div>"
      ],
      "text/plain": [
       "                 Location                 Date Deaths Injuries  \\\n",
       "0         Flint, Michigan  2000-02-29 00:00:00      1        0   \n",
       "1     Lake Worth, Florida  2000-05-26 00:00:00      1        0   \n",
       "2     Seattle, Washington  2000-06-28 00:00:00      2        0   \n",
       "3  Fayetteville, Arkansas  2000-08-28 00:00:00      2        0   \n",
       "4  New Orleans, Louisiana  2000-09-26 00:00:00      0        2   \n",
       "\n",
       "                                         Description  City Mentioned  \n",
       "0  Shooting of Kayla Rolland: At Buell Elementary...            True  \n",
       "1  13-year-old honor student, Nathaniel Brazill, ...           False  \n",
       "2  58-year-old Director of the Division of Pathol...           False  \n",
       "3  36-year-old James Easton Kelly, a PhD candidat...           False  \n",
       "4  13 year-olds Darrel Johnson, and Alfred Anders...            True  "
      ]
     },
     "execution_count": 69,
     "metadata": {},
     "output_type": "execute_result"
    }
   ],
   "source": [
    "df3.head()"
   ]
  },
  {
   "cell_type": "code",
   "execution_count": 70,
   "metadata": {},
   "outputs": [
    {
     "data": {
      "text/html": [
       "<div>\n",
       "<style scoped>\n",
       "    .dataframe tbody tr th:only-of-type {\n",
       "        vertical-align: middle;\n",
       "    }\n",
       "\n",
       "    .dataframe tbody tr th {\n",
       "        vertical-align: top;\n",
       "    }\n",
       "\n",
       "    .dataframe thead th {\n",
       "        text-align: right;\n",
       "    }\n",
       "</style>\n",
       "<table border=\"1\" class=\"dataframe\">\n",
       "  <thead>\n",
       "    <tr style=\"text-align: right;\">\n",
       "      <th></th>\n",
       "      <th>Location</th>\n",
       "      <th>Date</th>\n",
       "      <th>Deaths</th>\n",
       "      <th>Injuries</th>\n",
       "      <th>Description</th>\n",
       "      <th>City Mentioned</th>\n",
       "    </tr>\n",
       "  </thead>\n",
       "  <tbody>\n",
       "    <tr>\n",
       "      <th>266</th>\n",
       "      <td>Santa Rosa, California</td>\n",
       "      <td>2019-10-22 00:00:00</td>\n",
       "      <td>0</td>\n",
       "      <td>1</td>\n",
       "      <td>A 16-year-old student was shot twice, at least...</td>\n",
       "      <td>True</td>\n",
       "    </tr>\n",
       "    <tr>\n",
       "      <th>267</th>\n",
       "      <td>Santa Clarita, California</td>\n",
       "      <td>2019-11-14 00:00:00</td>\n",
       "      <td>3</td>\n",
       "      <td>3</td>\n",
       "      <td>Saugus High School shooting: Five people were ...</td>\n",
       "      <td>True</td>\n",
       "    </tr>\n",
       "    <tr>\n",
       "      <th>268</th>\n",
       "      <td>Pleasantville, New Jersey</td>\n",
       "      <td>2019-11-15 00:00:00</td>\n",
       "      <td>1</td>\n",
       "      <td>2</td>\n",
       "      <td>Five men opened fire during a playoff game bet...</td>\n",
       "      <td>False</td>\n",
       "    </tr>\n",
       "    <tr>\n",
       "      <th>269</th>\n",
       "      <td>Union City, California</td>\n",
       "      <td>2019-11-23 00:00:00</td>\n",
       "      <td>2</td>\n",
       "      <td>0</td>\n",
       "      <td>Two boys, aged 11 and 14-years-old were shot i...</td>\n",
       "      <td>False</td>\n",
       "    </tr>\n",
       "    <tr>\n",
       "      <th>270</th>\n",
       "      <td>Vancouver, Washington</td>\n",
       "      <td>2019-11-27 00:00:00</td>\n",
       "      <td>2</td>\n",
       "      <td>1</td>\n",
       "      <td>Tiffany Hill who was fatally shot by her estra...</td>\n",
       "      <td>False</td>\n",
       "    </tr>\n",
       "  </tbody>\n",
       "</table>\n",
       "</div>"
      ],
      "text/plain": [
       "                      Location                 Date Deaths Injuries  \\\n",
       "266     Santa Rosa, California  2019-10-22 00:00:00      0        1   \n",
       "267  Santa Clarita, California  2019-11-14 00:00:00      3        3   \n",
       "268  Pleasantville, New Jersey  2019-11-15 00:00:00      1        2   \n",
       "269     Union City, California  2019-11-23 00:00:00      2        0   \n",
       "270      Vancouver, Washington  2019-11-27 00:00:00      2        1   \n",
       "\n",
       "                                           Description  City Mentioned  \n",
       "266  A 16-year-old student was shot twice, at least...            True  \n",
       "267  Saugus High School shooting: Five people were ...            True  \n",
       "268  Five men opened fire during a playoff game bet...           False  \n",
       "269  Two boys, aged 11 and 14-years-old were shot i...           False  \n",
       "270  Tiffany Hill who was fatally shot by her estra...           False  "
      ]
     },
     "execution_count": 70,
     "metadata": {},
     "output_type": "execute_result"
    }
   ],
   "source": [
    "df3.tail()"
   ]
  },
  {
   "cell_type": "markdown",
   "metadata": {},
   "source": [
    "### Getting other attributes of the school shootings\n",
    "We can get the population of each of the cities by parsing the html from each of the cities. We have the link to the cities since wikipedia has the format of CITY,_STATE. We can go through each of the rows in the informatino box to find the population. We can also leverage this code to find other important factors in the information box. "
   ]
  },
  {
   "cell_type": "code",
   "execution_count": 71,
   "metadata": {},
   "outputs": [],
   "source": [
    "# Currently this function takes in one url.\n",
    "def parse_city(url):\n",
    "    city_pop = \"\"\n",
    "    city_url = rq.get(url).text\n",
    "    soup = BeautifulSoup(city_url)\n",
    "    #print(soup.prettify())\n",
    "    texts = soup.find_all(\"tr\")\n",
    "    nxt = False\n",
    "    count = 0\n",
    "    for link in texts:\n",
    "        if nxt:\n",
    "            #if \n",
    "            pop = link.td.get_text()\n",
    "            pop = pop.replace(u'\\xa0', u' ')\n",
    "            pop = pop.split(' ')[0]\n",
    "            if pop[-1] == \"]\":\n",
    "                pop = pop[0:len(pop)-3]\n",
    "            return pop\n",
    "        if link.get_text()[0:10] == \"Population\":\n",
    "            nxt = True"
   ]
  },
  {
   "cell_type": "markdown",
   "metadata": {},
   "source": [
    "Here is a list of examples of the code chunk above, and you can verify the Populations on the website if you'd like."
   ]
  },
  {
   "cell_type": "code",
   "execution_count": 72,
   "metadata": {},
   "outputs": [
    {
     "name": "stdout",
     "output_type": "stream",
     "text": [
      "102,434\n",
      "34,910\n",
      "343,829\n",
      "71,050\n",
      "1,684\n",
      "73,580\n",
      "572,003\n"
     ]
    }
   ],
   "source": [
    "print(parse_city(\"https://en.wikipedia.org/wiki/Flint,_Michigan\"))\n",
    "print(parse_city(\"https://en.wikipedia.org/wiki/Lake_Worth_Beach,_Florida\"))\n",
    "print(parse_city(\"https://en.wikipedia.org/wiki/New_Orleans\"))\n",
    "print(parse_city(\"https://en.wikipedia.org/wiki/Riverview,_Florida\"))\n",
    "print(parse_city(\"https://en.wikipedia.org/wiki/Blountsville,_Alabama\"))\n",
    "print(parse_city(\"https://en.wikipedia.org/wiki/Fayetteville,_Arkansas\"))\n",
    "print(parse_city(\"https://en.wikipedia.org/wiki/Arapahoe_County,_Colorado\"))\n"
   ]
  },
  {
   "cell_type": "code",
   "execution_count": 73,
   "metadata": {},
   "outputs": [],
   "source": [
    "def add_population(df):\n",
    "    city_populations = []\n",
    "    for i, row in df.iterrows():\n",
    "        #Blounstville, Alabama is misspelled in their table.\n",
    "        if row['Location'] == \"Blounstville, Alabama\":\n",
    "            loc = (\"Blountsville, Alabama\").rstrip().replace(\" \", \"_\")\n",
    "            url = \"https://en.wikipedia.org/wiki/\" + loc\n",
    "            pop = parse_city(url)\n",
    "            city_populations.append(pop)\n",
    "        elif row['Location'] is not None:\n",
    "            loc = (row[\"Location\"]).rstrip().replace(\" \", \"_\")\n",
    "            url = \"https://en.wikipedia.org/wiki/\" + loc\n",
    "            pop = parse_city(url)\n",
    "            city_populations.append(pop)\n",
    "        else:\n",
    "            city_populations.append('None')\n",
    "    df['Population'] = city_populations\n",
    "    return df\n",
    "\n",
    "masterdf = add_population(df3)"
   ]
  },
  {
   "cell_type": "code",
   "execution_count": 75,
   "metadata": {},
   "outputs": [
    {
     "data": {
      "text/html": [
       "<div>\n",
       "<style scoped>\n",
       "    .dataframe tbody tr th:only-of-type {\n",
       "        vertical-align: middle;\n",
       "    }\n",
       "\n",
       "    .dataframe tbody tr th {\n",
       "        vertical-align: top;\n",
       "    }\n",
       "\n",
       "    .dataframe thead th {\n",
       "        text-align: right;\n",
       "    }\n",
       "</style>\n",
       "<table border=\"1\" class=\"dataframe\">\n",
       "  <thead>\n",
       "    <tr style=\"text-align: right;\">\n",
       "      <th></th>\n",
       "      <th>Location</th>\n",
       "      <th>Date</th>\n",
       "      <th>Deaths</th>\n",
       "      <th>Injuries</th>\n",
       "      <th>Description</th>\n",
       "      <th>City Mentioned</th>\n",
       "      <th>Population</th>\n",
       "    </tr>\n",
       "  </thead>\n",
       "  <tbody>\n",
       "    <tr>\n",
       "      <th>0</th>\n",
       "      <td>Flint, Michigan</td>\n",
       "      <td>2000-02-29 00:00:00</td>\n",
       "      <td>1</td>\n",
       "      <td>0</td>\n",
       "      <td>Shooting of Kayla Rolland: At Buell Elementary...</td>\n",
       "      <td>True</td>\n",
       "      <td>102,434</td>\n",
       "    </tr>\n",
       "    <tr>\n",
       "      <th>1</th>\n",
       "      <td>Lake Worth, Florida</td>\n",
       "      <td>2000-05-26 00:00:00</td>\n",
       "      <td>1</td>\n",
       "      <td>0</td>\n",
       "      <td>13-year-old honor student, Nathaniel Brazill, ...</td>\n",
       "      <td>False</td>\n",
       "      <td>34,910</td>\n",
       "    </tr>\n",
       "    <tr>\n",
       "      <th>2</th>\n",
       "      <td>Seattle, Washington</td>\n",
       "      <td>2000-06-28 00:00:00</td>\n",
       "      <td>2</td>\n",
       "      <td>0</td>\n",
       "      <td>58-year-old Director of the Division of Pathol...</td>\n",
       "      <td>False</td>\n",
       "      <td>608,660</td>\n",
       "    </tr>\n",
       "    <tr>\n",
       "      <th>3</th>\n",
       "      <td>Fayetteville, Arkansas</td>\n",
       "      <td>2000-08-28 00:00:00</td>\n",
       "      <td>2</td>\n",
       "      <td>0</td>\n",
       "      <td>36-year-old James Easton Kelly, a PhD candidat...</td>\n",
       "      <td>False</td>\n",
       "      <td>73,580</td>\n",
       "    </tr>\n",
       "    <tr>\n",
       "      <th>4</th>\n",
       "      <td>New Orleans, Louisiana</td>\n",
       "      <td>2000-09-26 00:00:00</td>\n",
       "      <td>0</td>\n",
       "      <td>2</td>\n",
       "      <td>13 year-olds Darrel Johnson, and Alfred Anders...</td>\n",
       "      <td>True</td>\n",
       "      <td>343,829</td>\n",
       "    </tr>\n",
       "    <tr>\n",
       "      <th>5</th>\n",
       "      <td>San Diego, California</td>\n",
       "      <td>2000-12-01 00:00:00</td>\n",
       "      <td>0</td>\n",
       "      <td>1</td>\n",
       "      <td>A 15-year-old Junipero Serra High School stude...</td>\n",
       "      <td>True</td>\n",
       "      <td>1,307,402</td>\n",
       "    </tr>\n",
       "    <tr>\n",
       "      <th>6</th>\n",
       "      <td>Santee, California</td>\n",
       "      <td>2001-03-05 00:00:00</td>\n",
       "      <td>2</td>\n",
       "      <td>13</td>\n",
       "      <td>Santana High School shooting: 15-year-old stud...</td>\n",
       "      <td>True</td>\n",
       "      <td>53,413</td>\n",
       "    </tr>\n",
       "    <tr>\n",
       "      <th>7</th>\n",
       "      <td>Williamsport, Pennsylvania</td>\n",
       "      <td>2001-03-07 00:00:00</td>\n",
       "      <td>0</td>\n",
       "      <td>1</td>\n",
       "      <td>14-year-old student, Elizabeth Catherine Bush,...</td>\n",
       "      <td>False</td>\n",
       "      <td>29,381</td>\n",
       "    </tr>\n",
       "    <tr>\n",
       "      <th>8</th>\n",
       "      <td>Parkland, Washington</td>\n",
       "      <td>2001-05-16 00:00:00</td>\n",
       "      <td>2</td>\n",
       "      <td>0</td>\n",
       "      <td>40-year-old music instructor and organist Jame...</td>\n",
       "      <td>False</td>\n",
       "      <td>35,803</td>\n",
       "    </tr>\n",
       "    <tr>\n",
       "      <th>9</th>\n",
       "      <td>El Cajon, California</td>\n",
       "      <td>2001-03-22 00:00:00</td>\n",
       "      <td>0</td>\n",
       "      <td>5</td>\n",
       "      <td>18-year-old former student, Jason Hoffman, ope...</td>\n",
       "      <td>False</td>\n",
       "      <td>99,478</td>\n",
       "    </tr>\n",
       "    <tr>\n",
       "      <th>10</th>\n",
       "      <td>Gary, Indiana</td>\n",
       "      <td>2001-03-30 00:00:00</td>\n",
       "      <td>1</td>\n",
       "      <td>0</td>\n",
       "      <td>17-year-old Donald Ray Burt Jr., fatally shot ...</td>\n",
       "      <td>False</td>\n",
       "      <td>80,294</td>\n",
       "    </tr>\n",
       "    <tr>\n",
       "      <th>11</th>\n",
       "      <td>New York City, New York</td>\n",
       "      <td>2002-01-15 00:00:00</td>\n",
       "      <td>0</td>\n",
       "      <td>2</td>\n",
       "      <td>17-year-old Vincent Rodriguez, wounded two stu...</td>\n",
       "      <td>False</td>\n",
       "      <td>8,175,133</td>\n",
       "    </tr>\n",
       "    <tr>\n",
       "      <th>12</th>\n",
       "      <td>Grundy, Virginia</td>\n",
       "      <td>2002-01-16 00:00:00</td>\n",
       "      <td>3</td>\n",
       "      <td>3</td>\n",
       "      <td>Appalachian School of Law shooting: Recently d...</td>\n",
       "      <td>True</td>\n",
       "      <td>1,021</td>\n",
       "    </tr>\n",
       "    <tr>\n",
       "      <th>13</th>\n",
       "      <td>Milwaukee, Wisconsin</td>\n",
       "      <td>2002-02-20 00:00:00</td>\n",
       "      <td>1</td>\n",
       "      <td>0</td>\n",
       "      <td>16-year-old Washington High School student, Jo...</td>\n",
       "      <td>False</td>\n",
       "      <td>592,025</td>\n",
       "    </tr>\n",
       "    <tr>\n",
       "      <th>14</th>\n",
       "      <td>Bowie, Maryland</td>\n",
       "      <td>2002-10-07 00:00:00</td>\n",
       "      <td>0</td>\n",
       "      <td>1</td>\n",
       "      <td>In the Beltway sniper attacks, one victim of s...</td>\n",
       "      <td>False</td>\n",
       "      <td>54,727</td>\n",
       "    </tr>\n",
       "    <tr>\n",
       "      <th>15</th>\n",
       "      <td>Tucson, Arizona</td>\n",
       "      <td>2002-10-28 00:00:00</td>\n",
       "      <td>4</td>\n",
       "      <td>0</td>\n",
       "      <td>Failing nursing college student and Gulf War v...</td>\n",
       "      <td>False</td>\n",
       "      <td>520,116</td>\n",
       "    </tr>\n",
       "    <tr>\n",
       "      <th>16</th>\n",
       "      <td>Jersey City, New Jersey</td>\n",
       "      <td>2002-10-29 00:00:00</td>\n",
       "      <td>0</td>\n",
       "      <td>1</td>\n",
       "      <td>A 15-year-old student was shot in the abdomen ...</td>\n",
       "      <td>True</td>\n",
       "      <td>247,597</td>\n",
       "    </tr>\n",
       "    <tr>\n",
       "      <th>17</th>\n",
       "      <td>New Orleans, Louisiana</td>\n",
       "      <td>2003-04-14 00:00:00</td>\n",
       "      <td>1</td>\n",
       "      <td>3</td>\n",
       "      <td>John McDonogh High School shooting. 18-year-ol...</td>\n",
       "      <td>True</td>\n",
       "      <td>343,829</td>\n",
       "    </tr>\n",
       "    <tr>\n",
       "      <th>18</th>\n",
       "      <td>Red Lion, Pennsylvania</td>\n",
       "      <td>2003-04-24 00:00:00</td>\n",
       "      <td>2</td>\n",
       "      <td>0</td>\n",
       "      <td>14-year-old student James Sheets, entered Red ...</td>\n",
       "      <td>True</td>\n",
       "      <td>6,373</td>\n",
       "    </tr>\n",
       "    <tr>\n",
       "      <th>19</th>\n",
       "      <td>Cleveland, Ohio</td>\n",
       "      <td>2003-05-09 00:00:00</td>\n",
       "      <td>1</td>\n",
       "      <td>2</td>\n",
       "      <td>On May 9, 2003, Biswanath Halder, a 62-year-ol...</td>\n",
       "      <td>False</td>\n",
       "      <td>396,698</td>\n",
       "    </tr>\n",
       "    <tr>\n",
       "      <th>20</th>\n",
       "      <td>Cold Spring, Minnesota</td>\n",
       "      <td>2003-09-24 00:00:00</td>\n",
       "      <td>2</td>\n",
       "      <td>0</td>\n",
       "      <td>Rocori High School shooting: 15-year-old John ...</td>\n",
       "      <td>True</td>\n",
       "      <td>4,025</td>\n",
       "    </tr>\n",
       "    <tr>\n",
       "      <th>21</th>\n",
       "      <td>Washington, D.C.</td>\n",
       "      <td>2004-02-02 00:00:00</td>\n",
       "      <td>1</td>\n",
       "      <td>0</td>\n",
       "      <td>Thomas J. Boykin was acquitted of the murder o...</td>\n",
       "      <td>False</td>\n",
       "      <td>702,445</td>\n",
       "    </tr>\n",
       "    <tr>\n",
       "      <th>22</th>\n",
       "      <td>East Greenbush, New York</td>\n",
       "      <td>2004-02-09 00:00:00</td>\n",
       "      <td>0</td>\n",
       "      <td>1</td>\n",
       "      <td>Jon W. Romano in East Greenbush, New York fire...</td>\n",
       "      <td>False</td>\n",
       "      <td>16,473</td>\n",
       "    </tr>\n",
       "    <tr>\n",
       "      <th>23</th>\n",
       "      <td>Randallstown, Maryland</td>\n",
       "      <td>2004-05-07 00:00:00</td>\n",
       "      <td>0</td>\n",
       "      <td>4</td>\n",
       "      <td>Two students were charged with a school shooti...</td>\n",
       "      <td>False</td>\n",
       "      <td>32,430</td>\n",
       "    </tr>\n",
       "    <tr>\n",
       "      <th>24</th>\n",
       "      <td>Chicago, Illinois</td>\n",
       "      <td>2005-02-08 00:00:00</td>\n",
       "      <td>0</td>\n",
       "      <td>1</td>\n",
       "      <td>An 18-year-old student at Bowen High School wa...</td>\n",
       "      <td>True</td>\n",
       "      <td>2,695,598</td>\n",
       "    </tr>\n",
       "    <tr>\n",
       "      <th>25</th>\n",
       "      <td>Dover, Tennessee</td>\n",
       "      <td>2005-03-02 00:00:00</td>\n",
       "      <td>1</td>\n",
       "      <td>0</td>\n",
       "      <td>14-year-old Jason Clinard, killed his bus driv...</td>\n",
       "      <td>False</td>\n",
       "      <td>1,417</td>\n",
       "    </tr>\n",
       "    <tr>\n",
       "      <th>26</th>\n",
       "      <td>Red Lake, Minnesota</td>\n",
       "      <td>2005-03-21 00:00:00</td>\n",
       "      <td>10</td>\n",
       "      <td>7</td>\n",
       "      <td>Red Lake shootings: 16-year-old student Jeffre...</td>\n",
       "      <td>True</td>\n",
       "      <td>1,731</td>\n",
       "    </tr>\n",
       "    <tr>\n",
       "      <th>27</th>\n",
       "      <td>Chicago, Illinois</td>\n",
       "      <td>2005-09-13 00:00:00</td>\n",
       "      <td>0</td>\n",
       "      <td>1</td>\n",
       "      <td>At Harlan Community Academy High School, a fig...</td>\n",
       "      <td>True</td>\n",
       "      <td>2,695,598</td>\n",
       "    </tr>\n",
       "    <tr>\n",
       "      <th>28</th>\n",
       "      <td>Jacksboro, Tennessee</td>\n",
       "      <td>2005-11-08 00:00:00</td>\n",
       "      <td>1</td>\n",
       "      <td>2</td>\n",
       "      <td>Campbell County High School shooting: Inside t...</td>\n",
       "      <td>False</td>\n",
       "      <td>2,020</td>\n",
       "    </tr>\n",
       "    <tr>\n",
       "      <th>29</th>\n",
       "      <td>Roseburg, Oregon</td>\n",
       "      <td>2006-02-23 00:00:00</td>\n",
       "      <td>0</td>\n",
       "      <td>1</td>\n",
       "      <td>14-year-old freshman Vincent Wayne Leodoro, sh...</td>\n",
       "      <td>True</td>\n",
       "      <td>21,181</td>\n",
       "    </tr>\n",
       "    <tr>\n",
       "      <th>...</th>\n",
       "      <td>...</td>\n",
       "      <td>...</td>\n",
       "      <td>...</td>\n",
       "      <td>...</td>\n",
       "      <td>...</td>\n",
       "      <td>...</td>\n",
       "      <td>...</td>\n",
       "    </tr>\n",
       "    <tr>\n",
       "      <th>239</th>\n",
       "      <td>Mobile, Alabama</td>\n",
       "      <td>2019-01-25 00:00:00</td>\n",
       "      <td>0</td>\n",
       "      <td>2</td>\n",
       "      <td>Two males were wounded after basketball game a...</td>\n",
       "      <td>False</td>\n",
       "      <td>195,111</td>\n",
       "    </tr>\n",
       "    <tr>\n",
       "      <th>240</th>\n",
       "      <td>Lithonia, Georgia</td>\n",
       "      <td>2019-01-30 00:00:00</td>\n",
       "      <td>0</td>\n",
       "      <td>1</td>\n",
       "      <td>A man running on the Miller Grove High School ...</td>\n",
       "      <td>False</td>\n",
       "      <td>1,924</td>\n",
       "    </tr>\n",
       "    <tr>\n",
       "      <th>241</th>\n",
       "      <td>Prairie View, Texas</td>\n",
       "      <td>2019-01-30 00:00:00</td>\n",
       "      <td>0</td>\n",
       "      <td>0</td>\n",
       "      <td>Shots were fired at Prairie View A&amp;M Universit...</td>\n",
       "      <td>False</td>\n",
       "      <td>5,576</td>\n",
       "    </tr>\n",
       "    <tr>\n",
       "      <th>242</th>\n",
       "      <td>Memphis, Tennessee</td>\n",
       "      <td>2019-01-31 00:00:00</td>\n",
       "      <td>0</td>\n",
       "      <td>1</td>\n",
       "      <td>At Manassas High School, a 14-year-old student...</td>\n",
       "      <td>False</td>\n",
       "      <td>646,889</td>\n",
       "    </tr>\n",
       "    <tr>\n",
       "      <th>243</th>\n",
       "      <td>Humble, Texas</td>\n",
       "      <td>2019-01-31 00:00:00</td>\n",
       "      <td>0</td>\n",
       "      <td>1</td>\n",
       "      <td>Seventeen-year-old Mikael Neciosup, a student ...</td>\n",
       "      <td>False</td>\n",
       "      <td>15,133</td>\n",
       "    </tr>\n",
       "    <tr>\n",
       "      <th>244</th>\n",
       "      <td>Baltimore, Maryland</td>\n",
       "      <td>2019-02-08 00:00:00</td>\n",
       "      <td>0</td>\n",
       "      <td>1</td>\n",
       "      <td>A 25-year-old was confronted by an adult staff...</td>\n",
       "      <td>True</td>\n",
       "      <td>620,961</td>\n",
       "    </tr>\n",
       "    <tr>\n",
       "      <th>245</th>\n",
       "      <td>Kansas City, Missouri</td>\n",
       "      <td>2019-02-12 00:00:00</td>\n",
       "      <td>1</td>\n",
       "      <td>0</td>\n",
       "      <td>During a basketball game at the Central Academ...</td>\n",
       "      <td>True</td>\n",
       "      <td>459,787</td>\n",
       "    </tr>\n",
       "    <tr>\n",
       "      <th>246</th>\n",
       "      <td>Rio Rancho, New Mexico</td>\n",
       "      <td>2019-02-14 00:00:00</td>\n",
       "      <td>0</td>\n",
       "      <td>0</td>\n",
       "      <td>Sixteen-year-old student Joshua Owen discharge...</td>\n",
       "      <td>True</td>\n",
       "      <td>87,521</td>\n",
       "    </tr>\n",
       "    <tr>\n",
       "      <th>247</th>\n",
       "      <td>Arapahoe County, Colorado</td>\n",
       "      <td>2019-02-17 00:00:00</td>\n",
       "      <td>1</td>\n",
       "      <td>0</td>\n",
       "      <td>Two adult men in an ongoing dispute about a pa...</td>\n",
       "      <td>False</td>\n",
       "      <td>572,003</td>\n",
       "    </tr>\n",
       "    <tr>\n",
       "      <th>248</th>\n",
       "      <td>Montgomery, Alabama</td>\n",
       "      <td>2019-02-26 00:00:00</td>\n",
       "      <td>0</td>\n",
       "      <td>1</td>\n",
       "      <td>At Robert E. Lee High School, a 17-year-old st...</td>\n",
       "      <td>True</td>\n",
       "      <td>205,764</td>\n",
       "    </tr>\n",
       "    <tr>\n",
       "      <th>249</th>\n",
       "      <td>Cheyenne, Wyoming</td>\n",
       "      <td>2019-02-28 00:00:00</td>\n",
       "      <td>0</td>\n",
       "      <td>0</td>\n",
       "      <td>A 17-year-old student at Cheyenne South High S...</td>\n",
       "      <td>False</td>\n",
       "      <td>59,466</td>\n",
       "    </tr>\n",
       "    <tr>\n",
       "      <th>250</th>\n",
       "      <td>Grambling, Louisiana</td>\n",
       "      <td>2019-03-07 00:00:00</td>\n",
       "      <td>0</td>\n",
       "      <td>1</td>\n",
       "      <td>A Grambling State University student was injur...</td>\n",
       "      <td>False</td>\n",
       "      <td>4,949</td>\n",
       "    </tr>\n",
       "    <tr>\n",
       "      <th>251</th>\n",
       "      <td>Blounstville, Alabama</td>\n",
       "      <td>2019-03-22 00:00:00</td>\n",
       "      <td>0</td>\n",
       "      <td>1</td>\n",
       "      <td>A substitute teacher at Blountsville Elementar...</td>\n",
       "      <td>False</td>\n",
       "      <td>1,684</td>\n",
       "    </tr>\n",
       "    <tr>\n",
       "      <th>252</th>\n",
       "      <td>Holmes County, Mississippi</td>\n",
       "      <td>2019-03-27 00:00:00</td>\n",
       "      <td>0</td>\n",
       "      <td>1</td>\n",
       "      <td>A 10-year-old student was struck in the hand b...</td>\n",
       "      <td>False</td>\n",
       "      <td>19,198</td>\n",
       "    </tr>\n",
       "    <tr>\n",
       "      <th>253</th>\n",
       "      <td>Prescott, Arkansas</td>\n",
       "      <td>2019-04-01 00:00:00</td>\n",
       "      <td>0</td>\n",
       "      <td>1</td>\n",
       "      <td>A 14-year-old male student with a concealed we...</td>\n",
       "      <td>False</td>\n",
       "      <td>3,296</td>\n",
       "    </tr>\n",
       "    <tr>\n",
       "      <th>254</th>\n",
       "      <td>Texas City, Texas</td>\n",
       "      <td>2019-04-25 00:00:00</td>\n",
       "      <td>0</td>\n",
       "      <td>3</td>\n",
       "      <td>At College of the Mainland, a police cadet stu...</td>\n",
       "      <td>False</td>\n",
       "      <td>45,099</td>\n",
       "    </tr>\n",
       "    <tr>\n",
       "      <th>255</th>\n",
       "      <td>Stone Mountain, Georgia</td>\n",
       "      <td>2019-04-25 00:00:00</td>\n",
       "      <td>0</td>\n",
       "      <td>10</td>\n",
       "      <td>At a teen armed with a pellet gun fired at Wyn...</td>\n",
       "      <td>False</td>\n",
       "      <td>5,802</td>\n",
       "    </tr>\n",
       "    <tr>\n",
       "      <th>256</th>\n",
       "      <td>Charlotte, North Carolina</td>\n",
       "      <td>2019-04-30 00:00:00</td>\n",
       "      <td>2</td>\n",
       "      <td>4</td>\n",
       "      <td>2019 UNCC shooting: A shooter on the Universit...</td>\n",
       "      <td>True</td>\n",
       "      <td>731,424</td>\n",
       "    </tr>\n",
       "    <tr>\n",
       "      <th>257</th>\n",
       "      <td>Eugene, Oregon</td>\n",
       "      <td>2019-05-04 00:00:00</td>\n",
       "      <td>1</td>\n",
       "      <td>0</td>\n",
       "      <td>A 21-year-old Lane Community College student w...</td>\n",
       "      <td>True</td>\n",
       "      <td>156,185</td>\n",
       "    </tr>\n",
       "    <tr>\n",
       "      <th>258</th>\n",
       "      <td>Riverview, Florida</td>\n",
       "      <td>2019-05-06 00:00:00</td>\n",
       "      <td>0</td>\n",
       "      <td>0</td>\n",
       "      <td>A person shot through a window of an elementar...</td>\n",
       "      <td>False</td>\n",
       "      <td>71,050</td>\n",
       "    </tr>\n",
       "    <tr>\n",
       "      <th>259</th>\n",
       "      <td>Highlands Ranch, Colorado</td>\n",
       "      <td>2019-05-07 00:00:00</td>\n",
       "      <td>1</td>\n",
       "      <td>8</td>\n",
       "      <td>STEM School Highlands Ranch shooting: Two shoo...</td>\n",
       "      <td>True</td>\n",
       "      <td>96,713</td>\n",
       "    </tr>\n",
       "    <tr>\n",
       "      <th>260</th>\n",
       "      <td>Savannah, Georgia</td>\n",
       "      <td>2019-05-07 00:00:00</td>\n",
       "      <td>0</td>\n",
       "      <td>1</td>\n",
       "      <td>A man who was not a student at Savannah State ...</td>\n",
       "      <td>False</td>\n",
       "      <td>136,286</td>\n",
       "    </tr>\n",
       "    <tr>\n",
       "      <th>261</th>\n",
       "      <td>Montgomery, Alabama</td>\n",
       "      <td>2019-08-08 00:00:00</td>\n",
       "      <td>0</td>\n",
       "      <td>0</td>\n",
       "      <td>38-year old Isaiah Johnson, dropped his son of...</td>\n",
       "      <td>True</td>\n",
       "      <td>205,764</td>\n",
       "    </tr>\n",
       "    <tr>\n",
       "      <th>262</th>\n",
       "      <td>Mobile, Alabama</td>\n",
       "      <td>2019-08-30 00:00:00</td>\n",
       "      <td>0</td>\n",
       "      <td>10</td>\n",
       "      <td>Deangelo Dejuan Parnell shot 9 people during a...</td>\n",
       "      <td>False</td>\n",
       "      <td>195,111</td>\n",
       "    </tr>\n",
       "    <tr>\n",
       "      <th>263</th>\n",
       "      <td>Nashville, Tennessee</td>\n",
       "      <td>2019-10-13 00:00:00</td>\n",
       "      <td>1</td>\n",
       "      <td>0</td>\n",
       "      <td>A 19-year-old student was found unconscious wi...</td>\n",
       "      <td>False</td>\n",
       "      <td>692,587</td>\n",
       "    </tr>\n",
       "    <tr>\n",
       "      <th>264</th>\n",
       "      <td>Santa Rosa, California</td>\n",
       "      <td>2019-10-22 00:00:00</td>\n",
       "      <td>0</td>\n",
       "      <td>1</td>\n",
       "      <td>A 16-year-old student was shot twice, at least...</td>\n",
       "      <td>True</td>\n",
       "      <td>167,815</td>\n",
       "    </tr>\n",
       "    <tr>\n",
       "      <th>265</th>\n",
       "      <td>Santa Clarita, California</td>\n",
       "      <td>2019-11-14 00:00:00</td>\n",
       "      <td>3</td>\n",
       "      <td>3</td>\n",
       "      <td>Saugus High School shooting: Five people were ...</td>\n",
       "      <td>True</td>\n",
       "      <td>176,320</td>\n",
       "    </tr>\n",
       "    <tr>\n",
       "      <th>266</th>\n",
       "      <td>Pleasantville, New Jersey</td>\n",
       "      <td>2019-11-15 00:00:00</td>\n",
       "      <td>1</td>\n",
       "      <td>2</td>\n",
       "      <td>Five men opened fire during a playoff game bet...</td>\n",
       "      <td>False</td>\n",
       "      <td>20,249</td>\n",
       "    </tr>\n",
       "    <tr>\n",
       "      <th>267</th>\n",
       "      <td>Union City, California</td>\n",
       "      <td>2019-11-23 00:00:00</td>\n",
       "      <td>2</td>\n",
       "      <td>0</td>\n",
       "      <td>Two boys, aged 11 and 14-years-old were shot i...</td>\n",
       "      <td>False</td>\n",
       "      <td>69,516</td>\n",
       "    </tr>\n",
       "    <tr>\n",
       "      <th>268</th>\n",
       "      <td>Vancouver, Washington</td>\n",
       "      <td>2019-11-27 00:00:00</td>\n",
       "      <td>2</td>\n",
       "      <td>1</td>\n",
       "      <td>Tiffany Hill who was fatally shot by her estra...</td>\n",
       "      <td>False</td>\n",
       "      <td>161,791</td>\n",
       "    </tr>\n",
       "  </tbody>\n",
       "</table>\n",
       "<p>269 rows × 7 columns</p>\n",
       "</div>"
      ],
      "text/plain": [
       "                       Location                 Date Deaths Injuries  \\\n",
       "0               Flint, Michigan  2000-02-29 00:00:00      1        0   \n",
       "1           Lake Worth, Florida  2000-05-26 00:00:00      1        0   \n",
       "2           Seattle, Washington  2000-06-28 00:00:00      2        0   \n",
       "3        Fayetteville, Arkansas  2000-08-28 00:00:00      2        0   \n",
       "4        New Orleans, Louisiana  2000-09-26 00:00:00      0        2   \n",
       "5         San Diego, California  2000-12-01 00:00:00      0        1   \n",
       "6            Santee, California  2001-03-05 00:00:00      2       13   \n",
       "7    Williamsport, Pennsylvania  2001-03-07 00:00:00      0        1   \n",
       "8          Parkland, Washington  2001-05-16 00:00:00      2        0   \n",
       "9          El Cajon, California  2001-03-22 00:00:00      0        5   \n",
       "10                Gary, Indiana  2001-03-30 00:00:00      1        0   \n",
       "11      New York City, New York  2002-01-15 00:00:00      0        2   \n",
       "12             Grundy, Virginia  2002-01-16 00:00:00      3        3   \n",
       "13         Milwaukee, Wisconsin  2002-02-20 00:00:00      1        0   \n",
       "14              Bowie, Maryland  2002-10-07 00:00:00      0        1   \n",
       "15              Tucson, Arizona  2002-10-28 00:00:00      4        0   \n",
       "16      Jersey City, New Jersey  2002-10-29 00:00:00      0        1   \n",
       "17       New Orleans, Louisiana  2003-04-14 00:00:00      1        3   \n",
       "18       Red Lion, Pennsylvania  2003-04-24 00:00:00      2        0   \n",
       "19              Cleveland, Ohio  2003-05-09 00:00:00      1        2   \n",
       "20       Cold Spring, Minnesota  2003-09-24 00:00:00      2        0   \n",
       "21             Washington, D.C.  2004-02-02 00:00:00      1        0   \n",
       "22     East Greenbush, New York  2004-02-09 00:00:00      0        1   \n",
       "23       Randallstown, Maryland  2004-05-07 00:00:00      0        4   \n",
       "24            Chicago, Illinois  2005-02-08 00:00:00      0        1   \n",
       "25             Dover, Tennessee  2005-03-02 00:00:00      1        0   \n",
       "26          Red Lake, Minnesota  2005-03-21 00:00:00     10        7   \n",
       "27            Chicago, Illinois  2005-09-13 00:00:00      0        1   \n",
       "28         Jacksboro, Tennessee  2005-11-08 00:00:00      1        2   \n",
       "29             Roseburg, Oregon  2006-02-23 00:00:00      0        1   \n",
       "..                          ...                  ...    ...      ...   \n",
       "239             Mobile, Alabama  2019-01-25 00:00:00      0        2   \n",
       "240           Lithonia, Georgia  2019-01-30 00:00:00      0        1   \n",
       "241         Prairie View, Texas  2019-01-30 00:00:00      0        0   \n",
       "242          Memphis, Tennessee  2019-01-31 00:00:00      0        1   \n",
       "243               Humble, Texas  2019-01-31 00:00:00      0        1   \n",
       "244         Baltimore, Maryland  2019-02-08 00:00:00      0        1   \n",
       "245       Kansas City, Missouri  2019-02-12 00:00:00      1        0   \n",
       "246      Rio Rancho, New Mexico  2019-02-14 00:00:00      0        0   \n",
       "247   Arapahoe County, Colorado  2019-02-17 00:00:00      1        0   \n",
       "248         Montgomery, Alabama  2019-02-26 00:00:00      0        1   \n",
       "249           Cheyenne, Wyoming  2019-02-28 00:00:00      0        0   \n",
       "250        Grambling, Louisiana  2019-03-07 00:00:00      0        1   \n",
       "251       Blounstville, Alabama  2019-03-22 00:00:00      0        1   \n",
       "252  Holmes County, Mississippi  2019-03-27 00:00:00      0        1   \n",
       "253          Prescott, Arkansas  2019-04-01 00:00:00      0        1   \n",
       "254           Texas City, Texas  2019-04-25 00:00:00      0        3   \n",
       "255     Stone Mountain, Georgia  2019-04-25 00:00:00      0       10   \n",
       "256   Charlotte, North Carolina  2019-04-30 00:00:00      2        4   \n",
       "257              Eugene, Oregon  2019-05-04 00:00:00      1        0   \n",
       "258          Riverview, Florida  2019-05-06 00:00:00      0        0   \n",
       "259   Highlands Ranch, Colorado  2019-05-07 00:00:00      1        8   \n",
       "260           Savannah, Georgia  2019-05-07 00:00:00      0        1   \n",
       "261         Montgomery, Alabama  2019-08-08 00:00:00      0        0   \n",
       "262             Mobile, Alabama  2019-08-30 00:00:00      0       10   \n",
       "263        Nashville, Tennessee  2019-10-13 00:00:00      1        0   \n",
       "264      Santa Rosa, California  2019-10-22 00:00:00      0        1   \n",
       "265   Santa Clarita, California  2019-11-14 00:00:00      3        3   \n",
       "266   Pleasantville, New Jersey  2019-11-15 00:00:00      1        2   \n",
       "267      Union City, California  2019-11-23 00:00:00      2        0   \n",
       "268       Vancouver, Washington  2019-11-27 00:00:00      2        1   \n",
       "\n",
       "                                           Description  City Mentioned  \\\n",
       "0    Shooting of Kayla Rolland: At Buell Elementary...            True   \n",
       "1    13-year-old honor student, Nathaniel Brazill, ...           False   \n",
       "2    58-year-old Director of the Division of Pathol...           False   \n",
       "3    36-year-old James Easton Kelly, a PhD candidat...           False   \n",
       "4    13 year-olds Darrel Johnson, and Alfred Anders...            True   \n",
       "5    A 15-year-old Junipero Serra High School stude...            True   \n",
       "6    Santana High School shooting: 15-year-old stud...            True   \n",
       "7    14-year-old student, Elizabeth Catherine Bush,...           False   \n",
       "8    40-year-old music instructor and organist Jame...           False   \n",
       "9    18-year-old former student, Jason Hoffman, ope...           False   \n",
       "10   17-year-old Donald Ray Burt Jr., fatally shot ...           False   \n",
       "11   17-year-old Vincent Rodriguez, wounded two stu...           False   \n",
       "12   Appalachian School of Law shooting: Recently d...            True   \n",
       "13   16-year-old Washington High School student, Jo...           False   \n",
       "14   In the Beltway sniper attacks, one victim of s...           False   \n",
       "15   Failing nursing college student and Gulf War v...           False   \n",
       "16   A 15-year-old student was shot in the abdomen ...            True   \n",
       "17   John McDonogh High School shooting. 18-year-ol...            True   \n",
       "18   14-year-old student James Sheets, entered Red ...            True   \n",
       "19   On May 9, 2003, Biswanath Halder, a 62-year-ol...           False   \n",
       "20   Rocori High School shooting: 15-year-old John ...            True   \n",
       "21   Thomas J. Boykin was acquitted of the murder o...           False   \n",
       "22   Jon W. Romano in East Greenbush, New York fire...           False   \n",
       "23   Two students were charged with a school shooti...           False   \n",
       "24   An 18-year-old student at Bowen High School wa...            True   \n",
       "25   14-year-old Jason Clinard, killed his bus driv...           False   \n",
       "26   Red Lake shootings: 16-year-old student Jeffre...            True   \n",
       "27   At Harlan Community Academy High School, a fig...            True   \n",
       "28   Campbell County High School shooting: Inside t...           False   \n",
       "29   14-year-old freshman Vincent Wayne Leodoro, sh...            True   \n",
       "..                                                 ...             ...   \n",
       "239  Two males were wounded after basketball game a...           False   \n",
       "240  A man running on the Miller Grove High School ...           False   \n",
       "241  Shots were fired at Prairie View A&M Universit...           False   \n",
       "242  At Manassas High School, a 14-year-old student...           False   \n",
       "243  Seventeen-year-old Mikael Neciosup, a student ...           False   \n",
       "244  A 25-year-old was confronted by an adult staff...            True   \n",
       "245  During a basketball game at the Central Academ...            True   \n",
       "246  Sixteen-year-old student Joshua Owen discharge...            True   \n",
       "247  Two adult men in an ongoing dispute about a pa...           False   \n",
       "248  At Robert E. Lee High School, a 17-year-old st...            True   \n",
       "249  A 17-year-old student at Cheyenne South High S...           False   \n",
       "250  A Grambling State University student was injur...           False   \n",
       "251  A substitute teacher at Blountsville Elementar...           False   \n",
       "252  A 10-year-old student was struck in the hand b...           False   \n",
       "253  A 14-year-old male student with a concealed we...           False   \n",
       "254  At College of the Mainland, a police cadet stu...           False   \n",
       "255  At a teen armed with a pellet gun fired at Wyn...           False   \n",
       "256  2019 UNCC shooting: A shooter on the Universit...            True   \n",
       "257  A 21-year-old Lane Community College student w...            True   \n",
       "258  A person shot through a window of an elementar...           False   \n",
       "259  STEM School Highlands Ranch shooting: Two shoo...            True   \n",
       "260  A man who was not a student at Savannah State ...           False   \n",
       "261  38-year old Isaiah Johnson, dropped his son of...            True   \n",
       "262  Deangelo Dejuan Parnell shot 9 people during a...           False   \n",
       "263  A 19-year-old student was found unconscious wi...           False   \n",
       "264  A 16-year-old student was shot twice, at least...            True   \n",
       "265  Saugus High School shooting: Five people were ...            True   \n",
       "266  Five men opened fire during a playoff game bet...           False   \n",
       "267  Two boys, aged 11 and 14-years-old were shot i...           False   \n",
       "268  Tiffany Hill who was fatally shot by her estra...           False   \n",
       "\n",
       "    Population  \n",
       "0      102,434  \n",
       "1       34,910  \n",
       "2      608,660  \n",
       "3       73,580  \n",
       "4      343,829  \n",
       "5    1,307,402  \n",
       "6       53,413  \n",
       "7       29,381  \n",
       "8       35,803  \n",
       "9       99,478  \n",
       "10      80,294  \n",
       "11   8,175,133  \n",
       "12       1,021  \n",
       "13     592,025  \n",
       "14      54,727  \n",
       "15     520,116  \n",
       "16     247,597  \n",
       "17     343,829  \n",
       "18       6,373  \n",
       "19     396,698  \n",
       "20       4,025  \n",
       "21     702,445  \n",
       "22      16,473  \n",
       "23      32,430  \n",
       "24   2,695,598  \n",
       "25       1,417  \n",
       "26       1,731  \n",
       "27   2,695,598  \n",
       "28       2,020  \n",
       "29      21,181  \n",
       "..         ...  \n",
       "239    195,111  \n",
       "240      1,924  \n",
       "241      5,576  \n",
       "242    646,889  \n",
       "243     15,133  \n",
       "244    620,961  \n",
       "245    459,787  \n",
       "246     87,521  \n",
       "247    572,003  \n",
       "248    205,764  \n",
       "249     59,466  \n",
       "250      4,949  \n",
       "251      1,684  \n",
       "252     19,198  \n",
       "253      3,296  \n",
       "254     45,099  \n",
       "255      5,802  \n",
       "256    731,424  \n",
       "257    156,185  \n",
       "258     71,050  \n",
       "259     96,713  \n",
       "260    136,286  \n",
       "261    205,764  \n",
       "262    195,111  \n",
       "263    692,587  \n",
       "264    167,815  \n",
       "265    176,320  \n",
       "266     20,249  \n",
       "267     69,516  \n",
       "268    161,791  \n",
       "\n",
       "[269 rows x 7 columns]"
      ]
     },
     "execution_count": 75,
     "metadata": {},
     "output_type": "execute_result"
    }
   ],
   "source": [
    "masterdf"
   ]
  },
  {
   "cell_type": "markdown",
   "metadata": {},
   "source": [
    "### Visualizing our dataframe\n",
    "We can now plot our relevant data to find potential correlation between several different factors. We want to see if the graphs show us any signifance in terms of the relationship between the x and y axis that we choose for each plot."
   ]
  },
  {
   "cell_type": "code",
   "execution_count": 84,
   "metadata": {},
   "outputs": [
    {
     "data": {
      "application/vnd.plotly.v1+json": {
       "config": {
        "plotlyServerURL": "https://plot.ly"
       },
       "data": [
        {
         "hoverlabel": {
          "namelength": 0
         },
         "hovertemplate": "Year=%{x}<br>Number of Occurences=%{y}<br>Number of Deaths and Injuries=%{marker.size}",
         "legendgroup": "",
         "marker": {
          "color": "#636efa",
          "size": [
           9,
           24,
           15,
           11,
           6,
           23,
           31,
           66,
           46,
           14,
           23,
           21,
           58,
           51,
           52,
           62,
           36,
           43,
           124,
           74
          ],
          "sizemode": "area",
          "sizeref": 0.31,
          "symbol": "circle"
         },
         "mode": "markers",
         "name": "",
         "showlegend": false,
         "type": "scatter",
         "x": [
          2000,
          2001,
          2002,
          2003,
          2004,
          2005,
          2006,
          2007,
          2008,
          2009,
          2010,
          2011,
          2012,
          2013,
          2014,
          2015,
          2016,
          2017,
          2018,
          2019
         ],
         "xaxis": "x",
         "y": [
          6,
          5,
          6,
          4,
          3,
          5,
          9,
          5,
          14,
          6,
          12,
          9,
          11,
          23,
          34,
          20,
          15,
          10,
          36,
          36
         ],
         "yaxis": "y"
        }
       ],
       "layout": {
        "height": 600,
        "legend": {
         "itemsizing": "constant",
         "tracegroupgap": 0
        },
        "template": {
         "data": {
          "bar": [
           {
            "error_x": {
             "color": "#2a3f5f"
            },
            "error_y": {
             "color": "#2a3f5f"
            },
            "marker": {
             "line": {
              "color": "#E5ECF6",
              "width": 0.5
             }
            },
            "type": "bar"
           }
          ],
          "barpolar": [
           {
            "marker": {
             "line": {
              "color": "#E5ECF6",
              "width": 0.5
             }
            },
            "type": "barpolar"
           }
          ],
          "carpet": [
           {
            "aaxis": {
             "endlinecolor": "#2a3f5f",
             "gridcolor": "white",
             "linecolor": "white",
             "minorgridcolor": "white",
             "startlinecolor": "#2a3f5f"
            },
            "baxis": {
             "endlinecolor": "#2a3f5f",
             "gridcolor": "white",
             "linecolor": "white",
             "minorgridcolor": "white",
             "startlinecolor": "#2a3f5f"
            },
            "type": "carpet"
           }
          ],
          "choropleth": [
           {
            "colorbar": {
             "outlinewidth": 0,
             "ticks": ""
            },
            "type": "choropleth"
           }
          ],
          "contour": [
           {
            "colorbar": {
             "outlinewidth": 0,
             "ticks": ""
            },
            "colorscale": [
             [
              0,
              "#0d0887"
             ],
             [
              0.1111111111111111,
              "#46039f"
             ],
             [
              0.2222222222222222,
              "#7201a8"
             ],
             [
              0.3333333333333333,
              "#9c179e"
             ],
             [
              0.4444444444444444,
              "#bd3786"
             ],
             [
              0.5555555555555556,
              "#d8576b"
             ],
             [
              0.6666666666666666,
              "#ed7953"
             ],
             [
              0.7777777777777778,
              "#fb9f3a"
             ],
             [
              0.8888888888888888,
              "#fdca26"
             ],
             [
              1,
              "#f0f921"
             ]
            ],
            "type": "contour"
           }
          ],
          "contourcarpet": [
           {
            "colorbar": {
             "outlinewidth": 0,
             "ticks": ""
            },
            "type": "contourcarpet"
           }
          ],
          "heatmap": [
           {
            "colorbar": {
             "outlinewidth": 0,
             "ticks": ""
            },
            "colorscale": [
             [
              0,
              "#0d0887"
             ],
             [
              0.1111111111111111,
              "#46039f"
             ],
             [
              0.2222222222222222,
              "#7201a8"
             ],
             [
              0.3333333333333333,
              "#9c179e"
             ],
             [
              0.4444444444444444,
              "#bd3786"
             ],
             [
              0.5555555555555556,
              "#d8576b"
             ],
             [
              0.6666666666666666,
              "#ed7953"
             ],
             [
              0.7777777777777778,
              "#fb9f3a"
             ],
             [
              0.8888888888888888,
              "#fdca26"
             ],
             [
              1,
              "#f0f921"
             ]
            ],
            "type": "heatmap"
           }
          ],
          "heatmapgl": [
           {
            "colorbar": {
             "outlinewidth": 0,
             "ticks": ""
            },
            "colorscale": [
             [
              0,
              "#0d0887"
             ],
             [
              0.1111111111111111,
              "#46039f"
             ],
             [
              0.2222222222222222,
              "#7201a8"
             ],
             [
              0.3333333333333333,
              "#9c179e"
             ],
             [
              0.4444444444444444,
              "#bd3786"
             ],
             [
              0.5555555555555556,
              "#d8576b"
             ],
             [
              0.6666666666666666,
              "#ed7953"
             ],
             [
              0.7777777777777778,
              "#fb9f3a"
             ],
             [
              0.8888888888888888,
              "#fdca26"
             ],
             [
              1,
              "#f0f921"
             ]
            ],
            "type": "heatmapgl"
           }
          ],
          "histogram": [
           {
            "marker": {
             "colorbar": {
              "outlinewidth": 0,
              "ticks": ""
             }
            },
            "type": "histogram"
           }
          ],
          "histogram2d": [
           {
            "colorbar": {
             "outlinewidth": 0,
             "ticks": ""
            },
            "colorscale": [
             [
              0,
              "#0d0887"
             ],
             [
              0.1111111111111111,
              "#46039f"
             ],
             [
              0.2222222222222222,
              "#7201a8"
             ],
             [
              0.3333333333333333,
              "#9c179e"
             ],
             [
              0.4444444444444444,
              "#bd3786"
             ],
             [
              0.5555555555555556,
              "#d8576b"
             ],
             [
              0.6666666666666666,
              "#ed7953"
             ],
             [
              0.7777777777777778,
              "#fb9f3a"
             ],
             [
              0.8888888888888888,
              "#fdca26"
             ],
             [
              1,
              "#f0f921"
             ]
            ],
            "type": "histogram2d"
           }
          ],
          "histogram2dcontour": [
           {
            "colorbar": {
             "outlinewidth": 0,
             "ticks": ""
            },
            "colorscale": [
             [
              0,
              "#0d0887"
             ],
             [
              0.1111111111111111,
              "#46039f"
             ],
             [
              0.2222222222222222,
              "#7201a8"
             ],
             [
              0.3333333333333333,
              "#9c179e"
             ],
             [
              0.4444444444444444,
              "#bd3786"
             ],
             [
              0.5555555555555556,
              "#d8576b"
             ],
             [
              0.6666666666666666,
              "#ed7953"
             ],
             [
              0.7777777777777778,
              "#fb9f3a"
             ],
             [
              0.8888888888888888,
              "#fdca26"
             ],
             [
              1,
              "#f0f921"
             ]
            ],
            "type": "histogram2dcontour"
           }
          ],
          "mesh3d": [
           {
            "colorbar": {
             "outlinewidth": 0,
             "ticks": ""
            },
            "type": "mesh3d"
           }
          ],
          "parcoords": [
           {
            "line": {
             "colorbar": {
              "outlinewidth": 0,
              "ticks": ""
             }
            },
            "type": "parcoords"
           }
          ],
          "pie": [
           {
            "automargin": true,
            "type": "pie"
           }
          ],
          "scatter": [
           {
            "marker": {
             "colorbar": {
              "outlinewidth": 0,
              "ticks": ""
             }
            },
            "type": "scatter"
           }
          ],
          "scatter3d": [
           {
            "line": {
             "colorbar": {
              "outlinewidth": 0,
              "ticks": ""
             }
            },
            "marker": {
             "colorbar": {
              "outlinewidth": 0,
              "ticks": ""
             }
            },
            "type": "scatter3d"
           }
          ],
          "scattercarpet": [
           {
            "marker": {
             "colorbar": {
              "outlinewidth": 0,
              "ticks": ""
             }
            },
            "type": "scattercarpet"
           }
          ],
          "scattergeo": [
           {
            "marker": {
             "colorbar": {
              "outlinewidth": 0,
              "ticks": ""
             }
            },
            "type": "scattergeo"
           }
          ],
          "scattergl": [
           {
            "marker": {
             "colorbar": {
              "outlinewidth": 0,
              "ticks": ""
             }
            },
            "type": "scattergl"
           }
          ],
          "scattermapbox": [
           {
            "marker": {
             "colorbar": {
              "outlinewidth": 0,
              "ticks": ""
             }
            },
            "type": "scattermapbox"
           }
          ],
          "scatterpolar": [
           {
            "marker": {
             "colorbar": {
              "outlinewidth": 0,
              "ticks": ""
             }
            },
            "type": "scatterpolar"
           }
          ],
          "scatterpolargl": [
           {
            "marker": {
             "colorbar": {
              "outlinewidth": 0,
              "ticks": ""
             }
            },
            "type": "scatterpolargl"
           }
          ],
          "scatterternary": [
           {
            "marker": {
             "colorbar": {
              "outlinewidth": 0,
              "ticks": ""
             }
            },
            "type": "scatterternary"
           }
          ],
          "surface": [
           {
            "colorbar": {
             "outlinewidth": 0,
             "ticks": ""
            },
            "colorscale": [
             [
              0,
              "#0d0887"
             ],
             [
              0.1111111111111111,
              "#46039f"
             ],
             [
              0.2222222222222222,
              "#7201a8"
             ],
             [
              0.3333333333333333,
              "#9c179e"
             ],
             [
              0.4444444444444444,
              "#bd3786"
             ],
             [
              0.5555555555555556,
              "#d8576b"
             ],
             [
              0.6666666666666666,
              "#ed7953"
             ],
             [
              0.7777777777777778,
              "#fb9f3a"
             ],
             [
              0.8888888888888888,
              "#fdca26"
             ],
             [
              1,
              "#f0f921"
             ]
            ],
            "type": "surface"
           }
          ],
          "table": [
           {
            "cells": {
             "fill": {
              "color": "#EBF0F8"
             },
             "line": {
              "color": "white"
             }
            },
            "header": {
             "fill": {
              "color": "#C8D4E3"
             },
             "line": {
              "color": "white"
             }
            },
            "type": "table"
           }
          ]
         },
         "layout": {
          "annotationdefaults": {
           "arrowcolor": "#2a3f5f",
           "arrowhead": 0,
           "arrowwidth": 1
          },
          "coloraxis": {
           "colorbar": {
            "outlinewidth": 0,
            "ticks": ""
           }
          },
          "colorscale": {
           "diverging": [
            [
             0,
             "#8e0152"
            ],
            [
             0.1,
             "#c51b7d"
            ],
            [
             0.2,
             "#de77ae"
            ],
            [
             0.3,
             "#f1b6da"
            ],
            [
             0.4,
             "#fde0ef"
            ],
            [
             0.5,
             "#f7f7f7"
            ],
            [
             0.6,
             "#e6f5d0"
            ],
            [
             0.7,
             "#b8e186"
            ],
            [
             0.8,
             "#7fbc41"
            ],
            [
             0.9,
             "#4d9221"
            ],
            [
             1,
             "#276419"
            ]
           ],
           "sequential": [
            [
             0,
             "#0d0887"
            ],
            [
             0.1111111111111111,
             "#46039f"
            ],
            [
             0.2222222222222222,
             "#7201a8"
            ],
            [
             0.3333333333333333,
             "#9c179e"
            ],
            [
             0.4444444444444444,
             "#bd3786"
            ],
            [
             0.5555555555555556,
             "#d8576b"
            ],
            [
             0.6666666666666666,
             "#ed7953"
            ],
            [
             0.7777777777777778,
             "#fb9f3a"
            ],
            [
             0.8888888888888888,
             "#fdca26"
            ],
            [
             1,
             "#f0f921"
            ]
           ],
           "sequentialminus": [
            [
             0,
             "#0d0887"
            ],
            [
             0.1111111111111111,
             "#46039f"
            ],
            [
             0.2222222222222222,
             "#7201a8"
            ],
            [
             0.3333333333333333,
             "#9c179e"
            ],
            [
             0.4444444444444444,
             "#bd3786"
            ],
            [
             0.5555555555555556,
             "#d8576b"
            ],
            [
             0.6666666666666666,
             "#ed7953"
            ],
            [
             0.7777777777777778,
             "#fb9f3a"
            ],
            [
             0.8888888888888888,
             "#fdca26"
            ],
            [
             1,
             "#f0f921"
            ]
           ]
          },
          "colorway": [
           "#636efa",
           "#EF553B",
           "#00cc96",
           "#ab63fa",
           "#FFA15A",
           "#19d3f3",
           "#FF6692",
           "#B6E880",
           "#FF97FF",
           "#FECB52"
          ],
          "font": {
           "color": "#2a3f5f"
          },
          "geo": {
           "bgcolor": "white",
           "lakecolor": "white",
           "landcolor": "#E5ECF6",
           "showlakes": true,
           "showland": true,
           "subunitcolor": "white"
          },
          "hoverlabel": {
           "align": "left"
          },
          "hovermode": "closest",
          "mapbox": {
           "style": "light"
          },
          "paper_bgcolor": "white",
          "plot_bgcolor": "#E5ECF6",
          "polar": {
           "angularaxis": {
            "gridcolor": "white",
            "linecolor": "white",
            "ticks": ""
           },
           "bgcolor": "#E5ECF6",
           "radialaxis": {
            "gridcolor": "white",
            "linecolor": "white",
            "ticks": ""
           }
          },
          "scene": {
           "xaxis": {
            "backgroundcolor": "#E5ECF6",
            "gridcolor": "white",
            "gridwidth": 2,
            "linecolor": "white",
            "showbackground": true,
            "ticks": "",
            "zerolinecolor": "white"
           },
           "yaxis": {
            "backgroundcolor": "#E5ECF6",
            "gridcolor": "white",
            "gridwidth": 2,
            "linecolor": "white",
            "showbackground": true,
            "ticks": "",
            "zerolinecolor": "white"
           },
           "zaxis": {
            "backgroundcolor": "#E5ECF6",
            "gridcolor": "white",
            "gridwidth": 2,
            "linecolor": "white",
            "showbackground": true,
            "ticks": "",
            "zerolinecolor": "white"
           }
          },
          "shapedefaults": {
           "line": {
            "color": "#2a3f5f"
           }
          },
          "ternary": {
           "aaxis": {
            "gridcolor": "white",
            "linecolor": "white",
            "ticks": ""
           },
           "baxis": {
            "gridcolor": "white",
            "linecolor": "white",
            "ticks": ""
           },
           "bgcolor": "#E5ECF6",
           "caxis": {
            "gridcolor": "white",
            "linecolor": "white",
            "ticks": ""
           }
          },
          "title": {
           "x": 0.05
          },
          "xaxis": {
           "automargin": true,
           "gridcolor": "white",
           "linecolor": "white",
           "ticks": "",
           "title": {
            "standoff": 15
           },
           "zerolinecolor": "white",
           "zerolinewidth": 2
          },
          "yaxis": {
           "automargin": true,
           "gridcolor": "white",
           "linecolor": "white",
           "ticks": "",
           "title": {
            "standoff": 15
           },
           "zerolinecolor": "white",
           "zerolinewidth": 2
          }
         }
        },
        "title": {
         "text": "School Shootings"
        },
        "xaxis": {
         "anchor": "y",
         "domain": [
          0,
          1
         ],
         "title": {
          "text": "Year"
         },
         "zeroline": false
        },
        "yaxis": {
         "anchor": "x",
         "domain": [
          0,
          1
         ],
         "title": {
          "text": "Number of Occurences"
         },
         "zeroline": false
        }
       }
      },
      "text/html": [
       "<div>\n",
       "        \n",
       "        \n",
       "            <div id=\"b3f2004f-8202-4536-9ae9-11a65ce5020f\" class=\"plotly-graph-div\" style=\"height:600px; width:100%;\"></div>\n",
       "            <script type=\"text/javascript\">\n",
       "                require([\"plotly\"], function(Plotly) {\n",
       "                    window.PLOTLYENV=window.PLOTLYENV || {};\n",
       "                    \n",
       "                if (document.getElementById(\"b3f2004f-8202-4536-9ae9-11a65ce5020f\")) {\n",
       "                    Plotly.newPlot(\n",
       "                        'b3f2004f-8202-4536-9ae9-11a65ce5020f',\n",
       "                        [{\"hoverlabel\": {\"namelength\": 0}, \"hovertemplate\": \"Year=%{x}<br>Number of Occurences=%{y}<br>Number of Deaths and Injuries=%{marker.size}\", \"legendgroup\": \"\", \"marker\": {\"color\": \"#636efa\", \"size\": [9, 24, 15, 11, 6, 23, 31, 66, 46, 14, 23, 21, 58, 51, 52, 62, 36, 43, 124, 74], \"sizemode\": \"area\", \"sizeref\": 0.31, \"symbol\": \"circle\"}, \"mode\": \"markers\", \"name\": \"\", \"showlegend\": false, \"type\": \"scatter\", \"x\": [2000, 2001, 2002, 2003, 2004, 2005, 2006, 2007, 2008, 2009, 2010, 2011, 2012, 2013, 2014, 2015, 2016, 2017, 2018, 2019], \"xaxis\": \"x\", \"y\": [6, 5, 6, 4, 3, 5, 9, 5, 14, 6, 12, 9, 11, 23, 34, 20, 15, 10, 36, 36], \"yaxis\": \"y\"}],\n",
       "                        {\"height\": 600, \"legend\": {\"itemsizing\": \"constant\", \"tracegroupgap\": 0}, \"template\": {\"data\": {\"bar\": [{\"error_x\": {\"color\": \"#2a3f5f\"}, \"error_y\": {\"color\": \"#2a3f5f\"}, \"marker\": {\"line\": {\"color\": \"#E5ECF6\", \"width\": 0.5}}, \"type\": \"bar\"}], \"barpolar\": [{\"marker\": {\"line\": {\"color\": \"#E5ECF6\", \"width\": 0.5}}, \"type\": \"barpolar\"}], \"carpet\": [{\"aaxis\": {\"endlinecolor\": \"#2a3f5f\", \"gridcolor\": \"white\", \"linecolor\": \"white\", \"minorgridcolor\": \"white\", \"startlinecolor\": \"#2a3f5f\"}, \"baxis\": {\"endlinecolor\": \"#2a3f5f\", \"gridcolor\": \"white\", \"linecolor\": \"white\", \"minorgridcolor\": \"white\", \"startlinecolor\": \"#2a3f5f\"}, \"type\": \"carpet\"}], \"choropleth\": [{\"colorbar\": {\"outlinewidth\": 0, \"ticks\": \"\"}, \"type\": \"choropleth\"}], \"contour\": [{\"colorbar\": {\"outlinewidth\": 0, \"ticks\": \"\"}, \"colorscale\": [[0.0, \"#0d0887\"], [0.1111111111111111, \"#46039f\"], [0.2222222222222222, \"#7201a8\"], [0.3333333333333333, \"#9c179e\"], [0.4444444444444444, \"#bd3786\"], [0.5555555555555556, \"#d8576b\"], [0.6666666666666666, \"#ed7953\"], [0.7777777777777778, \"#fb9f3a\"], [0.8888888888888888, \"#fdca26\"], [1.0, \"#f0f921\"]], \"type\": \"contour\"}], \"contourcarpet\": [{\"colorbar\": {\"outlinewidth\": 0, \"ticks\": \"\"}, \"type\": \"contourcarpet\"}], \"heatmap\": [{\"colorbar\": {\"outlinewidth\": 0, \"ticks\": \"\"}, \"colorscale\": [[0.0, \"#0d0887\"], [0.1111111111111111, \"#46039f\"], [0.2222222222222222, \"#7201a8\"], [0.3333333333333333, \"#9c179e\"], [0.4444444444444444, \"#bd3786\"], [0.5555555555555556, \"#d8576b\"], [0.6666666666666666, \"#ed7953\"], [0.7777777777777778, \"#fb9f3a\"], [0.8888888888888888, \"#fdca26\"], [1.0, \"#f0f921\"]], \"type\": \"heatmap\"}], \"heatmapgl\": [{\"colorbar\": {\"outlinewidth\": 0, \"ticks\": \"\"}, \"colorscale\": [[0.0, \"#0d0887\"], [0.1111111111111111, \"#46039f\"], [0.2222222222222222, \"#7201a8\"], [0.3333333333333333, \"#9c179e\"], [0.4444444444444444, \"#bd3786\"], [0.5555555555555556, \"#d8576b\"], [0.6666666666666666, \"#ed7953\"], [0.7777777777777778, \"#fb9f3a\"], [0.8888888888888888, \"#fdca26\"], [1.0, \"#f0f921\"]], \"type\": \"heatmapgl\"}], \"histogram\": [{\"marker\": {\"colorbar\": {\"outlinewidth\": 0, \"ticks\": \"\"}}, \"type\": \"histogram\"}], \"histogram2d\": [{\"colorbar\": {\"outlinewidth\": 0, \"ticks\": \"\"}, \"colorscale\": [[0.0, \"#0d0887\"], [0.1111111111111111, \"#46039f\"], [0.2222222222222222, \"#7201a8\"], [0.3333333333333333, \"#9c179e\"], [0.4444444444444444, \"#bd3786\"], [0.5555555555555556, \"#d8576b\"], [0.6666666666666666, \"#ed7953\"], [0.7777777777777778, \"#fb9f3a\"], [0.8888888888888888, \"#fdca26\"], [1.0, \"#f0f921\"]], \"type\": \"histogram2d\"}], \"histogram2dcontour\": [{\"colorbar\": {\"outlinewidth\": 0, \"ticks\": \"\"}, \"colorscale\": [[0.0, \"#0d0887\"], [0.1111111111111111, \"#46039f\"], [0.2222222222222222, \"#7201a8\"], [0.3333333333333333, \"#9c179e\"], [0.4444444444444444, \"#bd3786\"], [0.5555555555555556, \"#d8576b\"], [0.6666666666666666, \"#ed7953\"], [0.7777777777777778, \"#fb9f3a\"], [0.8888888888888888, \"#fdca26\"], [1.0, \"#f0f921\"]], \"type\": \"histogram2dcontour\"}], \"mesh3d\": [{\"colorbar\": {\"outlinewidth\": 0, \"ticks\": \"\"}, \"type\": \"mesh3d\"}], \"parcoords\": [{\"line\": {\"colorbar\": {\"outlinewidth\": 0, \"ticks\": \"\"}}, \"type\": \"parcoords\"}], \"pie\": [{\"automargin\": true, \"type\": \"pie\"}], \"scatter\": [{\"marker\": {\"colorbar\": {\"outlinewidth\": 0, \"ticks\": \"\"}}, \"type\": \"scatter\"}], \"scatter3d\": [{\"line\": {\"colorbar\": {\"outlinewidth\": 0, \"ticks\": \"\"}}, \"marker\": {\"colorbar\": {\"outlinewidth\": 0, \"ticks\": \"\"}}, \"type\": \"scatter3d\"}], \"scattercarpet\": [{\"marker\": {\"colorbar\": {\"outlinewidth\": 0, \"ticks\": \"\"}}, \"type\": \"scattercarpet\"}], \"scattergeo\": [{\"marker\": {\"colorbar\": {\"outlinewidth\": 0, \"ticks\": \"\"}}, \"type\": \"scattergeo\"}], \"scattergl\": [{\"marker\": {\"colorbar\": {\"outlinewidth\": 0, \"ticks\": \"\"}}, \"type\": \"scattergl\"}], \"scattermapbox\": [{\"marker\": {\"colorbar\": {\"outlinewidth\": 0, \"ticks\": \"\"}}, \"type\": \"scattermapbox\"}], \"scatterpolar\": [{\"marker\": {\"colorbar\": {\"outlinewidth\": 0, \"ticks\": \"\"}}, \"type\": \"scatterpolar\"}], \"scatterpolargl\": [{\"marker\": {\"colorbar\": {\"outlinewidth\": 0, \"ticks\": \"\"}}, \"type\": \"scatterpolargl\"}], \"scatterternary\": [{\"marker\": {\"colorbar\": {\"outlinewidth\": 0, \"ticks\": \"\"}}, \"type\": \"scatterternary\"}], \"surface\": [{\"colorbar\": {\"outlinewidth\": 0, \"ticks\": \"\"}, \"colorscale\": [[0.0, \"#0d0887\"], [0.1111111111111111, \"#46039f\"], [0.2222222222222222, \"#7201a8\"], [0.3333333333333333, \"#9c179e\"], [0.4444444444444444, \"#bd3786\"], [0.5555555555555556, \"#d8576b\"], [0.6666666666666666, \"#ed7953\"], [0.7777777777777778, \"#fb9f3a\"], [0.8888888888888888, \"#fdca26\"], [1.0, \"#f0f921\"]], \"type\": \"surface\"}], \"table\": [{\"cells\": {\"fill\": {\"color\": \"#EBF0F8\"}, \"line\": {\"color\": \"white\"}}, \"header\": {\"fill\": {\"color\": \"#C8D4E3\"}, \"line\": {\"color\": \"white\"}}, \"type\": \"table\"}]}, \"layout\": {\"annotationdefaults\": {\"arrowcolor\": \"#2a3f5f\", \"arrowhead\": 0, \"arrowwidth\": 1}, \"coloraxis\": {\"colorbar\": {\"outlinewidth\": 0, \"ticks\": \"\"}}, \"colorscale\": {\"diverging\": [[0, \"#8e0152\"], [0.1, \"#c51b7d\"], [0.2, \"#de77ae\"], [0.3, \"#f1b6da\"], [0.4, \"#fde0ef\"], [0.5, \"#f7f7f7\"], [0.6, \"#e6f5d0\"], [0.7, \"#b8e186\"], [0.8, \"#7fbc41\"], [0.9, \"#4d9221\"], [1, \"#276419\"]], \"sequential\": [[0.0, \"#0d0887\"], [0.1111111111111111, \"#46039f\"], [0.2222222222222222, \"#7201a8\"], [0.3333333333333333, \"#9c179e\"], [0.4444444444444444, \"#bd3786\"], [0.5555555555555556, \"#d8576b\"], [0.6666666666666666, \"#ed7953\"], [0.7777777777777778, \"#fb9f3a\"], [0.8888888888888888, \"#fdca26\"], [1.0, \"#f0f921\"]], \"sequentialminus\": [[0.0, \"#0d0887\"], [0.1111111111111111, \"#46039f\"], [0.2222222222222222, \"#7201a8\"], [0.3333333333333333, \"#9c179e\"], [0.4444444444444444, \"#bd3786\"], [0.5555555555555556, \"#d8576b\"], [0.6666666666666666, \"#ed7953\"], [0.7777777777777778, \"#fb9f3a\"], [0.8888888888888888, \"#fdca26\"], [1.0, \"#f0f921\"]]}, \"colorway\": [\"#636efa\", \"#EF553B\", \"#00cc96\", \"#ab63fa\", \"#FFA15A\", \"#19d3f3\", \"#FF6692\", \"#B6E880\", \"#FF97FF\", \"#FECB52\"], \"font\": {\"color\": \"#2a3f5f\"}, \"geo\": {\"bgcolor\": \"white\", \"lakecolor\": \"white\", \"landcolor\": \"#E5ECF6\", \"showlakes\": true, \"showland\": true, \"subunitcolor\": \"white\"}, \"hoverlabel\": {\"align\": \"left\"}, \"hovermode\": \"closest\", \"mapbox\": {\"style\": \"light\"}, \"paper_bgcolor\": \"white\", \"plot_bgcolor\": \"#E5ECF6\", \"polar\": {\"angularaxis\": {\"gridcolor\": \"white\", \"linecolor\": \"white\", \"ticks\": \"\"}, \"bgcolor\": \"#E5ECF6\", \"radialaxis\": {\"gridcolor\": \"white\", \"linecolor\": \"white\", \"ticks\": \"\"}}, \"scene\": {\"xaxis\": {\"backgroundcolor\": \"#E5ECF6\", \"gridcolor\": \"white\", \"gridwidth\": 2, \"linecolor\": \"white\", \"showbackground\": true, \"ticks\": \"\", \"zerolinecolor\": \"white\"}, \"yaxis\": {\"backgroundcolor\": \"#E5ECF6\", \"gridcolor\": \"white\", \"gridwidth\": 2, \"linecolor\": \"white\", \"showbackground\": true, \"ticks\": \"\", \"zerolinecolor\": \"white\"}, \"zaxis\": {\"backgroundcolor\": \"#E5ECF6\", \"gridcolor\": \"white\", \"gridwidth\": 2, \"linecolor\": \"white\", \"showbackground\": true, \"ticks\": \"\", \"zerolinecolor\": \"white\"}}, \"shapedefaults\": {\"line\": {\"color\": \"#2a3f5f\"}}, \"ternary\": {\"aaxis\": {\"gridcolor\": \"white\", \"linecolor\": \"white\", \"ticks\": \"\"}, \"baxis\": {\"gridcolor\": \"white\", \"linecolor\": \"white\", \"ticks\": \"\"}, \"bgcolor\": \"#E5ECF6\", \"caxis\": {\"gridcolor\": \"white\", \"linecolor\": \"white\", \"ticks\": \"\"}}, \"title\": {\"x\": 0.05}, \"xaxis\": {\"automargin\": true, \"gridcolor\": \"white\", \"linecolor\": \"white\", \"ticks\": \"\", \"title\": {\"standoff\": 15}, \"zerolinecolor\": \"white\", \"zerolinewidth\": 2}, \"yaxis\": {\"automargin\": true, \"gridcolor\": \"white\", \"linecolor\": \"white\", \"ticks\": \"\", \"title\": {\"standoff\": 15}, \"zerolinecolor\": \"white\", \"zerolinewidth\": 2}}}, \"title\": {\"text\": \"School Shootings\"}, \"xaxis\": {\"anchor\": \"y\", \"domain\": [0.0, 1.0], \"title\": {\"text\": \"Year\"}, \"zeroline\": false}, \"yaxis\": {\"anchor\": \"x\", \"domain\": [0.0, 1.0], \"title\": {\"text\": \"Number of Occurences\"}, \"zeroline\": false}},\n",
       "                        {\"responsive\": true}\n",
       "                    ).then(function(){\n",
       "                            \n",
       "var gd = document.getElementById('b3f2004f-8202-4536-9ae9-11a65ce5020f');\n",
       "var x = new MutationObserver(function (mutations, observer) {{\n",
       "        var display = window.getComputedStyle(gd).display;\n",
       "        if (!display || display === 'none') {{\n",
       "            console.log([gd, 'removed!']);\n",
       "            Plotly.purge(gd);\n",
       "            observer.disconnect();\n",
       "        }}\n",
       "}});\n",
       "\n",
       "// Listen for the removal of the full notebook cells\n",
       "var notebookContainer = gd.closest('#notebook-container');\n",
       "if (notebookContainer) {{\n",
       "    x.observe(notebookContainer, {childList: true});\n",
       "}}\n",
       "\n",
       "// Listen for the clearing of the current output cell\n",
       "var outputEl = gd.closest('.output');\n",
       "if (outputEl) {{\n",
       "    x.observe(outputEl, {childList: true});\n",
       "}}\n",
       "\n",
       "                        })\n",
       "                };\n",
       "                });\n",
       "            </script>\n",
       "        </div>"
      ]
     },
     "metadata": {},
     "output_type": "display_data"
    }
   ],
   "source": [
    "def plot_data(data):\n",
    "    count = [0]*20\n",
    "    years = [2000, 2001, 2002, 2003, 2004, 2005, 2006, 2007, 2008, 2009, \\\n",
    "             2010, 2011, 2012, 2013, 2014, 2015, 2016, 2017, 2018, 2019]\n",
    "    casualties = [0]*20\n",
    "    for i in range(len(data)):\n",
    "        row = data.iloc[i]\n",
    "        count[int(row[\"Date\"].year) % 2000] += 1\n",
    "        casualties[int(row[\"Date\"].year) % 2000] += (int(row[\"Deaths\"]) + int(row[\"Injuries\"]))\n",
    "    f = {\"Year\": years, \"Number of Occurences\": count, \"Number of Deaths and Injuries\": casualties}\n",
    "    d = pd.DataFrame(f)\n",
    "    fig = px.scatter(d, x=\"Year\", y=\"Number of Occurences\", size=\"Number of Deaths and Injuries\", title=\"School Shootings\")\n",
    "    return fig\n",
    "fig = plot_data(masterdf)\n",
    "fig.update_xaxes(zeroline=False)\n",
    "fig.update_yaxes(zeroline=False)\n",
    "fig.show()"
   ]
  },
  {
   "cell_type": "code",
   "execution_count": 85,
   "metadata": {},
   "outputs": [
    {
     "data": {
      "application/vnd.plotly.v1+json": {
       "config": {
        "plotlyServerURL": "https://plot.ly"
       },
       "data": [
        {
         "hoverlabel": {
          "namelength": 0
         },
         "hovertemplate": "Year=%{x}<br>Number of Occurences=%{y}",
         "legendgroup": "",
         "marker": {
          "color": "#636efa",
          "symbol": "circle"
         },
         "mode": "markers",
         "name": "",
         "showlegend": false,
         "type": "scatter",
         "x": [
          1992,
          1993,
          1994,
          1995,
          1996,
          1997,
          1998,
          1999,
          2000,
          2001,
          2002,
          2003,
          2004,
          2005,
          2006,
          2007,
          2008,
          2009,
          2010,
          2011,
          2012,
          2013,
          2014,
          2015,
          2016,
          2017,
          2018,
          2019
         ],
         "xaxis": "x",
         "y": [
          1,
          0,
          0,
          0,
          0,
          0,
          1,
          1,
          0,
          2,
          0,
          0,
          1,
          1,
          1,
          1,
          2,
          4,
          2,
          1,
          1,
          3,
          5,
          0,
          0,
          0,
          1,
          1
         ],
         "yaxis": "y"
        }
       ],
       "layout": {
        "height": 600,
        "legend": {
         "tracegroupgap": 0
        },
        "template": {
         "data": {
          "bar": [
           {
            "error_x": {
             "color": "#2a3f5f"
            },
            "error_y": {
             "color": "#2a3f5f"
            },
            "marker": {
             "line": {
              "color": "#E5ECF6",
              "width": 0.5
             }
            },
            "type": "bar"
           }
          ],
          "barpolar": [
           {
            "marker": {
             "line": {
              "color": "#E5ECF6",
              "width": 0.5
             }
            },
            "type": "barpolar"
           }
          ],
          "carpet": [
           {
            "aaxis": {
             "endlinecolor": "#2a3f5f",
             "gridcolor": "white",
             "linecolor": "white",
             "minorgridcolor": "white",
             "startlinecolor": "#2a3f5f"
            },
            "baxis": {
             "endlinecolor": "#2a3f5f",
             "gridcolor": "white",
             "linecolor": "white",
             "minorgridcolor": "white",
             "startlinecolor": "#2a3f5f"
            },
            "type": "carpet"
           }
          ],
          "choropleth": [
           {
            "colorbar": {
             "outlinewidth": 0,
             "ticks": ""
            },
            "type": "choropleth"
           }
          ],
          "contour": [
           {
            "colorbar": {
             "outlinewidth": 0,
             "ticks": ""
            },
            "colorscale": [
             [
              0,
              "#0d0887"
             ],
             [
              0.1111111111111111,
              "#46039f"
             ],
             [
              0.2222222222222222,
              "#7201a8"
             ],
             [
              0.3333333333333333,
              "#9c179e"
             ],
             [
              0.4444444444444444,
              "#bd3786"
             ],
             [
              0.5555555555555556,
              "#d8576b"
             ],
             [
              0.6666666666666666,
              "#ed7953"
             ],
             [
              0.7777777777777778,
              "#fb9f3a"
             ],
             [
              0.8888888888888888,
              "#fdca26"
             ],
             [
              1,
              "#f0f921"
             ]
            ],
            "type": "contour"
           }
          ],
          "contourcarpet": [
           {
            "colorbar": {
             "outlinewidth": 0,
             "ticks": ""
            },
            "type": "contourcarpet"
           }
          ],
          "heatmap": [
           {
            "colorbar": {
             "outlinewidth": 0,
             "ticks": ""
            },
            "colorscale": [
             [
              0,
              "#0d0887"
             ],
             [
              0.1111111111111111,
              "#46039f"
             ],
             [
              0.2222222222222222,
              "#7201a8"
             ],
             [
              0.3333333333333333,
              "#9c179e"
             ],
             [
              0.4444444444444444,
              "#bd3786"
             ],
             [
              0.5555555555555556,
              "#d8576b"
             ],
             [
              0.6666666666666666,
              "#ed7953"
             ],
             [
              0.7777777777777778,
              "#fb9f3a"
             ],
             [
              0.8888888888888888,
              "#fdca26"
             ],
             [
              1,
              "#f0f921"
             ]
            ],
            "type": "heatmap"
           }
          ],
          "heatmapgl": [
           {
            "colorbar": {
             "outlinewidth": 0,
             "ticks": ""
            },
            "colorscale": [
             [
              0,
              "#0d0887"
             ],
             [
              0.1111111111111111,
              "#46039f"
             ],
             [
              0.2222222222222222,
              "#7201a8"
             ],
             [
              0.3333333333333333,
              "#9c179e"
             ],
             [
              0.4444444444444444,
              "#bd3786"
             ],
             [
              0.5555555555555556,
              "#d8576b"
             ],
             [
              0.6666666666666666,
              "#ed7953"
             ],
             [
              0.7777777777777778,
              "#fb9f3a"
             ],
             [
              0.8888888888888888,
              "#fdca26"
             ],
             [
              1,
              "#f0f921"
             ]
            ],
            "type": "heatmapgl"
           }
          ],
          "histogram": [
           {
            "marker": {
             "colorbar": {
              "outlinewidth": 0,
              "ticks": ""
             }
            },
            "type": "histogram"
           }
          ],
          "histogram2d": [
           {
            "colorbar": {
             "outlinewidth": 0,
             "ticks": ""
            },
            "colorscale": [
             [
              0,
              "#0d0887"
             ],
             [
              0.1111111111111111,
              "#46039f"
             ],
             [
              0.2222222222222222,
              "#7201a8"
             ],
             [
              0.3333333333333333,
              "#9c179e"
             ],
             [
              0.4444444444444444,
              "#bd3786"
             ],
             [
              0.5555555555555556,
              "#d8576b"
             ],
             [
              0.6666666666666666,
              "#ed7953"
             ],
             [
              0.7777777777777778,
              "#fb9f3a"
             ],
             [
              0.8888888888888888,
              "#fdca26"
             ],
             [
              1,
              "#f0f921"
             ]
            ],
            "type": "histogram2d"
           }
          ],
          "histogram2dcontour": [
           {
            "colorbar": {
             "outlinewidth": 0,
             "ticks": ""
            },
            "colorscale": [
             [
              0,
              "#0d0887"
             ],
             [
              0.1111111111111111,
              "#46039f"
             ],
             [
              0.2222222222222222,
              "#7201a8"
             ],
             [
              0.3333333333333333,
              "#9c179e"
             ],
             [
              0.4444444444444444,
              "#bd3786"
             ],
             [
              0.5555555555555556,
              "#d8576b"
             ],
             [
              0.6666666666666666,
              "#ed7953"
             ],
             [
              0.7777777777777778,
              "#fb9f3a"
             ],
             [
              0.8888888888888888,
              "#fdca26"
             ],
             [
              1,
              "#f0f921"
             ]
            ],
            "type": "histogram2dcontour"
           }
          ],
          "mesh3d": [
           {
            "colorbar": {
             "outlinewidth": 0,
             "ticks": ""
            },
            "type": "mesh3d"
           }
          ],
          "parcoords": [
           {
            "line": {
             "colorbar": {
              "outlinewidth": 0,
              "ticks": ""
             }
            },
            "type": "parcoords"
           }
          ],
          "pie": [
           {
            "automargin": true,
            "type": "pie"
           }
          ],
          "scatter": [
           {
            "marker": {
             "colorbar": {
              "outlinewidth": 0,
              "ticks": ""
             }
            },
            "type": "scatter"
           }
          ],
          "scatter3d": [
           {
            "line": {
             "colorbar": {
              "outlinewidth": 0,
              "ticks": ""
             }
            },
            "marker": {
             "colorbar": {
              "outlinewidth": 0,
              "ticks": ""
             }
            },
            "type": "scatter3d"
           }
          ],
          "scattercarpet": [
           {
            "marker": {
             "colorbar": {
              "outlinewidth": 0,
              "ticks": ""
             }
            },
            "type": "scattercarpet"
           }
          ],
          "scattergeo": [
           {
            "marker": {
             "colorbar": {
              "outlinewidth": 0,
              "ticks": ""
             }
            },
            "type": "scattergeo"
           }
          ],
          "scattergl": [
           {
            "marker": {
             "colorbar": {
              "outlinewidth": 0,
              "ticks": ""
             }
            },
            "type": "scattergl"
           }
          ],
          "scattermapbox": [
           {
            "marker": {
             "colorbar": {
              "outlinewidth": 0,
              "ticks": ""
             }
            },
            "type": "scattermapbox"
           }
          ],
          "scatterpolar": [
           {
            "marker": {
             "colorbar": {
              "outlinewidth": 0,
              "ticks": ""
             }
            },
            "type": "scatterpolar"
           }
          ],
          "scatterpolargl": [
           {
            "marker": {
             "colorbar": {
              "outlinewidth": 0,
              "ticks": ""
             }
            },
            "type": "scatterpolargl"
           }
          ],
          "scatterternary": [
           {
            "marker": {
             "colorbar": {
              "outlinewidth": 0,
              "ticks": ""
             }
            },
            "type": "scatterternary"
           }
          ],
          "surface": [
           {
            "colorbar": {
             "outlinewidth": 0,
             "ticks": ""
            },
            "colorscale": [
             [
              0,
              "#0d0887"
             ],
             [
              0.1111111111111111,
              "#46039f"
             ],
             [
              0.2222222222222222,
              "#7201a8"
             ],
             [
              0.3333333333333333,
              "#9c179e"
             ],
             [
              0.4444444444444444,
              "#bd3786"
             ],
             [
              0.5555555555555556,
              "#d8576b"
             ],
             [
              0.6666666666666666,
              "#ed7953"
             ],
             [
              0.7777777777777778,
              "#fb9f3a"
             ],
             [
              0.8888888888888888,
              "#fdca26"
             ],
             [
              1,
              "#f0f921"
             ]
            ],
            "type": "surface"
           }
          ],
          "table": [
           {
            "cells": {
             "fill": {
              "color": "#EBF0F8"
             },
             "line": {
              "color": "white"
             }
            },
            "header": {
             "fill": {
              "color": "#C8D4E3"
             },
             "line": {
              "color": "white"
             }
            },
            "type": "table"
           }
          ]
         },
         "layout": {
          "annotationdefaults": {
           "arrowcolor": "#2a3f5f",
           "arrowhead": 0,
           "arrowwidth": 1
          },
          "coloraxis": {
           "colorbar": {
            "outlinewidth": 0,
            "ticks": ""
           }
          },
          "colorscale": {
           "diverging": [
            [
             0,
             "#8e0152"
            ],
            [
             0.1,
             "#c51b7d"
            ],
            [
             0.2,
             "#de77ae"
            ],
            [
             0.3,
             "#f1b6da"
            ],
            [
             0.4,
             "#fde0ef"
            ],
            [
             0.5,
             "#f7f7f7"
            ],
            [
             0.6,
             "#e6f5d0"
            ],
            [
             0.7,
             "#b8e186"
            ],
            [
             0.8,
             "#7fbc41"
            ],
            [
             0.9,
             "#4d9221"
            ],
            [
             1,
             "#276419"
            ]
           ],
           "sequential": [
            [
             0,
             "#0d0887"
            ],
            [
             0.1111111111111111,
             "#46039f"
            ],
            [
             0.2222222222222222,
             "#7201a8"
            ],
            [
             0.3333333333333333,
             "#9c179e"
            ],
            [
             0.4444444444444444,
             "#bd3786"
            ],
            [
             0.5555555555555556,
             "#d8576b"
            ],
            [
             0.6666666666666666,
             "#ed7953"
            ],
            [
             0.7777777777777778,
             "#fb9f3a"
            ],
            [
             0.8888888888888888,
             "#fdca26"
            ],
            [
             1,
             "#f0f921"
            ]
           ],
           "sequentialminus": [
            [
             0,
             "#0d0887"
            ],
            [
             0.1111111111111111,
             "#46039f"
            ],
            [
             0.2222222222222222,
             "#7201a8"
            ],
            [
             0.3333333333333333,
             "#9c179e"
            ],
            [
             0.4444444444444444,
             "#bd3786"
            ],
            [
             0.5555555555555556,
             "#d8576b"
            ],
            [
             0.6666666666666666,
             "#ed7953"
            ],
            [
             0.7777777777777778,
             "#fb9f3a"
            ],
            [
             0.8888888888888888,
             "#fdca26"
            ],
            [
             1,
             "#f0f921"
            ]
           ]
          },
          "colorway": [
           "#636efa",
           "#EF553B",
           "#00cc96",
           "#ab63fa",
           "#FFA15A",
           "#19d3f3",
           "#FF6692",
           "#B6E880",
           "#FF97FF",
           "#FECB52"
          ],
          "font": {
           "color": "#2a3f5f"
          },
          "geo": {
           "bgcolor": "white",
           "lakecolor": "white",
           "landcolor": "#E5ECF6",
           "showlakes": true,
           "showland": true,
           "subunitcolor": "white"
          },
          "hoverlabel": {
           "align": "left"
          },
          "hovermode": "closest",
          "mapbox": {
           "style": "light"
          },
          "paper_bgcolor": "white",
          "plot_bgcolor": "#E5ECF6",
          "polar": {
           "angularaxis": {
            "gridcolor": "white",
            "linecolor": "white",
            "ticks": ""
           },
           "bgcolor": "#E5ECF6",
           "radialaxis": {
            "gridcolor": "white",
            "linecolor": "white",
            "ticks": ""
           }
          },
          "scene": {
           "xaxis": {
            "backgroundcolor": "#E5ECF6",
            "gridcolor": "white",
            "gridwidth": 2,
            "linecolor": "white",
            "showbackground": true,
            "ticks": "",
            "zerolinecolor": "white"
           },
           "yaxis": {
            "backgroundcolor": "#E5ECF6",
            "gridcolor": "white",
            "gridwidth": 2,
            "linecolor": "white",
            "showbackground": true,
            "ticks": "",
            "zerolinecolor": "white"
           },
           "zaxis": {
            "backgroundcolor": "#E5ECF6",
            "gridcolor": "white",
            "gridwidth": 2,
            "linecolor": "white",
            "showbackground": true,
            "ticks": "",
            "zerolinecolor": "white"
           }
          },
          "shapedefaults": {
           "line": {
            "color": "#2a3f5f"
           }
          },
          "ternary": {
           "aaxis": {
            "gridcolor": "white",
            "linecolor": "white",
            "ticks": ""
           },
           "baxis": {
            "gridcolor": "white",
            "linecolor": "white",
            "ticks": ""
           },
           "bgcolor": "#E5ECF6",
           "caxis": {
            "gridcolor": "white",
            "linecolor": "white",
            "ticks": ""
           }
          },
          "title": {
           "x": 0.05
          },
          "xaxis": {
           "automargin": true,
           "gridcolor": "white",
           "linecolor": "white",
           "ticks": "",
           "title": {
            "standoff": 15
           },
           "zerolinecolor": "white",
           "zerolinewidth": 2
          },
          "yaxis": {
           "automargin": true,
           "gridcolor": "white",
           "linecolor": "white",
           "ticks": "",
           "title": {
            "standoff": 15
           },
           "zerolinecolor": "white",
           "zerolinewidth": 2
          }
         }
        },
        "title": {
         "text": "Unnsuccessful attacks related to schools"
        },
        "xaxis": {
         "anchor": "y",
         "domain": [
          0,
          1
         ],
         "title": {
          "text": "Year"
         },
         "zeroline": false
        },
        "yaxis": {
         "anchor": "x",
         "domain": [
          0,
          1
         ],
         "title": {
          "text": "Number of Occurences"
         },
         "zeroline": false
        }
       }
      },
      "text/html": [
       "<div>\n",
       "        \n",
       "        \n",
       "            <div id=\"160cd573-b463-4bf6-af4f-6f7ce5e4ab6f\" class=\"plotly-graph-div\" style=\"height:600px; width:100%;\"></div>\n",
       "            <script type=\"text/javascript\">\n",
       "                require([\"plotly\"], function(Plotly) {\n",
       "                    window.PLOTLYENV=window.PLOTLYENV || {};\n",
       "                    \n",
       "                if (document.getElementById(\"160cd573-b463-4bf6-af4f-6f7ce5e4ab6f\")) {\n",
       "                    Plotly.newPlot(\n",
       "                        '160cd573-b463-4bf6-af4f-6f7ce5e4ab6f',\n",
       "                        [{\"hoverlabel\": {\"namelength\": 0}, \"hovertemplate\": \"Year=%{x}<br>Number of Occurences=%{y}\", \"legendgroup\": \"\", \"marker\": {\"color\": \"#636efa\", \"symbol\": \"circle\"}, \"mode\": \"markers\", \"name\": \"\", \"showlegend\": false, \"type\": \"scatter\", \"x\": [1992, 1993, 1994, 1995, 1996, 1997, 1998, 1999, 2000, 2001, 2002, 2003, 2004, 2005, 2006, 2007, 2008, 2009, 2010, 2011, 2012, 2013, 2014, 2015, 2016, 2017, 2018, 2019], \"xaxis\": \"x\", \"y\": [1, 0, 0, 0, 0, 0, 1, 1, 0, 2, 0, 0, 1, 1, 1, 1, 2, 4, 2, 1, 1, 3, 5, 0, 0, 0, 1, 1], \"yaxis\": \"y\"}],\n",
       "                        {\"height\": 600, \"legend\": {\"tracegroupgap\": 0}, \"template\": {\"data\": {\"bar\": [{\"error_x\": {\"color\": \"#2a3f5f\"}, \"error_y\": {\"color\": \"#2a3f5f\"}, \"marker\": {\"line\": {\"color\": \"#E5ECF6\", \"width\": 0.5}}, \"type\": \"bar\"}], \"barpolar\": [{\"marker\": {\"line\": {\"color\": \"#E5ECF6\", \"width\": 0.5}}, \"type\": \"barpolar\"}], \"carpet\": [{\"aaxis\": {\"endlinecolor\": \"#2a3f5f\", \"gridcolor\": \"white\", \"linecolor\": \"white\", \"minorgridcolor\": \"white\", \"startlinecolor\": \"#2a3f5f\"}, \"baxis\": {\"endlinecolor\": \"#2a3f5f\", \"gridcolor\": \"white\", \"linecolor\": \"white\", \"minorgridcolor\": \"white\", \"startlinecolor\": \"#2a3f5f\"}, \"type\": \"carpet\"}], \"choropleth\": [{\"colorbar\": {\"outlinewidth\": 0, \"ticks\": \"\"}, \"type\": \"choropleth\"}], \"contour\": [{\"colorbar\": {\"outlinewidth\": 0, \"ticks\": \"\"}, \"colorscale\": [[0.0, \"#0d0887\"], [0.1111111111111111, \"#46039f\"], [0.2222222222222222, \"#7201a8\"], [0.3333333333333333, \"#9c179e\"], [0.4444444444444444, \"#bd3786\"], [0.5555555555555556, \"#d8576b\"], [0.6666666666666666, \"#ed7953\"], [0.7777777777777778, \"#fb9f3a\"], [0.8888888888888888, \"#fdca26\"], [1.0, \"#f0f921\"]], \"type\": \"contour\"}], \"contourcarpet\": [{\"colorbar\": {\"outlinewidth\": 0, \"ticks\": \"\"}, \"type\": \"contourcarpet\"}], \"heatmap\": [{\"colorbar\": {\"outlinewidth\": 0, \"ticks\": \"\"}, \"colorscale\": [[0.0, \"#0d0887\"], [0.1111111111111111, \"#46039f\"], [0.2222222222222222, \"#7201a8\"], [0.3333333333333333, \"#9c179e\"], [0.4444444444444444, \"#bd3786\"], [0.5555555555555556, \"#d8576b\"], [0.6666666666666666, \"#ed7953\"], [0.7777777777777778, \"#fb9f3a\"], [0.8888888888888888, \"#fdca26\"], [1.0, \"#f0f921\"]], \"type\": \"heatmap\"}], \"heatmapgl\": [{\"colorbar\": {\"outlinewidth\": 0, \"ticks\": \"\"}, \"colorscale\": [[0.0, \"#0d0887\"], [0.1111111111111111, \"#46039f\"], [0.2222222222222222, \"#7201a8\"], [0.3333333333333333, \"#9c179e\"], [0.4444444444444444, \"#bd3786\"], [0.5555555555555556, \"#d8576b\"], [0.6666666666666666, \"#ed7953\"], [0.7777777777777778, \"#fb9f3a\"], [0.8888888888888888, \"#fdca26\"], [1.0, \"#f0f921\"]], \"type\": \"heatmapgl\"}], \"histogram\": [{\"marker\": {\"colorbar\": {\"outlinewidth\": 0, \"ticks\": \"\"}}, \"type\": \"histogram\"}], \"histogram2d\": [{\"colorbar\": {\"outlinewidth\": 0, \"ticks\": \"\"}, \"colorscale\": [[0.0, \"#0d0887\"], [0.1111111111111111, \"#46039f\"], [0.2222222222222222, \"#7201a8\"], [0.3333333333333333, \"#9c179e\"], [0.4444444444444444, \"#bd3786\"], [0.5555555555555556, \"#d8576b\"], [0.6666666666666666, \"#ed7953\"], [0.7777777777777778, \"#fb9f3a\"], [0.8888888888888888, \"#fdca26\"], [1.0, \"#f0f921\"]], \"type\": \"histogram2d\"}], \"histogram2dcontour\": [{\"colorbar\": {\"outlinewidth\": 0, \"ticks\": \"\"}, \"colorscale\": [[0.0, \"#0d0887\"], [0.1111111111111111, \"#46039f\"], [0.2222222222222222, \"#7201a8\"], [0.3333333333333333, \"#9c179e\"], [0.4444444444444444, \"#bd3786\"], [0.5555555555555556, \"#d8576b\"], [0.6666666666666666, \"#ed7953\"], [0.7777777777777778, \"#fb9f3a\"], [0.8888888888888888, \"#fdca26\"], [1.0, \"#f0f921\"]], \"type\": \"histogram2dcontour\"}], \"mesh3d\": [{\"colorbar\": {\"outlinewidth\": 0, \"ticks\": \"\"}, \"type\": \"mesh3d\"}], \"parcoords\": [{\"line\": {\"colorbar\": {\"outlinewidth\": 0, \"ticks\": \"\"}}, \"type\": \"parcoords\"}], \"pie\": [{\"automargin\": true, \"type\": \"pie\"}], \"scatter\": [{\"marker\": {\"colorbar\": {\"outlinewidth\": 0, \"ticks\": \"\"}}, \"type\": \"scatter\"}], \"scatter3d\": [{\"line\": {\"colorbar\": {\"outlinewidth\": 0, \"ticks\": \"\"}}, \"marker\": {\"colorbar\": {\"outlinewidth\": 0, \"ticks\": \"\"}}, \"type\": \"scatter3d\"}], \"scattercarpet\": [{\"marker\": {\"colorbar\": {\"outlinewidth\": 0, \"ticks\": \"\"}}, \"type\": \"scattercarpet\"}], \"scattergeo\": [{\"marker\": {\"colorbar\": {\"outlinewidth\": 0, \"ticks\": \"\"}}, \"type\": \"scattergeo\"}], \"scattergl\": [{\"marker\": {\"colorbar\": {\"outlinewidth\": 0, \"ticks\": \"\"}}, \"type\": \"scattergl\"}], \"scattermapbox\": [{\"marker\": {\"colorbar\": {\"outlinewidth\": 0, \"ticks\": \"\"}}, \"type\": \"scattermapbox\"}], \"scatterpolar\": [{\"marker\": {\"colorbar\": {\"outlinewidth\": 0, \"ticks\": \"\"}}, \"type\": \"scatterpolar\"}], \"scatterpolargl\": [{\"marker\": {\"colorbar\": {\"outlinewidth\": 0, \"ticks\": \"\"}}, \"type\": \"scatterpolargl\"}], \"scatterternary\": [{\"marker\": {\"colorbar\": {\"outlinewidth\": 0, \"ticks\": \"\"}}, \"type\": \"scatterternary\"}], \"surface\": [{\"colorbar\": {\"outlinewidth\": 0, \"ticks\": \"\"}, \"colorscale\": [[0.0, \"#0d0887\"], [0.1111111111111111, \"#46039f\"], [0.2222222222222222, \"#7201a8\"], [0.3333333333333333, \"#9c179e\"], [0.4444444444444444, \"#bd3786\"], [0.5555555555555556, \"#d8576b\"], [0.6666666666666666, \"#ed7953\"], [0.7777777777777778, \"#fb9f3a\"], [0.8888888888888888, \"#fdca26\"], [1.0, \"#f0f921\"]], \"type\": \"surface\"}], \"table\": [{\"cells\": {\"fill\": {\"color\": \"#EBF0F8\"}, \"line\": {\"color\": \"white\"}}, \"header\": {\"fill\": {\"color\": \"#C8D4E3\"}, \"line\": {\"color\": \"white\"}}, \"type\": \"table\"}]}, \"layout\": {\"annotationdefaults\": {\"arrowcolor\": \"#2a3f5f\", \"arrowhead\": 0, \"arrowwidth\": 1}, \"coloraxis\": {\"colorbar\": {\"outlinewidth\": 0, \"ticks\": \"\"}}, \"colorscale\": {\"diverging\": [[0, \"#8e0152\"], [0.1, \"#c51b7d\"], [0.2, \"#de77ae\"], [0.3, \"#f1b6da\"], [0.4, \"#fde0ef\"], [0.5, \"#f7f7f7\"], [0.6, \"#e6f5d0\"], [0.7, \"#b8e186\"], [0.8, \"#7fbc41\"], [0.9, \"#4d9221\"], [1, \"#276419\"]], \"sequential\": [[0.0, \"#0d0887\"], [0.1111111111111111, \"#46039f\"], [0.2222222222222222, \"#7201a8\"], [0.3333333333333333, \"#9c179e\"], [0.4444444444444444, \"#bd3786\"], [0.5555555555555556, \"#d8576b\"], [0.6666666666666666, \"#ed7953\"], [0.7777777777777778, \"#fb9f3a\"], [0.8888888888888888, \"#fdca26\"], [1.0, \"#f0f921\"]], \"sequentialminus\": [[0.0, \"#0d0887\"], [0.1111111111111111, \"#46039f\"], [0.2222222222222222, \"#7201a8\"], [0.3333333333333333, \"#9c179e\"], [0.4444444444444444, \"#bd3786\"], [0.5555555555555556, \"#d8576b\"], [0.6666666666666666, \"#ed7953\"], [0.7777777777777778, \"#fb9f3a\"], [0.8888888888888888, \"#fdca26\"], [1.0, \"#f0f921\"]]}, \"colorway\": [\"#636efa\", \"#EF553B\", \"#00cc96\", \"#ab63fa\", \"#FFA15A\", \"#19d3f3\", \"#FF6692\", \"#B6E880\", \"#FF97FF\", \"#FECB52\"], \"font\": {\"color\": \"#2a3f5f\"}, \"geo\": {\"bgcolor\": \"white\", \"lakecolor\": \"white\", \"landcolor\": \"#E5ECF6\", \"showlakes\": true, \"showland\": true, \"subunitcolor\": \"white\"}, \"hoverlabel\": {\"align\": \"left\"}, \"hovermode\": \"closest\", \"mapbox\": {\"style\": \"light\"}, \"paper_bgcolor\": \"white\", \"plot_bgcolor\": \"#E5ECF6\", \"polar\": {\"angularaxis\": {\"gridcolor\": \"white\", \"linecolor\": \"white\", \"ticks\": \"\"}, \"bgcolor\": \"#E5ECF6\", \"radialaxis\": {\"gridcolor\": \"white\", \"linecolor\": \"white\", \"ticks\": \"\"}}, \"scene\": {\"xaxis\": {\"backgroundcolor\": \"#E5ECF6\", \"gridcolor\": \"white\", \"gridwidth\": 2, \"linecolor\": \"white\", \"showbackground\": true, \"ticks\": \"\", \"zerolinecolor\": \"white\"}, \"yaxis\": {\"backgroundcolor\": \"#E5ECF6\", \"gridcolor\": \"white\", \"gridwidth\": 2, \"linecolor\": \"white\", \"showbackground\": true, \"ticks\": \"\", \"zerolinecolor\": \"white\"}, \"zaxis\": {\"backgroundcolor\": \"#E5ECF6\", \"gridcolor\": \"white\", \"gridwidth\": 2, \"linecolor\": \"white\", \"showbackground\": true, \"ticks\": \"\", \"zerolinecolor\": \"white\"}}, \"shapedefaults\": {\"line\": {\"color\": \"#2a3f5f\"}}, \"ternary\": {\"aaxis\": {\"gridcolor\": \"white\", \"linecolor\": \"white\", \"ticks\": \"\"}, \"baxis\": {\"gridcolor\": \"white\", \"linecolor\": \"white\", \"ticks\": \"\"}, \"bgcolor\": \"#E5ECF6\", \"caxis\": {\"gridcolor\": \"white\", \"linecolor\": \"white\", \"ticks\": \"\"}}, \"title\": {\"x\": 0.05}, \"xaxis\": {\"automargin\": true, \"gridcolor\": \"white\", \"linecolor\": \"white\", \"ticks\": \"\", \"title\": {\"standoff\": 15}, \"zerolinecolor\": \"white\", \"zerolinewidth\": 2}, \"yaxis\": {\"automargin\": true, \"gridcolor\": \"white\", \"linecolor\": \"white\", \"ticks\": \"\", \"title\": {\"standoff\": 15}, \"zerolinecolor\": \"white\", \"zerolinewidth\": 2}}}, \"title\": {\"text\": \"Unnsuccessful attacks related to schools\"}, \"xaxis\": {\"anchor\": \"y\", \"domain\": [0.0, 1.0], \"title\": {\"text\": \"Year\"}, \"zeroline\": false}, \"yaxis\": {\"anchor\": \"x\", \"domain\": [0.0, 1.0], \"title\": {\"text\": \"Number of Occurences\"}, \"zeroline\": false}},\n",
       "                        {\"responsive\": true}\n",
       "                    ).then(function(){\n",
       "                            \n",
       "var gd = document.getElementById('160cd573-b463-4bf6-af4f-6f7ce5e4ab6f');\n",
       "var x = new MutationObserver(function (mutations, observer) {{\n",
       "        var display = window.getComputedStyle(gd).display;\n",
       "        if (!display || display === 'none') {{\n",
       "            console.log([gd, 'removed!']);\n",
       "            Plotly.purge(gd);\n",
       "            observer.disconnect();\n",
       "        }}\n",
       "}});\n",
       "\n",
       "// Listen for the removal of the full notebook cells\n",
       "var notebookContainer = gd.closest('#notebook-container');\n",
       "if (notebookContainer) {{\n",
       "    x.observe(notebookContainer, {childList: true});\n",
       "}}\n",
       "\n",
       "// Listen for the clearing of the current output cell\n",
       "var outputEl = gd.closest('.output');\n",
       "if (outputEl) {{\n",
       "    x.observe(outputEl, {childList: true});\n",
       "}}\n",
       "\n",
       "                        })\n",
       "                };\n",
       "                });\n",
       "            </script>\n",
       "        </div>"
      ]
     },
     "metadata": {},
     "output_type": "display_data"
    }
   ],
   "source": [
    "def plot_data2(data, bad=True):\n",
    "    count = [0]*28\n",
    "    years = [1992, 1993, 1994, 1995, 1996, 1997, 1998, 1999, \\\n",
    "             2000, 2001, 2002, 2003, 2004, 2005, 2006, 2007, 2008, 2009, \\\n",
    "             2010, 2011, 2012, 2013, 2014, 2015, 2016, 2017, 2018, 2019]\n",
    "    #print(data)\n",
    "    for i in range(len(data)):\n",
    "        row = data.iloc[i]\n",
    "        if int(row[\"Date\"].year) < 2000:\n",
    "            count[int(row[\"Date\"].year) - 1992] += 1\n",
    "        else:\n",
    "            count[(int(row[\"Date\"].year) % 2000) + 8] += 1\n",
    "    f = {\"Year\": years, \"Number of Occurences\": count}\n",
    "    d = pd.DataFrame(f)\n",
    "    fig = px.scatter(d, x=\"Year\", y=\"Number of Occurences\", title='Unnsuccessful attacks related to schools')\n",
    "    return fig\n",
    "fig = plot_data2(unsuccessful_shootings)\n",
    "fig.update_xaxes(zeroline=False)\n",
    "fig.update_yaxes(zeroline=False)\n",
    "fig.show()"
   ]
  },
  {
   "cell_type": "markdown",
   "metadata": {},
   "source": [
    "Here we plot the data of school shootings, where the color represents whether or not the shooting was mentioned on the city's Wiki page. In other words, whether or not the shooting(s) help to define the city. We plot the indices of the shootings on the x-axis."
   ]
  },
  {
   "cell_type": "code",
   "execution_count": 97,
   "metadata": {},
   "outputs": [
    {
     "data": {
      "application/vnd.plotly.v1+json": {
       "config": {
        "plotlyServerURL": "https://plot.ly"
       },
       "data": [
        {
         "hoverlabel": {
          "namelength": 0
         },
         "hovertemplate": "Shooting Mentioned on Page=True<br>Indexed Shootings=%{x}<br>Pop=%{y}<br>Number of Deaths and Injuries=%{marker.size}",
         "legendgroup": "Shooting Mentioned on Page=True",
         "marker": {
          "color": "#636efa",
          "size": [
           1,
           2,
           1,
           15,
           6,
           1,
           4,
           2,
           2,
           1,
           17,
           1,
           1,
           1,
           11,
           56,
           1,
           1,
           27,
           1,
           3,
           5,
           3,
           1,
           1,
           2,
           1,
           2,
           2,
           6,
           2,
           10,
           1,
           4,
           30,
           2,
           1,
           1,
           10,
           1,
           2,
           1,
           1,
           1,
           1,
           1,
           3,
           6,
           2,
           2,
           7,
           19,
           1,
           0,
           3,
           3,
           4,
           4,
           4,
           24,
           1,
           1,
           5,
           34,
           1,
           1,
           23,
           4,
           2,
           1,
           1,
           0,
           1,
           2,
           1,
           1,
           0,
           1,
           6,
           1,
           9,
           0,
           1,
           6
          ],
          "sizemode": "area",
          "sizeref": 0.14,
          "symbol": "circle"
         },
         "mode": "markers",
         "name": "Shooting Mentioned on Page=True",
         "showlegend": true,
         "type": "scatter",
         "x": [
          0,
          4,
          5,
          6,
          12,
          16,
          17,
          18,
          20,
          24,
          26,
          27,
          29,
          35,
          36,
          40,
          43,
          48,
          49,
          52,
          55,
          57,
          61,
          62,
          65,
          70,
          74,
          82,
          83,
          86,
          87,
          88,
          92,
          93,
          94,
          95,
          99,
          102,
          107,
          117,
          121,
          125,
          126,
          128,
          132,
          138,
          141,
          148,
          153,
          160,
          161,
          166,
          172,
          173,
          177,
          178,
          181,
          184,
          190,
          195,
          200,
          202,
          203,
          206,
          218,
          220,
          221,
          222,
          223,
          227,
          230,
          233,
          237,
          238,
          244,
          245,
          246,
          248,
          256,
          257,
          259,
          261,
          264,
          265
         ],
         "xaxis": "x",
         "y": [
          "102,434",
          "343,829",
          "1,307,402",
          "53,413",
          "1,021",
          "247,597",
          "343,829",
          "6,373",
          "4,025",
          "2,695,598",
          "1,731",
          "2,695,598",
          "21,181",
          "318",
          "35",
          "42,620",
          "67,263",
          "197,899",
          "43,862",
          "178,874",
          "58,908",
          "2,695,598",
          "883,305",
          "41,114",
          "43,862",
          "790,390",
          "325,078",
          "42,620",
          "74,569",
          "5,148",
          "821,784",
          "390,724",
          "2,695,598",
          "3,792,621",
          "27,560",
          "9,327",
          "2,695,598",
          "238,300",
          "89,736",
          "494,665",
          "1,526,006",
          "3,792,621",
          "25,902",
          "103,190",
          "3,792,621",
          "28,546",
          "15,962",
          "60,020",
          "56,315",
          "821,784",
          "102,434",
          "21,181",
          "820,445",
          "1,526,006",
          "8,234",
          "3,792,621",
          "3,913",
          "883,305",
          "209,924",
          "1,485",
          "343,829",
          "1,526,006",
          "3,792,621",
          "23,962",
          "56,315",
          "15,733",
          "12,222",
          "4,724",
          "51,969",
          "883,305",
          "583,756",
          "247,597",
          "156,185",
          "173,372",
          "620,961",
          "459,787",
          "87,521",
          "205,764",
          "731,424",
          "156,185",
          "96,713",
          "205,764",
          "167,815",
          "176,320"
         ],
         "yaxis": "y"
        },
        {
         "hoverlabel": {
          "namelength": 0
         },
         "hovertemplate": "Shooting Mentioned on Page=False<br>Indexed Shootings=%{x}<br>Pop=%{y}<br>Number of Deaths and Injuries=%{marker.size}",
         "legendgroup": "Shooting Mentioned on Page=False",
         "marker": {
          "color": "#EF553B",
          "size": [
           1,
           2,
           2,
           1,
           2,
           5,
           1,
           2,
           1,
           1,
           4,
           3,
           1,
           1,
           4,
           1,
           3,
           2,
           5,
           3,
           3,
           5,
           0,
           1,
           1,
           2,
           6,
           1,
           3,
           1,
           1,
           1,
           1,
           0,
           4,
           1,
           3,
           1,
           1,
           1,
           6,
           2,
           3,
           1,
           2,
           1,
           2,
           1,
           4,
           1,
           6,
           3,
           1,
           1,
           1,
           1,
           1,
           2,
           1,
           0,
           1,
           2,
           3,
           3,
           2,
           2,
           3,
           1,
           0,
           3,
           1,
           2,
           4,
           1,
           2,
           3,
           1,
           2,
           1,
           1,
           3,
           1,
           1,
           1,
           1,
           1,
           1,
           0,
           1,
           0,
           1,
           1,
           1,
           1,
           4,
           1,
           1,
           1,
           1,
           1,
           1,
           4,
           2,
           4,
           3,
           2,
           1,
           3,
           1,
           1,
           1,
           1,
           3,
           2,
           1,
           4,
           2,
           4,
           2,
           1,
           4,
           2,
           4,
           4,
           3,
           1,
           2,
           1,
           0,
           1,
           1,
           1,
           2,
           4,
           1,
           2,
           3,
           0,
           1,
           1,
           20,
           1,
           1,
           1,
           1,
           1,
           2,
           3,
           1,
           1,
           1,
           1,
           3,
           1,
           1,
           1,
           2,
           0,
           2,
           1,
           2,
           1,
           0,
           1,
           1,
           2,
           1,
           0,
           1,
           1,
           1,
           0,
           1,
           1,
           1,
           1,
           3,
           10,
           0,
           1,
           10,
           1,
           3,
           2,
           3
          ],
          "sizemode": "area",
          "sizeref": 0.14,
          "symbol": "circle"
         },
         "mode": "markers",
         "name": "Shooting Mentioned on Page=False",
         "showlegend": true,
         "type": "scatter",
         "x": [
          1,
          2,
          3,
          7,
          8,
          9,
          10,
          11,
          13,
          14,
          15,
          19,
          21,
          22,
          23,
          25,
          28,
          30,
          31,
          32,
          33,
          34,
          37,
          38,
          39,
          41,
          42,
          44,
          45,
          46,
          47,
          50,
          51,
          53,
          54,
          56,
          58,
          59,
          60,
          63,
          64,
          66,
          67,
          68,
          69,
          71,
          72,
          73,
          75,
          76,
          77,
          78,
          79,
          80,
          81,
          84,
          85,
          89,
          90,
          91,
          96,
          97,
          98,
          100,
          101,
          103,
          104,
          105,
          106,
          108,
          109,
          110,
          111,
          112,
          113,
          114,
          115,
          116,
          118,
          119,
          120,
          122,
          123,
          124,
          127,
          129,
          130,
          131,
          133,
          134,
          135,
          136,
          137,
          139,
          140,
          142,
          143,
          144,
          145,
          146,
          147,
          149,
          150,
          151,
          152,
          154,
          155,
          156,
          157,
          158,
          159,
          162,
          163,
          164,
          165,
          167,
          168,
          169,
          170,
          171,
          174,
          175,
          176,
          179,
          180,
          182,
          183,
          185,
          186,
          187,
          188,
          189,
          191,
          192,
          193,
          194,
          196,
          197,
          198,
          199,
          201,
          204,
          205,
          207,
          208,
          209,
          210,
          211,
          212,
          213,
          214,
          215,
          216,
          217,
          219,
          224,
          225,
          226,
          228,
          229,
          231,
          232,
          234,
          235,
          236,
          239,
          240,
          241,
          242,
          243,
          247,
          249,
          250,
          251,
          252,
          253,
          254,
          255,
          258,
          260,
          262,
          263,
          266,
          267,
          268
         ],
         "xaxis": "x",
         "y": [
          "34,910",
          "608,660",
          "73,580",
          "29,381",
          "35,803",
          "99,478",
          "80,294",
          "8,175,133",
          "592,025",
          "54,727",
          "520,116",
          "396,698",
          "702,445",
          "16,473",
          "32,430",
          "1,417",
          "2,020",
          "225,221",
          "9,271",
          "6,087",
          "1,734",
          "305,704",
          "50,150",
          "198,397",
          "96,455",
          "136,047",
          "396,698",
          "646,889",
          "221,599",
          "107,167",
          "646,889",
          "193,490",
          "89,306",
          "22,268",
          "713,777",
          "165,521",
          "137,436",
          "105,162",
          "7,306",
          "42,938",
          "180,105",
          "41,737",
          "787,033",
          "1,750",
          "713,777",
          "150,441",
          "105,328",
          "10,968",
          "450,238",
          "11,828",
          "2,099,451",
          "2,099,451",
          "47,698",
          "77,434",
          "200,564",
          "2,099,451",
          "11,144",
          "646,889",
          "28,474",
          "52,497",
          "713,777",
          "319,294",
          "4,456",
          "2,099,451",
          "420,003",
          "21,041",
          "4,949",
          "105,162",
          "212,237",
          "1,703",
          "230,047",
          "60,076",
          "90,264",
          "269,666",
          "1,924",
          "305,704",
          "34,568",
          "100,377",
          "65,211",
          "129,779",
          "48,411",
          "33,972",
          "29,596",
          "13,964",
          "692,587",
          "203,433",
          "33,662",
          "14,001",
          "195,844",
          "13,942",
          "713,777",
          "195,844",
          "195,844",
          "103,701",
          "608,660",
          "399,457",
          "60,192",
          "60,785",
          "15,903",
          "770,557",
          "12,950",
          "181,376",
          "399,457",
          "583,776",
          "592,025",
          "65,239",
          "78,958",
          "61,005",
          "35,371",
          "36,437",
          "1,252",
          "136,286",
          "508,530",
          "12,334",
          "4,089",
          "65,870",
          "2,099,451",
          "692,587",
          "230,047",
          "216,961",
          "10,856",
          "226,721",
          "48,694",
          "91,982",
          "5,905",
          "195,111",
          "787,033",
          "96,901",
          "44,098",
          "1,805",
          "608,660",
          "12,874",
          "216,290",
          "470",
          "18,555",
          "77,434",
          "6,763",
          "22,682",
          "230,047",
          "1,863",
          "31,191",
          "17,722",
          "692,587",
          "136,286",
          "2,049",
          "242,803",
          "26,016",
          "212,237",
          "173,514",
          "195,111",
          "323,780",
          "33,025",
          "212,237",
          "29,526",
          "152,750",
          "25,562",
          "56,508",
          "420,003",
          "178,042",
          "646,889",
          "27,198",
          "36,812",
          "399,457",
          "23,640",
          "25,835",
          "195,111",
          "1,924",
          "5,576",
          "646,889",
          "15,133",
          "572,003",
          "59,466",
          "4,949",
          "1,684",
          "19,198",
          "3,296",
          "45,099",
          "5,802",
          "71,050",
          "136,286",
          "195,111",
          "692,587",
          "20,249",
          "69,516",
          "161,791"
         ],
         "yaxis": "y"
        }
       ],
       "layout": {
        "height": 600,
        "legend": {
         "itemsizing": "constant",
         "tracegroupgap": 0
        },
        "template": {
         "data": {
          "bar": [
           {
            "error_x": {
             "color": "#2a3f5f"
            },
            "error_y": {
             "color": "#2a3f5f"
            },
            "marker": {
             "line": {
              "color": "#E5ECF6",
              "width": 0.5
             }
            },
            "type": "bar"
           }
          ],
          "barpolar": [
           {
            "marker": {
             "line": {
              "color": "#E5ECF6",
              "width": 0.5
             }
            },
            "type": "barpolar"
           }
          ],
          "carpet": [
           {
            "aaxis": {
             "endlinecolor": "#2a3f5f",
             "gridcolor": "white",
             "linecolor": "white",
             "minorgridcolor": "white",
             "startlinecolor": "#2a3f5f"
            },
            "baxis": {
             "endlinecolor": "#2a3f5f",
             "gridcolor": "white",
             "linecolor": "white",
             "minorgridcolor": "white",
             "startlinecolor": "#2a3f5f"
            },
            "type": "carpet"
           }
          ],
          "choropleth": [
           {
            "colorbar": {
             "outlinewidth": 0,
             "ticks": ""
            },
            "type": "choropleth"
           }
          ],
          "contour": [
           {
            "colorbar": {
             "outlinewidth": 0,
             "ticks": ""
            },
            "colorscale": [
             [
              0,
              "#0d0887"
             ],
             [
              0.1111111111111111,
              "#46039f"
             ],
             [
              0.2222222222222222,
              "#7201a8"
             ],
             [
              0.3333333333333333,
              "#9c179e"
             ],
             [
              0.4444444444444444,
              "#bd3786"
             ],
             [
              0.5555555555555556,
              "#d8576b"
             ],
             [
              0.6666666666666666,
              "#ed7953"
             ],
             [
              0.7777777777777778,
              "#fb9f3a"
             ],
             [
              0.8888888888888888,
              "#fdca26"
             ],
             [
              1,
              "#f0f921"
             ]
            ],
            "type": "contour"
           }
          ],
          "contourcarpet": [
           {
            "colorbar": {
             "outlinewidth": 0,
             "ticks": ""
            },
            "type": "contourcarpet"
           }
          ],
          "heatmap": [
           {
            "colorbar": {
             "outlinewidth": 0,
             "ticks": ""
            },
            "colorscale": [
             [
              0,
              "#0d0887"
             ],
             [
              0.1111111111111111,
              "#46039f"
             ],
             [
              0.2222222222222222,
              "#7201a8"
             ],
             [
              0.3333333333333333,
              "#9c179e"
             ],
             [
              0.4444444444444444,
              "#bd3786"
             ],
             [
              0.5555555555555556,
              "#d8576b"
             ],
             [
              0.6666666666666666,
              "#ed7953"
             ],
             [
              0.7777777777777778,
              "#fb9f3a"
             ],
             [
              0.8888888888888888,
              "#fdca26"
             ],
             [
              1,
              "#f0f921"
             ]
            ],
            "type": "heatmap"
           }
          ],
          "heatmapgl": [
           {
            "colorbar": {
             "outlinewidth": 0,
             "ticks": ""
            },
            "colorscale": [
             [
              0,
              "#0d0887"
             ],
             [
              0.1111111111111111,
              "#46039f"
             ],
             [
              0.2222222222222222,
              "#7201a8"
             ],
             [
              0.3333333333333333,
              "#9c179e"
             ],
             [
              0.4444444444444444,
              "#bd3786"
             ],
             [
              0.5555555555555556,
              "#d8576b"
             ],
             [
              0.6666666666666666,
              "#ed7953"
             ],
             [
              0.7777777777777778,
              "#fb9f3a"
             ],
             [
              0.8888888888888888,
              "#fdca26"
             ],
             [
              1,
              "#f0f921"
             ]
            ],
            "type": "heatmapgl"
           }
          ],
          "histogram": [
           {
            "marker": {
             "colorbar": {
              "outlinewidth": 0,
              "ticks": ""
             }
            },
            "type": "histogram"
           }
          ],
          "histogram2d": [
           {
            "colorbar": {
             "outlinewidth": 0,
             "ticks": ""
            },
            "colorscale": [
             [
              0,
              "#0d0887"
             ],
             [
              0.1111111111111111,
              "#46039f"
             ],
             [
              0.2222222222222222,
              "#7201a8"
             ],
             [
              0.3333333333333333,
              "#9c179e"
             ],
             [
              0.4444444444444444,
              "#bd3786"
             ],
             [
              0.5555555555555556,
              "#d8576b"
             ],
             [
              0.6666666666666666,
              "#ed7953"
             ],
             [
              0.7777777777777778,
              "#fb9f3a"
             ],
             [
              0.8888888888888888,
              "#fdca26"
             ],
             [
              1,
              "#f0f921"
             ]
            ],
            "type": "histogram2d"
           }
          ],
          "histogram2dcontour": [
           {
            "colorbar": {
             "outlinewidth": 0,
             "ticks": ""
            },
            "colorscale": [
             [
              0,
              "#0d0887"
             ],
             [
              0.1111111111111111,
              "#46039f"
             ],
             [
              0.2222222222222222,
              "#7201a8"
             ],
             [
              0.3333333333333333,
              "#9c179e"
             ],
             [
              0.4444444444444444,
              "#bd3786"
             ],
             [
              0.5555555555555556,
              "#d8576b"
             ],
             [
              0.6666666666666666,
              "#ed7953"
             ],
             [
              0.7777777777777778,
              "#fb9f3a"
             ],
             [
              0.8888888888888888,
              "#fdca26"
             ],
             [
              1,
              "#f0f921"
             ]
            ],
            "type": "histogram2dcontour"
           }
          ],
          "mesh3d": [
           {
            "colorbar": {
             "outlinewidth": 0,
             "ticks": ""
            },
            "type": "mesh3d"
           }
          ],
          "parcoords": [
           {
            "line": {
             "colorbar": {
              "outlinewidth": 0,
              "ticks": ""
             }
            },
            "type": "parcoords"
           }
          ],
          "pie": [
           {
            "automargin": true,
            "type": "pie"
           }
          ],
          "scatter": [
           {
            "marker": {
             "colorbar": {
              "outlinewidth": 0,
              "ticks": ""
             }
            },
            "type": "scatter"
           }
          ],
          "scatter3d": [
           {
            "line": {
             "colorbar": {
              "outlinewidth": 0,
              "ticks": ""
             }
            },
            "marker": {
             "colorbar": {
              "outlinewidth": 0,
              "ticks": ""
             }
            },
            "type": "scatter3d"
           }
          ],
          "scattercarpet": [
           {
            "marker": {
             "colorbar": {
              "outlinewidth": 0,
              "ticks": ""
             }
            },
            "type": "scattercarpet"
           }
          ],
          "scattergeo": [
           {
            "marker": {
             "colorbar": {
              "outlinewidth": 0,
              "ticks": ""
             }
            },
            "type": "scattergeo"
           }
          ],
          "scattergl": [
           {
            "marker": {
             "colorbar": {
              "outlinewidth": 0,
              "ticks": ""
             }
            },
            "type": "scattergl"
           }
          ],
          "scattermapbox": [
           {
            "marker": {
             "colorbar": {
              "outlinewidth": 0,
              "ticks": ""
             }
            },
            "type": "scattermapbox"
           }
          ],
          "scatterpolar": [
           {
            "marker": {
             "colorbar": {
              "outlinewidth": 0,
              "ticks": ""
             }
            },
            "type": "scatterpolar"
           }
          ],
          "scatterpolargl": [
           {
            "marker": {
             "colorbar": {
              "outlinewidth": 0,
              "ticks": ""
             }
            },
            "type": "scatterpolargl"
           }
          ],
          "scatterternary": [
           {
            "marker": {
             "colorbar": {
              "outlinewidth": 0,
              "ticks": ""
             }
            },
            "type": "scatterternary"
           }
          ],
          "surface": [
           {
            "colorbar": {
             "outlinewidth": 0,
             "ticks": ""
            },
            "colorscale": [
             [
              0,
              "#0d0887"
             ],
             [
              0.1111111111111111,
              "#46039f"
             ],
             [
              0.2222222222222222,
              "#7201a8"
             ],
             [
              0.3333333333333333,
              "#9c179e"
             ],
             [
              0.4444444444444444,
              "#bd3786"
             ],
             [
              0.5555555555555556,
              "#d8576b"
             ],
             [
              0.6666666666666666,
              "#ed7953"
             ],
             [
              0.7777777777777778,
              "#fb9f3a"
             ],
             [
              0.8888888888888888,
              "#fdca26"
             ],
             [
              1,
              "#f0f921"
             ]
            ],
            "type": "surface"
           }
          ],
          "table": [
           {
            "cells": {
             "fill": {
              "color": "#EBF0F8"
             },
             "line": {
              "color": "white"
             }
            },
            "header": {
             "fill": {
              "color": "#C8D4E3"
             },
             "line": {
              "color": "white"
             }
            },
            "type": "table"
           }
          ]
         },
         "layout": {
          "annotationdefaults": {
           "arrowcolor": "#2a3f5f",
           "arrowhead": 0,
           "arrowwidth": 1
          },
          "coloraxis": {
           "colorbar": {
            "outlinewidth": 0,
            "ticks": ""
           }
          },
          "colorscale": {
           "diverging": [
            [
             0,
             "#8e0152"
            ],
            [
             0.1,
             "#c51b7d"
            ],
            [
             0.2,
             "#de77ae"
            ],
            [
             0.3,
             "#f1b6da"
            ],
            [
             0.4,
             "#fde0ef"
            ],
            [
             0.5,
             "#f7f7f7"
            ],
            [
             0.6,
             "#e6f5d0"
            ],
            [
             0.7,
             "#b8e186"
            ],
            [
             0.8,
             "#7fbc41"
            ],
            [
             0.9,
             "#4d9221"
            ],
            [
             1,
             "#276419"
            ]
           ],
           "sequential": [
            [
             0,
             "#0d0887"
            ],
            [
             0.1111111111111111,
             "#46039f"
            ],
            [
             0.2222222222222222,
             "#7201a8"
            ],
            [
             0.3333333333333333,
             "#9c179e"
            ],
            [
             0.4444444444444444,
             "#bd3786"
            ],
            [
             0.5555555555555556,
             "#d8576b"
            ],
            [
             0.6666666666666666,
             "#ed7953"
            ],
            [
             0.7777777777777778,
             "#fb9f3a"
            ],
            [
             0.8888888888888888,
             "#fdca26"
            ],
            [
             1,
             "#f0f921"
            ]
           ],
           "sequentialminus": [
            [
             0,
             "#0d0887"
            ],
            [
             0.1111111111111111,
             "#46039f"
            ],
            [
             0.2222222222222222,
             "#7201a8"
            ],
            [
             0.3333333333333333,
             "#9c179e"
            ],
            [
             0.4444444444444444,
             "#bd3786"
            ],
            [
             0.5555555555555556,
             "#d8576b"
            ],
            [
             0.6666666666666666,
             "#ed7953"
            ],
            [
             0.7777777777777778,
             "#fb9f3a"
            ],
            [
             0.8888888888888888,
             "#fdca26"
            ],
            [
             1,
             "#f0f921"
            ]
           ]
          },
          "colorway": [
           "#636efa",
           "#EF553B",
           "#00cc96",
           "#ab63fa",
           "#FFA15A",
           "#19d3f3",
           "#FF6692",
           "#B6E880",
           "#FF97FF",
           "#FECB52"
          ],
          "font": {
           "color": "#2a3f5f"
          },
          "geo": {
           "bgcolor": "white",
           "lakecolor": "white",
           "landcolor": "#E5ECF6",
           "showlakes": true,
           "showland": true,
           "subunitcolor": "white"
          },
          "hoverlabel": {
           "align": "left"
          },
          "hovermode": "closest",
          "mapbox": {
           "style": "light"
          },
          "paper_bgcolor": "white",
          "plot_bgcolor": "#E5ECF6",
          "polar": {
           "angularaxis": {
            "gridcolor": "white",
            "linecolor": "white",
            "ticks": ""
           },
           "bgcolor": "#E5ECF6",
           "radialaxis": {
            "gridcolor": "white",
            "linecolor": "white",
            "ticks": ""
           }
          },
          "scene": {
           "xaxis": {
            "backgroundcolor": "#E5ECF6",
            "gridcolor": "white",
            "gridwidth": 2,
            "linecolor": "white",
            "showbackground": true,
            "ticks": "",
            "zerolinecolor": "white"
           },
           "yaxis": {
            "backgroundcolor": "#E5ECF6",
            "gridcolor": "white",
            "gridwidth": 2,
            "linecolor": "white",
            "showbackground": true,
            "ticks": "",
            "zerolinecolor": "white"
           },
           "zaxis": {
            "backgroundcolor": "#E5ECF6",
            "gridcolor": "white",
            "gridwidth": 2,
            "linecolor": "white",
            "showbackground": true,
            "ticks": "",
            "zerolinecolor": "white"
           }
          },
          "shapedefaults": {
           "line": {
            "color": "#2a3f5f"
           }
          },
          "ternary": {
           "aaxis": {
            "gridcolor": "white",
            "linecolor": "white",
            "ticks": ""
           },
           "baxis": {
            "gridcolor": "white",
            "linecolor": "white",
            "ticks": ""
           },
           "bgcolor": "#E5ECF6",
           "caxis": {
            "gridcolor": "white",
            "linecolor": "white",
            "ticks": ""
           }
          },
          "title": {
           "x": 0.05
          },
          "xaxis": {
           "automargin": true,
           "gridcolor": "white",
           "linecolor": "white",
           "ticks": "",
           "title": {
            "standoff": 15
           },
           "zerolinecolor": "white",
           "zerolinewidth": 2
          },
          "yaxis": {
           "automargin": true,
           "gridcolor": "white",
           "linecolor": "white",
           "ticks": "",
           "title": {
            "standoff": 15
           },
           "zerolinecolor": "white",
           "zerolinewidth": 2
          }
         }
        },
        "title": {
         "text": "School Shootings"
        },
        "xaxis": {
         "anchor": "y",
         "domain": [
          0,
          1
         ],
         "title": {
          "text": "Indexed Shootings"
         }
        },
        "yaxis": {
         "anchor": "x",
         "domain": [
          0,
          1
         ],
         "title": {
          "text": "Pop"
         }
        }
       }
      },
      "text/html": [
       "<div>\n",
       "        \n",
       "        \n",
       "            <div id=\"937ca67f-aef3-488e-9fcb-1b17cddd4691\" class=\"plotly-graph-div\" style=\"height:600px; width:100%;\"></div>\n",
       "            <script type=\"text/javascript\">\n",
       "                require([\"plotly\"], function(Plotly) {\n",
       "                    window.PLOTLYENV=window.PLOTLYENV || {};\n",
       "                    \n",
       "                if (document.getElementById(\"937ca67f-aef3-488e-9fcb-1b17cddd4691\")) {\n",
       "                    Plotly.newPlot(\n",
       "                        '937ca67f-aef3-488e-9fcb-1b17cddd4691',\n",
       "                        [{\"hoverlabel\": {\"namelength\": 0}, \"hovertemplate\": \"Shooting Mentioned on Page=True<br>Indexed Shootings=%{x}<br>Pop=%{y}<br>Number of Deaths and Injuries=%{marker.size}\", \"legendgroup\": \"Shooting Mentioned on Page=True\", \"marker\": {\"color\": \"#636efa\", \"size\": [1, 2, 1, 15, 6, 1, 4, 2, 2, 1, 17, 1, 1, 1, 11, 56, 1, 1, 27, 1, 3, 5, 3, 1, 1, 2, 1, 2, 2, 6, 2, 10, 1, 4, 30, 2, 1, 1, 10, 1, 2, 1, 1, 1, 1, 1, 3, 6, 2, 2, 7, 19, 1, 0, 3, 3, 4, 4, 4, 24, 1, 1, 5, 34, 1, 1, 23, 4, 2, 1, 1, 0, 1, 2, 1, 1, 0, 1, 6, 1, 9, 0, 1, 6], \"sizemode\": \"area\", \"sizeref\": 0.14, \"symbol\": \"circle\"}, \"mode\": \"markers\", \"name\": \"Shooting Mentioned on Page=True\", \"showlegend\": true, \"type\": \"scatter\", \"x\": [0, 4, 5, 6, 12, 16, 17, 18, 20, 24, 26, 27, 29, 35, 36, 40, 43, 48, 49, 52, 55, 57, 61, 62, 65, 70, 74, 82, 83, 86, 87, 88, 92, 93, 94, 95, 99, 102, 107, 117, 121, 125, 126, 128, 132, 138, 141, 148, 153, 160, 161, 166, 172, 173, 177, 178, 181, 184, 190, 195, 200, 202, 203, 206, 218, 220, 221, 222, 223, 227, 230, 233, 237, 238, 244, 245, 246, 248, 256, 257, 259, 261, 264, 265], \"xaxis\": \"x\", \"y\": [\"102,434\", \"343,829\", \"1,307,402\", \"53,413\", \"1,021\", \"247,597\", \"343,829\", \"6,373\", \"4,025\", \"2,695,598\", \"1,731\", \"2,695,598\", \"21,181\", \"318\", \"35\", \"42,620\", \"67,263\", \"197,899\", \"43,862\", \"178,874\", \"58,908\", \"2,695,598\", \"883,305\", \"41,114\", \"43,862\", \"790,390\", \"325,078\", \"42,620\", \"74,569\", \"5,148\", \"821,784\", \"390,724\", \"2,695,598\", \"3,792,621\", \"27,560\", \"9,327\", \"2,695,598\", \"238,300\", \"89,736\", \"494,665\", \"1,526,006\", \"3,792,621\", \"25,902\", \"103,190\", \"3,792,621\", \"28,546\", \"15,962\", \"60,020\", \"56,315\", \"821,784\", \"102,434\", \"21,181\", \"820,445\", \"1,526,006\", \"8,234\", \"3,792,621\", \"3,913\", \"883,305\", \"209,924\", \"1,485\", \"343,829\", \"1,526,006\", \"3,792,621\", \"23,962\", \"56,315\", \"15,733\", \"12,222\", \"4,724\", \"51,969\", \"883,305\", \"583,756\", \"247,597\", \"156,185\", \"173,372\", \"620,961\", \"459,787\", \"87,521\", \"205,764\", \"731,424\", \"156,185\", \"96,713\", \"205,764\", \"167,815\", \"176,320\"], \"yaxis\": \"y\"}, {\"hoverlabel\": {\"namelength\": 0}, \"hovertemplate\": \"Shooting Mentioned on Page=False<br>Indexed Shootings=%{x}<br>Pop=%{y}<br>Number of Deaths and Injuries=%{marker.size}\", \"legendgroup\": \"Shooting Mentioned on Page=False\", \"marker\": {\"color\": \"#EF553B\", \"size\": [1, 2, 2, 1, 2, 5, 1, 2, 1, 1, 4, 3, 1, 1, 4, 1, 3, 2, 5, 3, 3, 5, 0, 1, 1, 2, 6, 1, 3, 1, 1, 1, 1, 0, 4, 1, 3, 1, 1, 1, 6, 2, 3, 1, 2, 1, 2, 1, 4, 1, 6, 3, 1, 1, 1, 1, 1, 2, 1, 0, 1, 2, 3, 3, 2, 2, 3, 1, 0, 3, 1, 2, 4, 1, 2, 3, 1, 2, 1, 1, 3, 1, 1, 1, 1, 1, 1, 0, 1, 0, 1, 1, 1, 1, 4, 1, 1, 1, 1, 1, 1, 4, 2, 4, 3, 2, 1, 3, 1, 1, 1, 1, 3, 2, 1, 4, 2, 4, 2, 1, 4, 2, 4, 4, 3, 1, 2, 1, 0, 1, 1, 1, 2, 4, 1, 2, 3, 0, 1, 1, 20, 1, 1, 1, 1, 1, 2, 3, 1, 1, 1, 1, 3, 1, 1, 1, 2, 0, 2, 1, 2, 1, 0, 1, 1, 2, 1, 0, 1, 1, 1, 0, 1, 1, 1, 1, 3, 10, 0, 1, 10, 1, 3, 2, 3], \"sizemode\": \"area\", \"sizeref\": 0.14, \"symbol\": \"circle\"}, \"mode\": \"markers\", \"name\": \"Shooting Mentioned on Page=False\", \"showlegend\": true, \"type\": \"scatter\", \"x\": [1, 2, 3, 7, 8, 9, 10, 11, 13, 14, 15, 19, 21, 22, 23, 25, 28, 30, 31, 32, 33, 34, 37, 38, 39, 41, 42, 44, 45, 46, 47, 50, 51, 53, 54, 56, 58, 59, 60, 63, 64, 66, 67, 68, 69, 71, 72, 73, 75, 76, 77, 78, 79, 80, 81, 84, 85, 89, 90, 91, 96, 97, 98, 100, 101, 103, 104, 105, 106, 108, 109, 110, 111, 112, 113, 114, 115, 116, 118, 119, 120, 122, 123, 124, 127, 129, 130, 131, 133, 134, 135, 136, 137, 139, 140, 142, 143, 144, 145, 146, 147, 149, 150, 151, 152, 154, 155, 156, 157, 158, 159, 162, 163, 164, 165, 167, 168, 169, 170, 171, 174, 175, 176, 179, 180, 182, 183, 185, 186, 187, 188, 189, 191, 192, 193, 194, 196, 197, 198, 199, 201, 204, 205, 207, 208, 209, 210, 211, 212, 213, 214, 215, 216, 217, 219, 224, 225, 226, 228, 229, 231, 232, 234, 235, 236, 239, 240, 241, 242, 243, 247, 249, 250, 251, 252, 253, 254, 255, 258, 260, 262, 263, 266, 267, 268], \"xaxis\": \"x\", \"y\": [\"34,910\", \"608,660\", \"73,580\", \"29,381\", \"35,803\", \"99,478\", \"80,294\", \"8,175,133\", \"592,025\", \"54,727\", \"520,116\", \"396,698\", \"702,445\", \"16,473\", \"32,430\", \"1,417\", \"2,020\", \"225,221\", \"9,271\", \"6,087\", \"1,734\", \"305,704\", \"50,150\", \"198,397\", \"96,455\", \"136,047\", \"396,698\", \"646,889\", \"221,599\", \"107,167\", \"646,889\", \"193,490\", \"89,306\", \"22,268\", \"713,777\", \"165,521\", \"137,436\", \"105,162\", \"7,306\", \"42,938\", \"180,105\", \"41,737\", \"787,033\", \"1,750\", \"713,777\", \"150,441\", \"105,328\", \"10,968\", \"450,238\", \"11,828\", \"2,099,451\", \"2,099,451\", \"47,698\", \"77,434\", \"200,564\", \"2,099,451\", \"11,144\", \"646,889\", \"28,474\", \"52,497\", \"713,777\", \"319,294\", \"4,456\", \"2,099,451\", \"420,003\", \"21,041\", \"4,949\", \"105,162\", \"212,237\", \"1,703\", \"230,047\", \"60,076\", \"90,264\", \"269,666\", \"1,924\", \"305,704\", \"34,568\", \"100,377\", \"65,211\", \"129,779\", \"48,411\", \"33,972\", \"29,596\", \"13,964\", \"692,587\", \"203,433\", \"33,662\", \"14,001\", \"195,844\", \"13,942\", \"713,777\", \"195,844\", \"195,844\", \"103,701\", \"608,660\", \"399,457\", \"60,192\", \"60,785\", \"15,903\", \"770,557\", \"12,950\", \"181,376\", \"399,457\", \"583,776\", \"592,025\", \"65,239\", \"78,958\", \"61,005\", \"35,371\", \"36,437\", \"1,252\", \"136,286\", \"508,530\", \"12,334\", \"4,089\", \"65,870\", \"2,099,451\", \"692,587\", \"230,047\", \"216,961\", \"10,856\", \"226,721\", \"48,694\", \"91,982\", \"5,905\", \"195,111\", \"787,033\", \"96,901\", \"44,098\", \"1,805\", \"608,660\", \"12,874\", \"216,290\", \"470\", \"18,555\", \"77,434\", \"6,763\", \"22,682\", \"230,047\", \"1,863\", \"31,191\", \"17,722\", \"692,587\", \"136,286\", \"2,049\", \"242,803\", \"26,016\", \"212,237\", \"173,514\", \"195,111\", \"323,780\", \"33,025\", \"212,237\", \"29,526\", \"152,750\", \"25,562\", \"56,508\", \"420,003\", \"178,042\", \"646,889\", \"27,198\", \"36,812\", \"399,457\", \"23,640\", \"25,835\", \"195,111\", \"1,924\", \"5,576\", \"646,889\", \"15,133\", \"572,003\", \"59,466\", \"4,949\", \"1,684\", \"19,198\", \"3,296\", \"45,099\", \"5,802\", \"71,050\", \"136,286\", \"195,111\", \"692,587\", \"20,249\", \"69,516\", \"161,791\"], \"yaxis\": \"y\"}],\n",
       "                        {\"height\": 600, \"legend\": {\"itemsizing\": \"constant\", \"tracegroupgap\": 0}, \"template\": {\"data\": {\"bar\": [{\"error_x\": {\"color\": \"#2a3f5f\"}, \"error_y\": {\"color\": \"#2a3f5f\"}, \"marker\": {\"line\": {\"color\": \"#E5ECF6\", \"width\": 0.5}}, \"type\": \"bar\"}], \"barpolar\": [{\"marker\": {\"line\": {\"color\": \"#E5ECF6\", \"width\": 0.5}}, \"type\": \"barpolar\"}], \"carpet\": [{\"aaxis\": {\"endlinecolor\": \"#2a3f5f\", \"gridcolor\": \"white\", \"linecolor\": \"white\", \"minorgridcolor\": \"white\", \"startlinecolor\": \"#2a3f5f\"}, \"baxis\": {\"endlinecolor\": \"#2a3f5f\", \"gridcolor\": \"white\", \"linecolor\": \"white\", \"minorgridcolor\": \"white\", \"startlinecolor\": \"#2a3f5f\"}, \"type\": \"carpet\"}], \"choropleth\": [{\"colorbar\": {\"outlinewidth\": 0, \"ticks\": \"\"}, \"type\": \"choropleth\"}], \"contour\": [{\"colorbar\": {\"outlinewidth\": 0, \"ticks\": \"\"}, \"colorscale\": [[0.0, \"#0d0887\"], [0.1111111111111111, \"#46039f\"], [0.2222222222222222, \"#7201a8\"], [0.3333333333333333, \"#9c179e\"], [0.4444444444444444, \"#bd3786\"], [0.5555555555555556, \"#d8576b\"], [0.6666666666666666, \"#ed7953\"], [0.7777777777777778, \"#fb9f3a\"], [0.8888888888888888, \"#fdca26\"], [1.0, \"#f0f921\"]], \"type\": \"contour\"}], \"contourcarpet\": [{\"colorbar\": {\"outlinewidth\": 0, \"ticks\": \"\"}, \"type\": \"contourcarpet\"}], \"heatmap\": [{\"colorbar\": {\"outlinewidth\": 0, \"ticks\": \"\"}, \"colorscale\": [[0.0, \"#0d0887\"], [0.1111111111111111, \"#46039f\"], [0.2222222222222222, \"#7201a8\"], [0.3333333333333333, \"#9c179e\"], [0.4444444444444444, \"#bd3786\"], [0.5555555555555556, \"#d8576b\"], [0.6666666666666666, \"#ed7953\"], [0.7777777777777778, \"#fb9f3a\"], [0.8888888888888888, \"#fdca26\"], [1.0, \"#f0f921\"]], \"type\": \"heatmap\"}], \"heatmapgl\": [{\"colorbar\": {\"outlinewidth\": 0, \"ticks\": \"\"}, \"colorscale\": [[0.0, \"#0d0887\"], [0.1111111111111111, \"#46039f\"], [0.2222222222222222, \"#7201a8\"], [0.3333333333333333, \"#9c179e\"], [0.4444444444444444, \"#bd3786\"], [0.5555555555555556, \"#d8576b\"], [0.6666666666666666, \"#ed7953\"], [0.7777777777777778, \"#fb9f3a\"], [0.8888888888888888, \"#fdca26\"], [1.0, \"#f0f921\"]], \"type\": \"heatmapgl\"}], \"histogram\": [{\"marker\": {\"colorbar\": {\"outlinewidth\": 0, \"ticks\": \"\"}}, \"type\": \"histogram\"}], \"histogram2d\": [{\"colorbar\": {\"outlinewidth\": 0, \"ticks\": \"\"}, \"colorscale\": [[0.0, \"#0d0887\"], [0.1111111111111111, \"#46039f\"], [0.2222222222222222, \"#7201a8\"], [0.3333333333333333, \"#9c179e\"], [0.4444444444444444, \"#bd3786\"], [0.5555555555555556, \"#d8576b\"], [0.6666666666666666, \"#ed7953\"], [0.7777777777777778, \"#fb9f3a\"], [0.8888888888888888, \"#fdca26\"], [1.0, \"#f0f921\"]], \"type\": \"histogram2d\"}], \"histogram2dcontour\": [{\"colorbar\": {\"outlinewidth\": 0, \"ticks\": \"\"}, \"colorscale\": [[0.0, \"#0d0887\"], [0.1111111111111111, \"#46039f\"], [0.2222222222222222, \"#7201a8\"], [0.3333333333333333, \"#9c179e\"], [0.4444444444444444, \"#bd3786\"], [0.5555555555555556, \"#d8576b\"], [0.6666666666666666, \"#ed7953\"], [0.7777777777777778, \"#fb9f3a\"], [0.8888888888888888, \"#fdca26\"], [1.0, \"#f0f921\"]], \"type\": \"histogram2dcontour\"}], \"mesh3d\": [{\"colorbar\": {\"outlinewidth\": 0, \"ticks\": \"\"}, \"type\": \"mesh3d\"}], \"parcoords\": [{\"line\": {\"colorbar\": {\"outlinewidth\": 0, \"ticks\": \"\"}}, \"type\": \"parcoords\"}], \"pie\": [{\"automargin\": true, \"type\": \"pie\"}], \"scatter\": [{\"marker\": {\"colorbar\": {\"outlinewidth\": 0, \"ticks\": \"\"}}, \"type\": \"scatter\"}], \"scatter3d\": [{\"line\": {\"colorbar\": {\"outlinewidth\": 0, \"ticks\": \"\"}}, \"marker\": {\"colorbar\": {\"outlinewidth\": 0, \"ticks\": \"\"}}, \"type\": \"scatter3d\"}], \"scattercarpet\": [{\"marker\": {\"colorbar\": {\"outlinewidth\": 0, \"ticks\": \"\"}}, \"type\": \"scattercarpet\"}], \"scattergeo\": [{\"marker\": {\"colorbar\": {\"outlinewidth\": 0, \"ticks\": \"\"}}, \"type\": \"scattergeo\"}], \"scattergl\": [{\"marker\": {\"colorbar\": {\"outlinewidth\": 0, \"ticks\": \"\"}}, \"type\": \"scattergl\"}], \"scattermapbox\": [{\"marker\": {\"colorbar\": {\"outlinewidth\": 0, \"ticks\": \"\"}}, \"type\": \"scattermapbox\"}], \"scatterpolar\": [{\"marker\": {\"colorbar\": {\"outlinewidth\": 0, \"ticks\": \"\"}}, \"type\": \"scatterpolar\"}], \"scatterpolargl\": [{\"marker\": {\"colorbar\": {\"outlinewidth\": 0, \"ticks\": \"\"}}, \"type\": \"scatterpolargl\"}], \"scatterternary\": [{\"marker\": {\"colorbar\": {\"outlinewidth\": 0, \"ticks\": \"\"}}, \"type\": \"scatterternary\"}], \"surface\": [{\"colorbar\": {\"outlinewidth\": 0, \"ticks\": \"\"}, \"colorscale\": [[0.0, \"#0d0887\"], [0.1111111111111111, \"#46039f\"], [0.2222222222222222, \"#7201a8\"], [0.3333333333333333, \"#9c179e\"], [0.4444444444444444, \"#bd3786\"], [0.5555555555555556, \"#d8576b\"], [0.6666666666666666, \"#ed7953\"], [0.7777777777777778, \"#fb9f3a\"], [0.8888888888888888, \"#fdca26\"], [1.0, \"#f0f921\"]], \"type\": \"surface\"}], \"table\": [{\"cells\": {\"fill\": {\"color\": \"#EBF0F8\"}, \"line\": {\"color\": \"white\"}}, \"header\": {\"fill\": {\"color\": \"#C8D4E3\"}, \"line\": {\"color\": \"white\"}}, \"type\": \"table\"}]}, \"layout\": {\"annotationdefaults\": {\"arrowcolor\": \"#2a3f5f\", \"arrowhead\": 0, \"arrowwidth\": 1}, \"coloraxis\": {\"colorbar\": {\"outlinewidth\": 0, \"ticks\": \"\"}}, \"colorscale\": {\"diverging\": [[0, \"#8e0152\"], [0.1, \"#c51b7d\"], [0.2, \"#de77ae\"], [0.3, \"#f1b6da\"], [0.4, \"#fde0ef\"], [0.5, \"#f7f7f7\"], [0.6, \"#e6f5d0\"], [0.7, \"#b8e186\"], [0.8, \"#7fbc41\"], [0.9, \"#4d9221\"], [1, \"#276419\"]], \"sequential\": [[0.0, \"#0d0887\"], [0.1111111111111111, \"#46039f\"], [0.2222222222222222, \"#7201a8\"], [0.3333333333333333, \"#9c179e\"], [0.4444444444444444, \"#bd3786\"], [0.5555555555555556, \"#d8576b\"], [0.6666666666666666, \"#ed7953\"], [0.7777777777777778, \"#fb9f3a\"], [0.8888888888888888, \"#fdca26\"], [1.0, \"#f0f921\"]], \"sequentialminus\": [[0.0, \"#0d0887\"], [0.1111111111111111, \"#46039f\"], [0.2222222222222222, \"#7201a8\"], [0.3333333333333333, \"#9c179e\"], [0.4444444444444444, \"#bd3786\"], [0.5555555555555556, \"#d8576b\"], [0.6666666666666666, \"#ed7953\"], [0.7777777777777778, \"#fb9f3a\"], [0.8888888888888888, \"#fdca26\"], [1.0, \"#f0f921\"]]}, \"colorway\": [\"#636efa\", \"#EF553B\", \"#00cc96\", \"#ab63fa\", \"#FFA15A\", \"#19d3f3\", \"#FF6692\", \"#B6E880\", \"#FF97FF\", \"#FECB52\"], \"font\": {\"color\": \"#2a3f5f\"}, \"geo\": {\"bgcolor\": \"white\", \"lakecolor\": \"white\", \"landcolor\": \"#E5ECF6\", \"showlakes\": true, \"showland\": true, \"subunitcolor\": \"white\"}, \"hoverlabel\": {\"align\": \"left\"}, \"hovermode\": \"closest\", \"mapbox\": {\"style\": \"light\"}, \"paper_bgcolor\": \"white\", \"plot_bgcolor\": \"#E5ECF6\", \"polar\": {\"angularaxis\": {\"gridcolor\": \"white\", \"linecolor\": \"white\", \"ticks\": \"\"}, \"bgcolor\": \"#E5ECF6\", \"radialaxis\": {\"gridcolor\": \"white\", \"linecolor\": \"white\", \"ticks\": \"\"}}, \"scene\": {\"xaxis\": {\"backgroundcolor\": \"#E5ECF6\", \"gridcolor\": \"white\", \"gridwidth\": 2, \"linecolor\": \"white\", \"showbackground\": true, \"ticks\": \"\", \"zerolinecolor\": \"white\"}, \"yaxis\": {\"backgroundcolor\": \"#E5ECF6\", \"gridcolor\": \"white\", \"gridwidth\": 2, \"linecolor\": \"white\", \"showbackground\": true, \"ticks\": \"\", \"zerolinecolor\": \"white\"}, \"zaxis\": {\"backgroundcolor\": \"#E5ECF6\", \"gridcolor\": \"white\", \"gridwidth\": 2, \"linecolor\": \"white\", \"showbackground\": true, \"ticks\": \"\", \"zerolinecolor\": \"white\"}}, \"shapedefaults\": {\"line\": {\"color\": \"#2a3f5f\"}}, \"ternary\": {\"aaxis\": {\"gridcolor\": \"white\", \"linecolor\": \"white\", \"ticks\": \"\"}, \"baxis\": {\"gridcolor\": \"white\", \"linecolor\": \"white\", \"ticks\": \"\"}, \"bgcolor\": \"#E5ECF6\", \"caxis\": {\"gridcolor\": \"white\", \"linecolor\": \"white\", \"ticks\": \"\"}}, \"title\": {\"x\": 0.05}, \"xaxis\": {\"automargin\": true, \"gridcolor\": \"white\", \"linecolor\": \"white\", \"ticks\": \"\", \"title\": {\"standoff\": 15}, \"zerolinecolor\": \"white\", \"zerolinewidth\": 2}, \"yaxis\": {\"automargin\": true, \"gridcolor\": \"white\", \"linecolor\": \"white\", \"ticks\": \"\", \"title\": {\"standoff\": 15}, \"zerolinecolor\": \"white\", \"zerolinewidth\": 2}}}, \"title\": {\"text\": \"School Shootings\"}, \"xaxis\": {\"anchor\": \"y\", \"domain\": [0.0, 1.0], \"title\": {\"text\": \"Indexed Shootings\"}}, \"yaxis\": {\"anchor\": \"x\", \"domain\": [0.0, 1.0], \"title\": {\"text\": \"Pop\"}}},\n",
       "                        {\"responsive\": true}\n",
       "                    ).then(function(){\n",
       "                            \n",
       "var gd = document.getElementById('937ca67f-aef3-488e-9fcb-1b17cddd4691');\n",
       "var x = new MutationObserver(function (mutations, observer) {{\n",
       "        var display = window.getComputedStyle(gd).display;\n",
       "        if (!display || display === 'none') {{\n",
       "            console.log([gd, 'removed!']);\n",
       "            Plotly.purge(gd);\n",
       "            observer.disconnect();\n",
       "        }}\n",
       "}});\n",
       "\n",
       "// Listen for the removal of the full notebook cells\n",
       "var notebookContainer = gd.closest('#notebook-container');\n",
       "if (notebookContainer) {{\n",
       "    x.observe(notebookContainer, {childList: true});\n",
       "}}\n",
       "\n",
       "// Listen for the clearing of the current output cell\n",
       "var outputEl = gd.closest('.output');\n",
       "if (outputEl) {{\n",
       "    x.observe(outputEl, {childList: true});\n",
       "}}\n",
       "\n",
       "                        })\n",
       "                };\n",
       "                });\n",
       "            </script>\n",
       "        </div>"
      ]
     },
     "metadata": {},
     "output_type": "display_data"
    }
   ],
   "source": [
    "def plot_results(data):\n",
    "    casualties = [0]*269\n",
    "    pop = [0]*269\n",
    "    mention = [0]*269\n",
    "    for i in range(len(data)):\n",
    "        row = data.iloc[i]\n",
    "        casualties[i] += (int(row[\"Deaths\"]) + int(row[\"Injuries\"]))\n",
    "        if row[\"City Mentioned\"]:\n",
    "            mention[i] = \"True\"\n",
    "        else:\n",
    "            mention[i] = \"False\"\n",
    "    f = {\"Number of Deaths and Injuries\": casualties, \\\n",
    "         \"Shooting Mentioned on Page\": mention, \"Indexed Shootings\" : range(0, 269),\\\n",
    "        \"Pop\":data[\"Population\"].tolist()}\n",
    "    d = pd.DataFrame(f)\n",
    "    fig = px.scatter(d, x=\"Indexed Shootings\", y=\"Pop\", size=\"Number of Deaths and Injuries\",\\\n",
    "                     title=\"School Shootings\", color=\"Shooting Mentioned on Page\")\n",
    "    return fig\n",
    "fig = plot_results(masterdf)\n",
    "fig.show()"
   ]
  },
  {
   "cell_type": "markdown",
   "metadata": {},
   "source": [
    "We can see that this graph is extremely cluttered and doesn't tell us much, since Population is essentially right-skew. Thus we correct the upward straggle with a log transform."
   ]
  },
  {
   "cell_type": "code",
   "execution_count": 98,
   "metadata": {},
   "outputs": [
    {
     "data": {
      "application/vnd.plotly.v1+json": {
       "config": {
        "plotlyServerURL": "https://plot.ly"
       },
       "data": [
        {
         "hoverlabel": {
          "namelength": 0
         },
         "hovertemplate": "Shooting Mentioned on Page=True<br>Indexed Shootings=%{x}<br>logPop=%{y}<br>Number of Deaths and Injuries=%{marker.size}",
         "legendgroup": "Shooting Mentioned on Page=True",
         "marker": {
          "color": "#636efa",
          "size": [
           1,
           2,
           1,
           15,
           6,
           1,
           4,
           2,
           2,
           1,
           17,
           1,
           1,
           1,
           11,
           56,
           1,
           1,
           27,
           1,
           3,
           5,
           3,
           1,
           1,
           2,
           1,
           2,
           2,
           6,
           2,
           10,
           1,
           4,
           30,
           2,
           1,
           1,
           10,
           1,
           2,
           1,
           1,
           1,
           1,
           1,
           3,
           6,
           2,
           2,
           7,
           19,
           1,
           0,
           3,
           3,
           4,
           4,
           4,
           24,
           1,
           1,
           5,
           34,
           1,
           1,
           23,
           4,
           2,
           1,
           1,
           0,
           1,
           2,
           1,
           1,
           0,
           1,
           6,
           1,
           9,
           0,
           1,
           6
          ],
          "sizemode": "area",
          "sizeref": 0.14,
          "symbol": "circle"
         },
         "mode": "markers",
         "name": "Shooting Mentioned on Page=True",
         "showlegend": true,
         "type": "scatter",
         "x": [
          0,
          4,
          5,
          6,
          12,
          16,
          17,
          18,
          20,
          24,
          26,
          27,
          29,
          35,
          36,
          40,
          43,
          48,
          49,
          52,
          55,
          57,
          61,
          62,
          65,
          70,
          74,
          82,
          83,
          86,
          87,
          88,
          92,
          93,
          94,
          95,
          99,
          102,
          107,
          117,
          121,
          125,
          126,
          128,
          132,
          138,
          141,
          148,
          153,
          160,
          161,
          166,
          172,
          173,
          177,
          178,
          181,
          184,
          190,
          195,
          200,
          202,
          203,
          206,
          218,
          220,
          221,
          222,
          223,
          227,
          230,
          233,
          237,
          238,
          244,
          245,
          246,
          248,
          256,
          257,
          259,
          261,
          264,
          265
         ],
         "xaxis": "x",
         "y": [
          11.536973967727368,
          12.747899719740584,
          14.083552519913306,
          10.885809441013075,
          6.928537818164665,
          12.419557703402536,
          12.747899719740584,
          8.759825595314295,
          8.300280189852664,
          14.80713063010408,
          7.456454555176209,
          14.80713063010408,
          9.960859832393998,
          5.762051382780177,
          3.5553480614894135,
          10.660078905652608,
          11.11636558733258,
          12.19551207852079,
          10.68880362056745,
          12.094436926346969,
          10.983732183846053,
          14.80713063010408,
          13.691425833308168,
          10.624103975085617,
          10.68880362056745,
          13.580281773513898,
          12.691820432516481,
          10.660078905652608,
          11.219480150229336,
          8.546363568716018,
          13.619232865784625,
          12.875756707362312,
          14.80713063010408,
          15.148567894771675,
          10.224120725127595,
          9.140668698726863,
          14.80713063010408,
          12.381285663086834,
          11.404627305325059,
          13.11163604476344,
          14.238164422666777,
          15.148567894771675,
          10.162075464783532,
          11.54432722810976,
          15.148567894771675,
          10.259272100189714,
          9.677966176435953,
          11.002433118994357,
          10.938716208481797,
          13.619232865784625,
          11.536973967727368,
          9.960859832393998,
          13.617602154968138,
          14.238164422666777,
          9.01602720232985,
          15.148567894771675,
          8.272059622210412,
          13.691425833308168,
          12.254500839434368,
          7.3031700512368,
          12.747899719740584,
          14.238164422666777,
          15.148567894771675,
          10.084224521199845,
          10.938716208481797,
          9.663515696240424,
          9.410992885454862,
          8.460411177317253,
          10.85840266594705,
          13.691425833308168,
          13.277238366285014,
          12.419557703402536,
          11.958796481046644,
          12.06319485393462,
          13.339023557011124,
          13.038518617749281,
          11.379634043550313,
          12.234485159966852,
          13.502748597940846,
          11.958796481046644,
          11.479503108806863,
          12.234485159966852,
          12.030617461153497,
          12.080055804946687
         ],
         "yaxis": "y"
        },
        {
         "hoverlabel": {
          "namelength": 0
         },
         "hovertemplate": "Shooting Mentioned on Page=False<br>Indexed Shootings=%{x}<br>logPop=%{y}<br>Number of Deaths and Injuries=%{marker.size}",
         "legendgroup": "Shooting Mentioned on Page=False",
         "marker": {
          "color": "#EF553B",
          "size": [
           1,
           2,
           2,
           1,
           2,
           5,
           1,
           2,
           1,
           1,
           4,
           3,
           1,
           1,
           4,
           1,
           3,
           2,
           5,
           3,
           3,
           5,
           0,
           1,
           1,
           2,
           6,
           1,
           3,
           1,
           1,
           1,
           1,
           0,
           4,
           1,
           3,
           1,
           1,
           1,
           6,
           2,
           3,
           1,
           2,
           1,
           2,
           1,
           4,
           1,
           6,
           3,
           1,
           1,
           1,
           1,
           1,
           2,
           1,
           0,
           1,
           2,
           3,
           3,
           2,
           2,
           3,
           1,
           0,
           3,
           1,
           2,
           4,
           1,
           2,
           3,
           1,
           2,
           1,
           1,
           3,
           1,
           1,
           1,
           1,
           1,
           1,
           0,
           1,
           0,
           1,
           1,
           1,
           1,
           4,
           1,
           1,
           1,
           1,
           1,
           1,
           4,
           2,
           4,
           3,
           2,
           1,
           3,
           1,
           1,
           1,
           1,
           3,
           2,
           1,
           4,
           2,
           4,
           2,
           1,
           4,
           2,
           4,
           4,
           3,
           1,
           2,
           1,
           0,
           1,
           1,
           1,
           2,
           4,
           1,
           2,
           3,
           0,
           1,
           1,
           20,
           1,
           1,
           1,
           1,
           1,
           2,
           3,
           1,
           1,
           1,
           1,
           3,
           1,
           1,
           1,
           2,
           0,
           2,
           1,
           2,
           1,
           0,
           1,
           1,
           2,
           1,
           0,
           1,
           1,
           1,
           0,
           1,
           1,
           1,
           1,
           3,
           10,
           0,
           1,
           10,
           1,
           3,
           2,
           3
          ],
          "sizemode": "area",
          "sizeref": 0.14,
          "symbol": "circle"
         },
         "mode": "markers",
         "name": "Shooting Mentioned on Page=False",
         "showlegend": true,
         "type": "scatter",
         "x": [
          1,
          2,
          3,
          7,
          8,
          9,
          10,
          11,
          13,
          14,
          15,
          19,
          21,
          22,
          23,
          25,
          28,
          30,
          31,
          32,
          33,
          34,
          37,
          38,
          39,
          41,
          42,
          44,
          45,
          46,
          47,
          50,
          51,
          53,
          54,
          56,
          58,
          59,
          60,
          63,
          64,
          66,
          67,
          68,
          69,
          71,
          72,
          73,
          75,
          76,
          77,
          78,
          79,
          80,
          81,
          84,
          85,
          89,
          90,
          91,
          96,
          97,
          98,
          100,
          101,
          103,
          104,
          105,
          106,
          108,
          109,
          110,
          111,
          112,
          113,
          114,
          115,
          116,
          118,
          119,
          120,
          122,
          123,
          124,
          127,
          129,
          130,
          131,
          133,
          134,
          135,
          136,
          137,
          139,
          140,
          142,
          143,
          144,
          145,
          146,
          147,
          149,
          150,
          151,
          152,
          154,
          155,
          156,
          157,
          158,
          159,
          162,
          163,
          164,
          165,
          167,
          168,
          169,
          170,
          171,
          174,
          175,
          176,
          179,
          180,
          182,
          183,
          185,
          186,
          187,
          188,
          189,
          191,
          192,
          193,
          194,
          196,
          197,
          198,
          199,
          201,
          204,
          205,
          207,
          208,
          209,
          210,
          211,
          212,
          213,
          214,
          215,
          216,
          217,
          219,
          224,
          225,
          226,
          228,
          229,
          231,
          232,
          234,
          235,
          236,
          239,
          240,
          241,
          242,
          243,
          247,
          249,
          250,
          251,
          252,
          253,
          254,
          255,
          258,
          260,
          262,
          263,
          266,
          267,
          268
         ],
         "xaxis": "x",
         "y": [
          10.460528600099082,
          13.319015098506439,
          11.206128528658766,
          10.288103485908332,
          10.485786967760543,
          11.507691793171615,
          11.293450177342443,
          15.9166075437284,
          13.291304142704222,
          10.910112468091466,
          13.16180714260273,
          12.89093056489657,
          13.462322385310127,
          9.709477955946982,
          10.386839199301363,
          7.256297239690681,
          7.61085279039525,
          12.324837421344169,
          9.134646527606982,
          8.713910628493924,
          7.458186157340487,
          12.630372592516906,
          10.822773793390082,
          12.198025352750845,
          11.47683185732199,
          11.820755693251623,
          12.89093056489657,
          13.379929997713752,
          12.308624721209705,
          11.58214364440677,
          13.379929997713752,
          12.172981110529975,
          11.399823953857213,
          10.010905949303398,
          13.478325867608161,
          12.016853353967148,
          11.830913633185716,
          11.56325729730123,
          8.896451207355227,
          10.667512493729511,
          12.101295293132928,
          10.639143304545533,
          13.57602545790545,
          7.4673710669175595,
          13.478325867608161,
          11.921326259730487,
          11.564834569707658,
          9.30273722124215,
          13.017531610822958,
          9.378224880972368,
          14.557186439943816,
          14.557186439943816,
          10.772644747276225,
          11.257181239609936,
          12.208888676789655,
          14.557186439943816,
          9.318656515459642,
          13.379929997713752,
          10.25674666917369,
          10.868511304089857,
          13.478325867608161,
          12.673867587420775,
          8.40200678160712,
          14.557186439943816,
          12.948017133091184,
          9.954228194239311,
          8.506940814951886,
          11.56325729730123,
          12.265458853770147,
          7.440146680662688,
          12.346038914855246,
          11.003365706325472,
          11.410493988818281,
          12.504939435181576,
          7.562161631225652,
          12.630372592516906,
          10.450683677611769,
          11.516688376330757,
          11.085383445340975,
          11.773588282797961,
          10.787482339609461,
          10.4332919348999,
          10.295394496045441,
          9.544237868224927,
          13.448189140921574,
          12.223091991324711,
          10.424124883686112,
          9.546884034617925,
          12.185073702934115,
          9.542661146046344,
          13.478325867608161,
          12.185073702934115,
          12.185073702934115,
          11.549267037372665,
          13.319015098506439,
          12.897861403852275,
          11.005294732100756,
          11.015098326989895,
          9.674263049655917,
          13.55486890894248,
          9.468851067127684,
          12.108327503610298,
          12.897861403852275,
          13.277272626587946,
          13.291304142704222,
          11.085812728597855,
          11.276671344505923,
          11.018711107009434,
          10.473647554347222,
          10.50334002087177,
          7.132497551660044,
          11.822510897808971,
          13.139279489780641,
          9.420114955551439,
          8.316055720364643,
          11.09543838163474,
          14.557186439943816,
          13.448189140921574,
          12.346038914855246,
          12.287472892868088,
          9.292473201514705,
          12.331475465641669,
          10.793311098195112,
          11.42934818471488,
          8.683554728631462,
          12.181323906364735,
          13.57602545790545,
          11.481445117743048,
          10.694169708932606,
          7.498315870766981,
          13.319015098506439,
          9.462965052612562,
          12.284375378787347,
          6.152732694704104,
          9.828494573494698,
          11.257181239609936,
          8.81922185757494,
          10.029326937375275,
          12.346038914855246,
          7.529943370601589,
          10.34788487064608,
          9.782562084607248,
          13.448189140921574,
          11.822510897808971,
          7.6251071482389,
          12.400005693939582,
          10.166467012347537,
          12.265458853770147,
          12.064013566756307,
          12.181323906364735,
          12.687819551795497,
          10.405020129390525,
          12.265458853770147,
          10.293026510094034,
          11.936557877033842,
          10.14886215269166,
          10.942137500031555,
          12.948017133091184,
          12.089774756497386,
          13.379929997713752,
          10.210898720168904,
          10.513579157958748,
          12.897861403852275,
          10.070695471520034,
          10.159485440721285,
          12.181323906364735,
          7.562161631225652,
          8.62622695244036,
          13.379929997713752,
          9.624633068687027,
          13.256899515103425,
          10.993159999634763,
          8.506940814951886,
          7.428927194802272,
          9.862561385923483,
          8.100464891029363,
          10.716615352295944,
          8.665957964681349,
          11.171139133525246,
          11.822510897808971,
          12.181323906364735,
          13.448189140921574,
          9.915860688599269,
          11.149312220884624,
          11.994060657832003
         ],
         "yaxis": "y"
        }
       ],
       "layout": {
        "height": 600,
        "legend": {
         "itemsizing": "constant",
         "tracegroupgap": 0
        },
        "template": {
         "data": {
          "bar": [
           {
            "error_x": {
             "color": "#2a3f5f"
            },
            "error_y": {
             "color": "#2a3f5f"
            },
            "marker": {
             "line": {
              "color": "#E5ECF6",
              "width": 0.5
             }
            },
            "type": "bar"
           }
          ],
          "barpolar": [
           {
            "marker": {
             "line": {
              "color": "#E5ECF6",
              "width": 0.5
             }
            },
            "type": "barpolar"
           }
          ],
          "carpet": [
           {
            "aaxis": {
             "endlinecolor": "#2a3f5f",
             "gridcolor": "white",
             "linecolor": "white",
             "minorgridcolor": "white",
             "startlinecolor": "#2a3f5f"
            },
            "baxis": {
             "endlinecolor": "#2a3f5f",
             "gridcolor": "white",
             "linecolor": "white",
             "minorgridcolor": "white",
             "startlinecolor": "#2a3f5f"
            },
            "type": "carpet"
           }
          ],
          "choropleth": [
           {
            "colorbar": {
             "outlinewidth": 0,
             "ticks": ""
            },
            "type": "choropleth"
           }
          ],
          "contour": [
           {
            "colorbar": {
             "outlinewidth": 0,
             "ticks": ""
            },
            "colorscale": [
             [
              0,
              "#0d0887"
             ],
             [
              0.1111111111111111,
              "#46039f"
             ],
             [
              0.2222222222222222,
              "#7201a8"
             ],
             [
              0.3333333333333333,
              "#9c179e"
             ],
             [
              0.4444444444444444,
              "#bd3786"
             ],
             [
              0.5555555555555556,
              "#d8576b"
             ],
             [
              0.6666666666666666,
              "#ed7953"
             ],
             [
              0.7777777777777778,
              "#fb9f3a"
             ],
             [
              0.8888888888888888,
              "#fdca26"
             ],
             [
              1,
              "#f0f921"
             ]
            ],
            "type": "contour"
           }
          ],
          "contourcarpet": [
           {
            "colorbar": {
             "outlinewidth": 0,
             "ticks": ""
            },
            "type": "contourcarpet"
           }
          ],
          "heatmap": [
           {
            "colorbar": {
             "outlinewidth": 0,
             "ticks": ""
            },
            "colorscale": [
             [
              0,
              "#0d0887"
             ],
             [
              0.1111111111111111,
              "#46039f"
             ],
             [
              0.2222222222222222,
              "#7201a8"
             ],
             [
              0.3333333333333333,
              "#9c179e"
             ],
             [
              0.4444444444444444,
              "#bd3786"
             ],
             [
              0.5555555555555556,
              "#d8576b"
             ],
             [
              0.6666666666666666,
              "#ed7953"
             ],
             [
              0.7777777777777778,
              "#fb9f3a"
             ],
             [
              0.8888888888888888,
              "#fdca26"
             ],
             [
              1,
              "#f0f921"
             ]
            ],
            "type": "heatmap"
           }
          ],
          "heatmapgl": [
           {
            "colorbar": {
             "outlinewidth": 0,
             "ticks": ""
            },
            "colorscale": [
             [
              0,
              "#0d0887"
             ],
             [
              0.1111111111111111,
              "#46039f"
             ],
             [
              0.2222222222222222,
              "#7201a8"
             ],
             [
              0.3333333333333333,
              "#9c179e"
             ],
             [
              0.4444444444444444,
              "#bd3786"
             ],
             [
              0.5555555555555556,
              "#d8576b"
             ],
             [
              0.6666666666666666,
              "#ed7953"
             ],
             [
              0.7777777777777778,
              "#fb9f3a"
             ],
             [
              0.8888888888888888,
              "#fdca26"
             ],
             [
              1,
              "#f0f921"
             ]
            ],
            "type": "heatmapgl"
           }
          ],
          "histogram": [
           {
            "marker": {
             "colorbar": {
              "outlinewidth": 0,
              "ticks": ""
             }
            },
            "type": "histogram"
           }
          ],
          "histogram2d": [
           {
            "colorbar": {
             "outlinewidth": 0,
             "ticks": ""
            },
            "colorscale": [
             [
              0,
              "#0d0887"
             ],
             [
              0.1111111111111111,
              "#46039f"
             ],
             [
              0.2222222222222222,
              "#7201a8"
             ],
             [
              0.3333333333333333,
              "#9c179e"
             ],
             [
              0.4444444444444444,
              "#bd3786"
             ],
             [
              0.5555555555555556,
              "#d8576b"
             ],
             [
              0.6666666666666666,
              "#ed7953"
             ],
             [
              0.7777777777777778,
              "#fb9f3a"
             ],
             [
              0.8888888888888888,
              "#fdca26"
             ],
             [
              1,
              "#f0f921"
             ]
            ],
            "type": "histogram2d"
           }
          ],
          "histogram2dcontour": [
           {
            "colorbar": {
             "outlinewidth": 0,
             "ticks": ""
            },
            "colorscale": [
             [
              0,
              "#0d0887"
             ],
             [
              0.1111111111111111,
              "#46039f"
             ],
             [
              0.2222222222222222,
              "#7201a8"
             ],
             [
              0.3333333333333333,
              "#9c179e"
             ],
             [
              0.4444444444444444,
              "#bd3786"
             ],
             [
              0.5555555555555556,
              "#d8576b"
             ],
             [
              0.6666666666666666,
              "#ed7953"
             ],
             [
              0.7777777777777778,
              "#fb9f3a"
             ],
             [
              0.8888888888888888,
              "#fdca26"
             ],
             [
              1,
              "#f0f921"
             ]
            ],
            "type": "histogram2dcontour"
           }
          ],
          "mesh3d": [
           {
            "colorbar": {
             "outlinewidth": 0,
             "ticks": ""
            },
            "type": "mesh3d"
           }
          ],
          "parcoords": [
           {
            "line": {
             "colorbar": {
              "outlinewidth": 0,
              "ticks": ""
             }
            },
            "type": "parcoords"
           }
          ],
          "pie": [
           {
            "automargin": true,
            "type": "pie"
           }
          ],
          "scatter": [
           {
            "marker": {
             "colorbar": {
              "outlinewidth": 0,
              "ticks": ""
             }
            },
            "type": "scatter"
           }
          ],
          "scatter3d": [
           {
            "line": {
             "colorbar": {
              "outlinewidth": 0,
              "ticks": ""
             }
            },
            "marker": {
             "colorbar": {
              "outlinewidth": 0,
              "ticks": ""
             }
            },
            "type": "scatter3d"
           }
          ],
          "scattercarpet": [
           {
            "marker": {
             "colorbar": {
              "outlinewidth": 0,
              "ticks": ""
             }
            },
            "type": "scattercarpet"
           }
          ],
          "scattergeo": [
           {
            "marker": {
             "colorbar": {
              "outlinewidth": 0,
              "ticks": ""
             }
            },
            "type": "scattergeo"
           }
          ],
          "scattergl": [
           {
            "marker": {
             "colorbar": {
              "outlinewidth": 0,
              "ticks": ""
             }
            },
            "type": "scattergl"
           }
          ],
          "scattermapbox": [
           {
            "marker": {
             "colorbar": {
              "outlinewidth": 0,
              "ticks": ""
             }
            },
            "type": "scattermapbox"
           }
          ],
          "scatterpolar": [
           {
            "marker": {
             "colorbar": {
              "outlinewidth": 0,
              "ticks": ""
             }
            },
            "type": "scatterpolar"
           }
          ],
          "scatterpolargl": [
           {
            "marker": {
             "colorbar": {
              "outlinewidth": 0,
              "ticks": ""
             }
            },
            "type": "scatterpolargl"
           }
          ],
          "scatterternary": [
           {
            "marker": {
             "colorbar": {
              "outlinewidth": 0,
              "ticks": ""
             }
            },
            "type": "scatterternary"
           }
          ],
          "surface": [
           {
            "colorbar": {
             "outlinewidth": 0,
             "ticks": ""
            },
            "colorscale": [
             [
              0,
              "#0d0887"
             ],
             [
              0.1111111111111111,
              "#46039f"
             ],
             [
              0.2222222222222222,
              "#7201a8"
             ],
             [
              0.3333333333333333,
              "#9c179e"
             ],
             [
              0.4444444444444444,
              "#bd3786"
             ],
             [
              0.5555555555555556,
              "#d8576b"
             ],
             [
              0.6666666666666666,
              "#ed7953"
             ],
             [
              0.7777777777777778,
              "#fb9f3a"
             ],
             [
              0.8888888888888888,
              "#fdca26"
             ],
             [
              1,
              "#f0f921"
             ]
            ],
            "type": "surface"
           }
          ],
          "table": [
           {
            "cells": {
             "fill": {
              "color": "#EBF0F8"
             },
             "line": {
              "color": "white"
             }
            },
            "header": {
             "fill": {
              "color": "#C8D4E3"
             },
             "line": {
              "color": "white"
             }
            },
            "type": "table"
           }
          ]
         },
         "layout": {
          "annotationdefaults": {
           "arrowcolor": "#2a3f5f",
           "arrowhead": 0,
           "arrowwidth": 1
          },
          "coloraxis": {
           "colorbar": {
            "outlinewidth": 0,
            "ticks": ""
           }
          },
          "colorscale": {
           "diverging": [
            [
             0,
             "#8e0152"
            ],
            [
             0.1,
             "#c51b7d"
            ],
            [
             0.2,
             "#de77ae"
            ],
            [
             0.3,
             "#f1b6da"
            ],
            [
             0.4,
             "#fde0ef"
            ],
            [
             0.5,
             "#f7f7f7"
            ],
            [
             0.6,
             "#e6f5d0"
            ],
            [
             0.7,
             "#b8e186"
            ],
            [
             0.8,
             "#7fbc41"
            ],
            [
             0.9,
             "#4d9221"
            ],
            [
             1,
             "#276419"
            ]
           ],
           "sequential": [
            [
             0,
             "#0d0887"
            ],
            [
             0.1111111111111111,
             "#46039f"
            ],
            [
             0.2222222222222222,
             "#7201a8"
            ],
            [
             0.3333333333333333,
             "#9c179e"
            ],
            [
             0.4444444444444444,
             "#bd3786"
            ],
            [
             0.5555555555555556,
             "#d8576b"
            ],
            [
             0.6666666666666666,
             "#ed7953"
            ],
            [
             0.7777777777777778,
             "#fb9f3a"
            ],
            [
             0.8888888888888888,
             "#fdca26"
            ],
            [
             1,
             "#f0f921"
            ]
           ],
           "sequentialminus": [
            [
             0,
             "#0d0887"
            ],
            [
             0.1111111111111111,
             "#46039f"
            ],
            [
             0.2222222222222222,
             "#7201a8"
            ],
            [
             0.3333333333333333,
             "#9c179e"
            ],
            [
             0.4444444444444444,
             "#bd3786"
            ],
            [
             0.5555555555555556,
             "#d8576b"
            ],
            [
             0.6666666666666666,
             "#ed7953"
            ],
            [
             0.7777777777777778,
             "#fb9f3a"
            ],
            [
             0.8888888888888888,
             "#fdca26"
            ],
            [
             1,
             "#f0f921"
            ]
           ]
          },
          "colorway": [
           "#636efa",
           "#EF553B",
           "#00cc96",
           "#ab63fa",
           "#FFA15A",
           "#19d3f3",
           "#FF6692",
           "#B6E880",
           "#FF97FF",
           "#FECB52"
          ],
          "font": {
           "color": "#2a3f5f"
          },
          "geo": {
           "bgcolor": "white",
           "lakecolor": "white",
           "landcolor": "#E5ECF6",
           "showlakes": true,
           "showland": true,
           "subunitcolor": "white"
          },
          "hoverlabel": {
           "align": "left"
          },
          "hovermode": "closest",
          "mapbox": {
           "style": "light"
          },
          "paper_bgcolor": "white",
          "plot_bgcolor": "#E5ECF6",
          "polar": {
           "angularaxis": {
            "gridcolor": "white",
            "linecolor": "white",
            "ticks": ""
           },
           "bgcolor": "#E5ECF6",
           "radialaxis": {
            "gridcolor": "white",
            "linecolor": "white",
            "ticks": ""
           }
          },
          "scene": {
           "xaxis": {
            "backgroundcolor": "#E5ECF6",
            "gridcolor": "white",
            "gridwidth": 2,
            "linecolor": "white",
            "showbackground": true,
            "ticks": "",
            "zerolinecolor": "white"
           },
           "yaxis": {
            "backgroundcolor": "#E5ECF6",
            "gridcolor": "white",
            "gridwidth": 2,
            "linecolor": "white",
            "showbackground": true,
            "ticks": "",
            "zerolinecolor": "white"
           },
           "zaxis": {
            "backgroundcolor": "#E5ECF6",
            "gridcolor": "white",
            "gridwidth": 2,
            "linecolor": "white",
            "showbackground": true,
            "ticks": "",
            "zerolinecolor": "white"
           }
          },
          "shapedefaults": {
           "line": {
            "color": "#2a3f5f"
           }
          },
          "ternary": {
           "aaxis": {
            "gridcolor": "white",
            "linecolor": "white",
            "ticks": ""
           },
           "baxis": {
            "gridcolor": "white",
            "linecolor": "white",
            "ticks": ""
           },
           "bgcolor": "#E5ECF6",
           "caxis": {
            "gridcolor": "white",
            "linecolor": "white",
            "ticks": ""
           }
          },
          "title": {
           "x": 0.05
          },
          "xaxis": {
           "automargin": true,
           "gridcolor": "white",
           "linecolor": "white",
           "ticks": "",
           "title": {
            "standoff": 15
           },
           "zerolinecolor": "white",
           "zerolinewidth": 2
          },
          "yaxis": {
           "automargin": true,
           "gridcolor": "white",
           "linecolor": "white",
           "ticks": "",
           "title": {
            "standoff": 15
           },
           "zerolinecolor": "white",
           "zerolinewidth": 2
          }
         }
        },
        "title": {
         "text": "School Shootings"
        },
        "xaxis": {
         "anchor": "y",
         "domain": [
          0,
          1
         ],
         "title": {
          "text": "Indexed Shootings"
         }
        },
        "yaxis": {
         "anchor": "x",
         "domain": [
          0,
          1
         ],
         "title": {
          "text": "logPop"
         }
        }
       }
      },
      "text/html": [
       "<div>\n",
       "        \n",
       "        \n",
       "            <div id=\"433c2cab-98c6-451f-a423-eca4207977d0\" class=\"plotly-graph-div\" style=\"height:600px; width:100%;\"></div>\n",
       "            <script type=\"text/javascript\">\n",
       "                require([\"plotly\"], function(Plotly) {\n",
       "                    window.PLOTLYENV=window.PLOTLYENV || {};\n",
       "                    \n",
       "                if (document.getElementById(\"433c2cab-98c6-451f-a423-eca4207977d0\")) {\n",
       "                    Plotly.newPlot(\n",
       "                        '433c2cab-98c6-451f-a423-eca4207977d0',\n",
       "                        [{\"hoverlabel\": {\"namelength\": 0}, \"hovertemplate\": \"Shooting Mentioned on Page=True<br>Indexed Shootings=%{x}<br>logPop=%{y}<br>Number of Deaths and Injuries=%{marker.size}\", \"legendgroup\": \"Shooting Mentioned on Page=True\", \"marker\": {\"color\": \"#636efa\", \"size\": [1, 2, 1, 15, 6, 1, 4, 2, 2, 1, 17, 1, 1, 1, 11, 56, 1, 1, 27, 1, 3, 5, 3, 1, 1, 2, 1, 2, 2, 6, 2, 10, 1, 4, 30, 2, 1, 1, 10, 1, 2, 1, 1, 1, 1, 1, 3, 6, 2, 2, 7, 19, 1, 0, 3, 3, 4, 4, 4, 24, 1, 1, 5, 34, 1, 1, 23, 4, 2, 1, 1, 0, 1, 2, 1, 1, 0, 1, 6, 1, 9, 0, 1, 6], \"sizemode\": \"area\", \"sizeref\": 0.14, \"symbol\": \"circle\"}, \"mode\": \"markers\", \"name\": \"Shooting Mentioned on Page=True\", \"showlegend\": true, \"type\": \"scatter\", \"x\": [0, 4, 5, 6, 12, 16, 17, 18, 20, 24, 26, 27, 29, 35, 36, 40, 43, 48, 49, 52, 55, 57, 61, 62, 65, 70, 74, 82, 83, 86, 87, 88, 92, 93, 94, 95, 99, 102, 107, 117, 121, 125, 126, 128, 132, 138, 141, 148, 153, 160, 161, 166, 172, 173, 177, 178, 181, 184, 190, 195, 200, 202, 203, 206, 218, 220, 221, 222, 223, 227, 230, 233, 237, 238, 244, 245, 246, 248, 256, 257, 259, 261, 264, 265], \"xaxis\": \"x\", \"y\": [11.536973967727368, 12.747899719740584, 14.083552519913306, 10.885809441013075, 6.928537818164665, 12.419557703402536, 12.747899719740584, 8.759825595314295, 8.300280189852664, 14.80713063010408, 7.456454555176209, 14.80713063010408, 9.960859832393998, 5.762051382780177, 3.5553480614894135, 10.660078905652608, 11.11636558733258, 12.19551207852079, 10.68880362056745, 12.094436926346969, 10.983732183846053, 14.80713063010408, 13.691425833308168, 10.624103975085617, 10.68880362056745, 13.580281773513898, 12.691820432516481, 10.660078905652608, 11.219480150229336, 8.546363568716018, 13.619232865784625, 12.875756707362312, 14.80713063010408, 15.148567894771675, 10.224120725127595, 9.140668698726863, 14.80713063010408, 12.381285663086834, 11.404627305325059, 13.11163604476344, 14.238164422666777, 15.148567894771675, 10.162075464783532, 11.54432722810976, 15.148567894771675, 10.259272100189714, 9.677966176435953, 11.002433118994357, 10.938716208481797, 13.619232865784625, 11.536973967727368, 9.960859832393998, 13.617602154968138, 14.238164422666777, 9.01602720232985, 15.148567894771675, 8.272059622210412, 13.691425833308168, 12.254500839434368, 7.3031700512368, 12.747899719740584, 14.238164422666777, 15.148567894771675, 10.084224521199845, 10.938716208481797, 9.663515696240424, 9.410992885454862, 8.460411177317253, 10.85840266594705, 13.691425833308168, 13.277238366285014, 12.419557703402536, 11.958796481046644, 12.06319485393462, 13.339023557011124, 13.038518617749281, 11.379634043550313, 12.234485159966852, 13.502748597940846, 11.958796481046644, 11.479503108806863, 12.234485159966852, 12.030617461153497, 12.080055804946687], \"yaxis\": \"y\"}, {\"hoverlabel\": {\"namelength\": 0}, \"hovertemplate\": \"Shooting Mentioned on Page=False<br>Indexed Shootings=%{x}<br>logPop=%{y}<br>Number of Deaths and Injuries=%{marker.size}\", \"legendgroup\": \"Shooting Mentioned on Page=False\", \"marker\": {\"color\": \"#EF553B\", \"size\": [1, 2, 2, 1, 2, 5, 1, 2, 1, 1, 4, 3, 1, 1, 4, 1, 3, 2, 5, 3, 3, 5, 0, 1, 1, 2, 6, 1, 3, 1, 1, 1, 1, 0, 4, 1, 3, 1, 1, 1, 6, 2, 3, 1, 2, 1, 2, 1, 4, 1, 6, 3, 1, 1, 1, 1, 1, 2, 1, 0, 1, 2, 3, 3, 2, 2, 3, 1, 0, 3, 1, 2, 4, 1, 2, 3, 1, 2, 1, 1, 3, 1, 1, 1, 1, 1, 1, 0, 1, 0, 1, 1, 1, 1, 4, 1, 1, 1, 1, 1, 1, 4, 2, 4, 3, 2, 1, 3, 1, 1, 1, 1, 3, 2, 1, 4, 2, 4, 2, 1, 4, 2, 4, 4, 3, 1, 2, 1, 0, 1, 1, 1, 2, 4, 1, 2, 3, 0, 1, 1, 20, 1, 1, 1, 1, 1, 2, 3, 1, 1, 1, 1, 3, 1, 1, 1, 2, 0, 2, 1, 2, 1, 0, 1, 1, 2, 1, 0, 1, 1, 1, 0, 1, 1, 1, 1, 3, 10, 0, 1, 10, 1, 3, 2, 3], \"sizemode\": \"area\", \"sizeref\": 0.14, \"symbol\": \"circle\"}, \"mode\": \"markers\", \"name\": \"Shooting Mentioned on Page=False\", \"showlegend\": true, \"type\": \"scatter\", \"x\": [1, 2, 3, 7, 8, 9, 10, 11, 13, 14, 15, 19, 21, 22, 23, 25, 28, 30, 31, 32, 33, 34, 37, 38, 39, 41, 42, 44, 45, 46, 47, 50, 51, 53, 54, 56, 58, 59, 60, 63, 64, 66, 67, 68, 69, 71, 72, 73, 75, 76, 77, 78, 79, 80, 81, 84, 85, 89, 90, 91, 96, 97, 98, 100, 101, 103, 104, 105, 106, 108, 109, 110, 111, 112, 113, 114, 115, 116, 118, 119, 120, 122, 123, 124, 127, 129, 130, 131, 133, 134, 135, 136, 137, 139, 140, 142, 143, 144, 145, 146, 147, 149, 150, 151, 152, 154, 155, 156, 157, 158, 159, 162, 163, 164, 165, 167, 168, 169, 170, 171, 174, 175, 176, 179, 180, 182, 183, 185, 186, 187, 188, 189, 191, 192, 193, 194, 196, 197, 198, 199, 201, 204, 205, 207, 208, 209, 210, 211, 212, 213, 214, 215, 216, 217, 219, 224, 225, 226, 228, 229, 231, 232, 234, 235, 236, 239, 240, 241, 242, 243, 247, 249, 250, 251, 252, 253, 254, 255, 258, 260, 262, 263, 266, 267, 268], \"xaxis\": \"x\", \"y\": [10.460528600099082, 13.319015098506439, 11.206128528658766, 10.288103485908332, 10.485786967760543, 11.507691793171615, 11.293450177342443, 15.9166075437284, 13.291304142704222, 10.910112468091466, 13.16180714260273, 12.89093056489657, 13.462322385310127, 9.709477955946982, 10.386839199301363, 7.256297239690681, 7.61085279039525, 12.324837421344169, 9.134646527606982, 8.713910628493924, 7.458186157340487, 12.630372592516906, 10.822773793390082, 12.198025352750845, 11.47683185732199, 11.820755693251623, 12.89093056489657, 13.379929997713752, 12.308624721209705, 11.58214364440677, 13.379929997713752, 12.172981110529975, 11.399823953857213, 10.010905949303398, 13.478325867608161, 12.016853353967148, 11.830913633185716, 11.56325729730123, 8.896451207355227, 10.667512493729511, 12.101295293132928, 10.639143304545533, 13.57602545790545, 7.4673710669175595, 13.478325867608161, 11.921326259730487, 11.564834569707658, 9.30273722124215, 13.017531610822958, 9.378224880972368, 14.557186439943816, 14.557186439943816, 10.772644747276225, 11.257181239609936, 12.208888676789655, 14.557186439943816, 9.318656515459642, 13.379929997713752, 10.25674666917369, 10.868511304089857, 13.478325867608161, 12.673867587420775, 8.40200678160712, 14.557186439943816, 12.948017133091184, 9.954228194239311, 8.506940814951886, 11.56325729730123, 12.265458853770147, 7.440146680662688, 12.346038914855246, 11.003365706325472, 11.410493988818281, 12.504939435181576, 7.562161631225652, 12.630372592516906, 10.450683677611769, 11.516688376330757, 11.085383445340975, 11.773588282797961, 10.787482339609461, 10.4332919348999, 10.295394496045441, 9.544237868224927, 13.448189140921574, 12.223091991324711, 10.424124883686112, 9.546884034617925, 12.185073702934115, 9.542661146046344, 13.478325867608161, 12.185073702934115, 12.185073702934115, 11.549267037372665, 13.319015098506439, 12.897861403852275, 11.005294732100756, 11.015098326989895, 9.674263049655917, 13.55486890894248, 9.468851067127684, 12.108327503610298, 12.897861403852275, 13.277272626587946, 13.291304142704222, 11.085812728597855, 11.276671344505923, 11.018711107009434, 10.473647554347222, 10.50334002087177, 7.132497551660044, 11.822510897808971, 13.139279489780641, 9.420114955551439, 8.316055720364643, 11.09543838163474, 14.557186439943816, 13.448189140921574, 12.346038914855246, 12.287472892868088, 9.292473201514705, 12.331475465641669, 10.793311098195112, 11.42934818471488, 8.683554728631462, 12.181323906364735, 13.57602545790545, 11.481445117743048, 10.694169708932606, 7.498315870766981, 13.319015098506439, 9.462965052612562, 12.284375378787347, 6.152732694704104, 9.828494573494698, 11.257181239609936, 8.81922185757494, 10.029326937375275, 12.346038914855246, 7.529943370601589, 10.34788487064608, 9.782562084607248, 13.448189140921574, 11.822510897808971, 7.6251071482389, 12.400005693939582, 10.166467012347537, 12.265458853770147, 12.064013566756307, 12.181323906364735, 12.687819551795497, 10.405020129390525, 12.265458853770147, 10.293026510094034, 11.936557877033842, 10.14886215269166, 10.942137500031555, 12.948017133091184, 12.089774756497386, 13.379929997713752, 10.210898720168904, 10.513579157958748, 12.897861403852275, 10.070695471520034, 10.159485440721285, 12.181323906364735, 7.562161631225652, 8.62622695244036, 13.379929997713752, 9.624633068687027, 13.256899515103425, 10.993159999634763, 8.506940814951886, 7.428927194802272, 9.862561385923483, 8.100464891029363, 10.716615352295944, 8.665957964681349, 11.171139133525246, 11.822510897808971, 12.181323906364735, 13.448189140921574, 9.915860688599269, 11.149312220884624, 11.994060657832003], \"yaxis\": \"y\"}],\n",
       "                        {\"height\": 600, \"legend\": {\"itemsizing\": \"constant\", \"tracegroupgap\": 0}, \"template\": {\"data\": {\"bar\": [{\"error_x\": {\"color\": \"#2a3f5f\"}, \"error_y\": {\"color\": \"#2a3f5f\"}, \"marker\": {\"line\": {\"color\": \"#E5ECF6\", \"width\": 0.5}}, \"type\": \"bar\"}], \"barpolar\": [{\"marker\": {\"line\": {\"color\": \"#E5ECF6\", \"width\": 0.5}}, \"type\": \"barpolar\"}], \"carpet\": [{\"aaxis\": {\"endlinecolor\": \"#2a3f5f\", \"gridcolor\": \"white\", \"linecolor\": \"white\", \"minorgridcolor\": \"white\", \"startlinecolor\": \"#2a3f5f\"}, \"baxis\": {\"endlinecolor\": \"#2a3f5f\", \"gridcolor\": \"white\", \"linecolor\": \"white\", \"minorgridcolor\": \"white\", \"startlinecolor\": \"#2a3f5f\"}, \"type\": \"carpet\"}], \"choropleth\": [{\"colorbar\": {\"outlinewidth\": 0, \"ticks\": \"\"}, \"type\": \"choropleth\"}], \"contour\": [{\"colorbar\": {\"outlinewidth\": 0, \"ticks\": \"\"}, \"colorscale\": [[0.0, \"#0d0887\"], [0.1111111111111111, \"#46039f\"], [0.2222222222222222, \"#7201a8\"], [0.3333333333333333, \"#9c179e\"], [0.4444444444444444, \"#bd3786\"], [0.5555555555555556, \"#d8576b\"], [0.6666666666666666, \"#ed7953\"], [0.7777777777777778, \"#fb9f3a\"], [0.8888888888888888, \"#fdca26\"], [1.0, \"#f0f921\"]], \"type\": \"contour\"}], \"contourcarpet\": [{\"colorbar\": {\"outlinewidth\": 0, \"ticks\": \"\"}, \"type\": \"contourcarpet\"}], \"heatmap\": [{\"colorbar\": {\"outlinewidth\": 0, \"ticks\": \"\"}, \"colorscale\": [[0.0, \"#0d0887\"], [0.1111111111111111, \"#46039f\"], [0.2222222222222222, \"#7201a8\"], [0.3333333333333333, \"#9c179e\"], [0.4444444444444444, \"#bd3786\"], [0.5555555555555556, \"#d8576b\"], [0.6666666666666666, \"#ed7953\"], [0.7777777777777778, \"#fb9f3a\"], [0.8888888888888888, \"#fdca26\"], [1.0, \"#f0f921\"]], \"type\": \"heatmap\"}], \"heatmapgl\": [{\"colorbar\": {\"outlinewidth\": 0, \"ticks\": \"\"}, \"colorscale\": [[0.0, \"#0d0887\"], [0.1111111111111111, \"#46039f\"], [0.2222222222222222, \"#7201a8\"], [0.3333333333333333, \"#9c179e\"], [0.4444444444444444, \"#bd3786\"], [0.5555555555555556, \"#d8576b\"], [0.6666666666666666, \"#ed7953\"], [0.7777777777777778, \"#fb9f3a\"], [0.8888888888888888, \"#fdca26\"], [1.0, \"#f0f921\"]], \"type\": \"heatmapgl\"}], \"histogram\": [{\"marker\": {\"colorbar\": {\"outlinewidth\": 0, \"ticks\": \"\"}}, \"type\": \"histogram\"}], \"histogram2d\": [{\"colorbar\": {\"outlinewidth\": 0, \"ticks\": \"\"}, \"colorscale\": [[0.0, \"#0d0887\"], [0.1111111111111111, \"#46039f\"], [0.2222222222222222, \"#7201a8\"], [0.3333333333333333, \"#9c179e\"], [0.4444444444444444, \"#bd3786\"], [0.5555555555555556, \"#d8576b\"], [0.6666666666666666, \"#ed7953\"], [0.7777777777777778, \"#fb9f3a\"], [0.8888888888888888, \"#fdca26\"], [1.0, \"#f0f921\"]], \"type\": \"histogram2d\"}], \"histogram2dcontour\": [{\"colorbar\": {\"outlinewidth\": 0, \"ticks\": \"\"}, \"colorscale\": [[0.0, \"#0d0887\"], [0.1111111111111111, \"#46039f\"], [0.2222222222222222, \"#7201a8\"], [0.3333333333333333, \"#9c179e\"], [0.4444444444444444, \"#bd3786\"], [0.5555555555555556, \"#d8576b\"], [0.6666666666666666, \"#ed7953\"], [0.7777777777777778, \"#fb9f3a\"], [0.8888888888888888, \"#fdca26\"], [1.0, \"#f0f921\"]], \"type\": \"histogram2dcontour\"}], \"mesh3d\": [{\"colorbar\": {\"outlinewidth\": 0, \"ticks\": \"\"}, \"type\": \"mesh3d\"}], \"parcoords\": [{\"line\": {\"colorbar\": {\"outlinewidth\": 0, \"ticks\": \"\"}}, \"type\": \"parcoords\"}], \"pie\": [{\"automargin\": true, \"type\": \"pie\"}], \"scatter\": [{\"marker\": {\"colorbar\": {\"outlinewidth\": 0, \"ticks\": \"\"}}, \"type\": \"scatter\"}], \"scatter3d\": [{\"line\": {\"colorbar\": {\"outlinewidth\": 0, \"ticks\": \"\"}}, \"marker\": {\"colorbar\": {\"outlinewidth\": 0, \"ticks\": \"\"}}, \"type\": \"scatter3d\"}], \"scattercarpet\": [{\"marker\": {\"colorbar\": {\"outlinewidth\": 0, \"ticks\": \"\"}}, \"type\": \"scattercarpet\"}], \"scattergeo\": [{\"marker\": {\"colorbar\": {\"outlinewidth\": 0, \"ticks\": \"\"}}, \"type\": \"scattergeo\"}], \"scattergl\": [{\"marker\": {\"colorbar\": {\"outlinewidth\": 0, \"ticks\": \"\"}}, \"type\": \"scattergl\"}], \"scattermapbox\": [{\"marker\": {\"colorbar\": {\"outlinewidth\": 0, \"ticks\": \"\"}}, \"type\": \"scattermapbox\"}], \"scatterpolar\": [{\"marker\": {\"colorbar\": {\"outlinewidth\": 0, \"ticks\": \"\"}}, \"type\": \"scatterpolar\"}], \"scatterpolargl\": [{\"marker\": {\"colorbar\": {\"outlinewidth\": 0, \"ticks\": \"\"}}, \"type\": \"scatterpolargl\"}], \"scatterternary\": [{\"marker\": {\"colorbar\": {\"outlinewidth\": 0, \"ticks\": \"\"}}, \"type\": \"scatterternary\"}], \"surface\": [{\"colorbar\": {\"outlinewidth\": 0, \"ticks\": \"\"}, \"colorscale\": [[0.0, \"#0d0887\"], [0.1111111111111111, \"#46039f\"], [0.2222222222222222, \"#7201a8\"], [0.3333333333333333, \"#9c179e\"], [0.4444444444444444, \"#bd3786\"], [0.5555555555555556, \"#d8576b\"], [0.6666666666666666, \"#ed7953\"], [0.7777777777777778, \"#fb9f3a\"], [0.8888888888888888, \"#fdca26\"], [1.0, \"#f0f921\"]], \"type\": \"surface\"}], \"table\": [{\"cells\": {\"fill\": {\"color\": \"#EBF0F8\"}, \"line\": {\"color\": \"white\"}}, \"header\": {\"fill\": {\"color\": \"#C8D4E3\"}, \"line\": {\"color\": \"white\"}}, \"type\": \"table\"}]}, \"layout\": {\"annotationdefaults\": {\"arrowcolor\": \"#2a3f5f\", \"arrowhead\": 0, \"arrowwidth\": 1}, \"coloraxis\": {\"colorbar\": {\"outlinewidth\": 0, \"ticks\": \"\"}}, \"colorscale\": {\"diverging\": [[0, \"#8e0152\"], [0.1, \"#c51b7d\"], [0.2, \"#de77ae\"], [0.3, \"#f1b6da\"], [0.4, \"#fde0ef\"], [0.5, \"#f7f7f7\"], [0.6, \"#e6f5d0\"], [0.7, \"#b8e186\"], [0.8, \"#7fbc41\"], [0.9, \"#4d9221\"], [1, \"#276419\"]], \"sequential\": [[0.0, \"#0d0887\"], [0.1111111111111111, \"#46039f\"], [0.2222222222222222, \"#7201a8\"], [0.3333333333333333, \"#9c179e\"], [0.4444444444444444, \"#bd3786\"], [0.5555555555555556, \"#d8576b\"], [0.6666666666666666, \"#ed7953\"], [0.7777777777777778, \"#fb9f3a\"], [0.8888888888888888, \"#fdca26\"], [1.0, \"#f0f921\"]], \"sequentialminus\": [[0.0, \"#0d0887\"], [0.1111111111111111, \"#46039f\"], [0.2222222222222222, \"#7201a8\"], [0.3333333333333333, \"#9c179e\"], [0.4444444444444444, \"#bd3786\"], [0.5555555555555556, \"#d8576b\"], [0.6666666666666666, \"#ed7953\"], [0.7777777777777778, \"#fb9f3a\"], [0.8888888888888888, \"#fdca26\"], [1.0, \"#f0f921\"]]}, \"colorway\": [\"#636efa\", \"#EF553B\", \"#00cc96\", \"#ab63fa\", \"#FFA15A\", \"#19d3f3\", \"#FF6692\", \"#B6E880\", \"#FF97FF\", \"#FECB52\"], \"font\": {\"color\": \"#2a3f5f\"}, \"geo\": {\"bgcolor\": \"white\", \"lakecolor\": \"white\", \"landcolor\": \"#E5ECF6\", \"showlakes\": true, \"showland\": true, \"subunitcolor\": \"white\"}, \"hoverlabel\": {\"align\": \"left\"}, \"hovermode\": \"closest\", \"mapbox\": {\"style\": \"light\"}, \"paper_bgcolor\": \"white\", \"plot_bgcolor\": \"#E5ECF6\", \"polar\": {\"angularaxis\": {\"gridcolor\": \"white\", \"linecolor\": \"white\", \"ticks\": \"\"}, \"bgcolor\": \"#E5ECF6\", \"radialaxis\": {\"gridcolor\": \"white\", \"linecolor\": \"white\", \"ticks\": \"\"}}, \"scene\": {\"xaxis\": {\"backgroundcolor\": \"#E5ECF6\", \"gridcolor\": \"white\", \"gridwidth\": 2, \"linecolor\": \"white\", \"showbackground\": true, \"ticks\": \"\", \"zerolinecolor\": \"white\"}, \"yaxis\": {\"backgroundcolor\": \"#E5ECF6\", \"gridcolor\": \"white\", \"gridwidth\": 2, \"linecolor\": \"white\", \"showbackground\": true, \"ticks\": \"\", \"zerolinecolor\": \"white\"}, \"zaxis\": {\"backgroundcolor\": \"#E5ECF6\", \"gridcolor\": \"white\", \"gridwidth\": 2, \"linecolor\": \"white\", \"showbackground\": true, \"ticks\": \"\", \"zerolinecolor\": \"white\"}}, \"shapedefaults\": {\"line\": {\"color\": \"#2a3f5f\"}}, \"ternary\": {\"aaxis\": {\"gridcolor\": \"white\", \"linecolor\": \"white\", \"ticks\": \"\"}, \"baxis\": {\"gridcolor\": \"white\", \"linecolor\": \"white\", \"ticks\": \"\"}, \"bgcolor\": \"#E5ECF6\", \"caxis\": {\"gridcolor\": \"white\", \"linecolor\": \"white\", \"ticks\": \"\"}}, \"title\": {\"x\": 0.05}, \"xaxis\": {\"automargin\": true, \"gridcolor\": \"white\", \"linecolor\": \"white\", \"ticks\": \"\", \"title\": {\"standoff\": 15}, \"zerolinecolor\": \"white\", \"zerolinewidth\": 2}, \"yaxis\": {\"automargin\": true, \"gridcolor\": \"white\", \"linecolor\": \"white\", \"ticks\": \"\", \"title\": {\"standoff\": 15}, \"zerolinecolor\": \"white\", \"zerolinewidth\": 2}}}, \"title\": {\"text\": \"School Shootings\"}, \"xaxis\": {\"anchor\": \"y\", \"domain\": [0.0, 1.0], \"title\": {\"text\": \"Indexed Shootings\"}}, \"yaxis\": {\"anchor\": \"x\", \"domain\": [0.0, 1.0], \"title\": {\"text\": \"logPop\"}}},\n",
       "                        {\"responsive\": true}\n",
       "                    ).then(function(){\n",
       "                            \n",
       "var gd = document.getElementById('433c2cab-98c6-451f-a423-eca4207977d0');\n",
       "var x = new MutationObserver(function (mutations, observer) {{\n",
       "        var display = window.getComputedStyle(gd).display;\n",
       "        if (!display || display === 'none') {{\n",
       "            console.log([gd, 'removed!']);\n",
       "            Plotly.purge(gd);\n",
       "            observer.disconnect();\n",
       "        }}\n",
       "}});\n",
       "\n",
       "// Listen for the removal of the full notebook cells\n",
       "var notebookContainer = gd.closest('#notebook-container');\n",
       "if (notebookContainer) {{\n",
       "    x.observe(notebookContainer, {childList: true});\n",
       "}}\n",
       "\n",
       "// Listen for the clearing of the current output cell\n",
       "var outputEl = gd.closest('.output');\n",
       "if (outputEl) {{\n",
       "    x.observe(outputEl, {childList: true});\n",
       "}}\n",
       "\n",
       "                        })\n",
       "                };\n",
       "                });\n",
       "            </script>\n",
       "        </div>"
      ]
     },
     "metadata": {},
     "output_type": "display_data"
    }
   ],
   "source": [
    "def plot_results(data):\n",
    "    casualties = [0]*269\n",
    "    pop = [0]*269\n",
    "    mention = [0]*269\n",
    "    for i in range(len(data)):\n",
    "        row = data.iloc[i]\n",
    "        casualties[i] += (int(row[\"Deaths\"]) + int(row[\"Injuries\"]))\n",
    "        nums = row[\"Population\"].split(\",\")\n",
    "        num = \"\"\n",
    "        for j in nums:\n",
    "            num += j\n",
    "        num = int(num)\n",
    "        pop[i] = np.log(num)\n",
    "        if row[\"City Mentioned\"]:\n",
    "            mention[i] = \"True\"\n",
    "        else:\n",
    "            mention[i] = \"False\"\n",
    "    f = {\"Number of Deaths and Injuries\": casualties, \\\n",
    "         \"Shooting Mentioned on Page\": mention, \"Indexed Shootings\" : range(0, 269),\\\n",
    "        \"logPop\":pop}\n",
    "    d = pd.DataFrame(f)\n",
    "    #print(d)\n",
    "    fig = px.scatter(d, x=\"Indexed Shootings\", y=\"logPop\", size=\"Number of Deaths and Injuries\",\\\n",
    "                     title=\"School Shootings\", color=\"Shooting Mentioned on Page\")\n",
    "    return fig\n",
    "fig = plot_results(masterdf)\n",
    "fig.show()"
   ]
  },
  {
   "cell_type": "markdown",
   "metadata": {},
   "source": [
    "# Scraping New York Times Articles\n",
    "\n",
    "Now that we have significant numerical data on these events, let's gauge the impact these events have had on society. We're going to measure societal significance by media coverage of the event, primarily focusing on the number of articles published regarding the event. A larger number of articles published reflects a larger societal impact, while a small number of articles reflects a smaller societal impact. In order to consider the initial and immediate impact, we will only be looking at articles published within a month of the event date."
   ]
  },
  {
   "cell_type": "code",
   "execution_count": null,
   "metadata": {},
   "outputs": [],
   "source": [
    "def format_date(date):\n",
    "    #format datetime date to be a YYYYMMDD integer\n",
    "    if date.month < 10 and date.day<10:\n",
    "        date = '%d0%d%0d'%(date.year,date.month,date.day)\n",
    "        return int(date)\n",
    "    elif date.month < 10:\n",
    "        date = '%d0%d%d'%(date.year,date.month,date.day)\n",
    "        return int(date)\n",
    "    elif date.month < 10:\n",
    "        date = '%d%d0%d'%(date.year,date.month,date.day)\n",
    "        return int(date)\n",
    "    else:\n",
    "        date = '%d%d%d'%(date.year,date.month,date.day)\n",
    "        return int(date)\n",
    "\n",
    "def count_articles(location,event_date):\n",
    "    #start_date = datetime.strptime(event_date,'%B %d, %Y')\n",
    "    end_date = event_date + timedelta(days=30)\n",
    "    \n",
    "    start_date = format_date(event_date)\n",
    "    end_date = format_date(end_date)\n",
    "    \n",
    "    api_key = open('nyt_api_key.txt', 'r').readlines()[0]\n",
    "    query = '%s School Shooting'%location\n",
    "    \n",
    "    url = 'https://api.nytimes.com/svc/search/v2/articlesearch.json?q= %s&api-key=%s&begin_date=%d&end_date=%d'%(query,api_key,start_date,end_date)\n",
    "    \n",
    "    request = rq.get(url)\n",
    "    json_data = request.json()\n",
    "    \n",
    "    # failsafe in case too many requests made\n",
    "    if 'response' not in json_data.keys():\n",
    "        print('sleeping...')\n",
    "        time.sleep(15)\n",
    "        return count_articles(location,event_date)\n",
    "    num_articles = json_data['response']['meta']['hits']\n",
    "    return num_articles\n",
    "    "
   ]
  },
  {
   "cell_type": "code",
   "execution_count": null,
   "metadata": {},
   "outputs": [],
   "source": [
    "def add_article_data(df):\n",
    "    article_data = []\n",
    "    for i, row in df.iterrows():\n",
    "        location = row['Location']\n",
    "        event_date = row['Date']\n",
    "        print(location,event_date)\n",
    "        num_articles = count_articles(location,event_date)\n",
    "        article_data.append(num_articles)\n",
    "        time.sleep(2)\n",
    "    df['Number of Articles Published'] = article_data\n",
    "\n",
    "add_article_data(school_shootings)\n",
    "    "
   ]
  },
  {
   "cell_type": "code",
   "execution_count": null,
   "metadata": {},
   "outputs": [],
   "source": []
  },
  {
   "cell_type": "code",
   "execution_count": null,
   "metadata": {},
   "outputs": [],
   "source": []
  }
 ],
 "metadata": {
  "kernelspec": {
   "display_name": "Python 3",
   "language": "python",
   "name": "python3"
  },
  "language_info": {
   "codemirror_mode": {
    "name": "ipython",
    "version": 3
   },
   "file_extension": ".py",
   "mimetype": "text/x-python",
   "name": "python",
   "nbconvert_exporter": "python",
   "pygments_lexer": "ipython3",
   "version": "3.6.9"
  }
 },
 "nbformat": 4,
 "nbformat_minor": 2
}
